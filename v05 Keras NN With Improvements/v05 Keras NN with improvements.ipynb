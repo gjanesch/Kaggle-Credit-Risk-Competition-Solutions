{
 "cells": [
  {
   "cell_type": "code",
   "execution_count": 7,
   "metadata": {},
   "outputs": [],
   "source": [
    "# Solution attempt 5: neural network with improvements\n",
    "# Final submission: 2018-06-21\n",
    "# Submission score: 0.719\n",
    "\n",
    "# This is intended to be a basic neural network thrown at the problem, with\n",
    "# about the same level of preprocessing as the v01 logistic regression model did."
   ]
  },
  {
   "cell_type": "code",
   "execution_count": 1,
   "metadata": {},
   "outputs": [
    {
     "name": "stderr",
     "output_type": "stream",
     "text": [
      "/home/greg/.local/lib/python3.6/site-packages/h5py/__init__.py:36: FutureWarning: Conversion of the second argument of issubdtype from `float` to `np.floating` is deprecated. In future, it will be treated as `np.float64 == np.dtype(float).type`.\n",
      "  from ._conv import register_converters as _register_converters\n",
      "Using TensorFlow backend.\n"
     ]
    }
   ],
   "source": [
    "import numpy as np\n",
    "#import keras\n",
    "import pandas as pd\n",
    "import feather\n",
    "import re\n",
    "from keras.models import Sequential\n",
    "from keras.layers import Dense, Dropout"
   ]
  },
  {
   "cell_type": "code",
   "execution_count": 2,
   "metadata": {},
   "outputs": [],
   "source": [
    "def has_NAs(pd_series):\n",
    "    return pd_series.isnull().values.any()\n",
    "\n",
    "# This is deleting stuff that it shouldn't\n",
    "def string_col_to_onehot(df, col_name):\n",
    "    dummy_cols = pd.get_dummies(df[col_name], drop_first = True, prefix = col_name)\n",
    "    df.drop(columns = [col_name], inplace = True)\n",
    "    return(pd.concat([df, dummy_cols], axis = 1))"
   ]
  },
  {
   "cell_type": "code",
   "execution_count": 103,
   "metadata": {},
   "outputs": [],
   "source": [
    "train = pd.read_feather(\"./../Data Files/application_train.feather\")\n",
    "test = pd.read_feather(\"./../Data Files/application_test.feather\")"
   ]
  },
  {
   "cell_type": "code",
   "execution_count": 104,
   "metadata": {},
   "outputs": [],
   "source": [
    "target = train[\"TARGET\"]\n",
    "train.drop(\"TARGET\", inplace = True, axis = 1)\n",
    "train_rows = len(train)\n",
    "test_IDs = test[\"SK_ID_CURR\"]"
   ]
  },
  {
   "cell_type": "code",
   "execution_count": 114,
   "metadata": {},
   "outputs": [],
   "source": [
    "all_data = pd.concat([train,test], ignore_index = True)"
   ]
  },
  {
   "cell_type": "code",
   "execution_count": 115,
   "metadata": {
    "scrolled": true
   },
   "outputs": [],
   "source": [
    "# These operations are a bit more consistent if they're done on the training & test sets together\n",
    "building_info_columns = [c for c in train.columns.tolist() if re.search(\"_AVG$|_MODE$|_MEDI$\", c)]\n",
    "other_columns_to_remove = [\"EXT_SOURCE_1\",\"EXT_SOURCE_3\",\"OWN_CAR_AGE\"]#,\"NAME_TYPE_SUITE\"]\n",
    "\n",
    "all_data.drop(building_info_columns + other_columns_to_remove, inplace = True, axis = 1)\n",
    "\n",
    "# NEW STUFF\n",
    "all_data[\"CREDIT_INCOME_RATIO\"] = all_data[\"AMT_CREDIT\"] / all_data[\"AMT_INCOME_TOTAL\"]\n",
    "all_data[\"INCOME_PER_HEAD\"] = all_data[\"AMT_INCOME_TOTAL\"] / all_data[\"CNT_FAM_MEMBERS\"]\n",
    "all_data[\"ANNUITY_INCOME_RATIO\"] = all_data[\"AMT_ANNUITY\"] / all_data[\"AMT_INCOME_TOTAL\"]\n",
    "\n",
    "all_data[\"AMT_INCOME_TOTAL\"] = np.log10(all_data[\"AMT_INCOME_TOTAL\"])\n",
    "\n",
    "conditions = [all_data[\"CNT_CHILDREN\"] == 0, all_data[\"CNT_CHILDREN\"] == 1, all_data[\"CNT_CHILDREN\"] >= 2]\n",
    "choices = [\"0\",\"1\",\"2+\"]\n",
    "all_data[\"CNT_CHILDREN\"] = np.select(conditions, choices)\n",
    "\n",
    "object_cols = [col for col in all_data.columns if all_data[col].dtype == \"O\"]\n",
    "for oc in object_cols:\n",
    "    all_data = string_col_to_onehot(all_data, oc)"
   ]
  },
  {
   "cell_type": "code",
   "execution_count": 116,
   "metadata": {},
   "outputs": [],
   "source": [
    "# Add data from bureau file\n",
    "bureau = pd.read_feather(\"./../Data Files/bureau.feather\")\n",
    "bureau_sub = bureau.groupby(\"SK_ID_CURR\").agg({\"CREDIT_DAY_OVERDUE\":lambda x: 1*any(x > 0)})\n",
    "bureau_sub[\"CREDIT_COUNT\"] = bureau.groupby(\"SK_ID_CURR\").size()\n",
    "bureau_sub.reset_index(inplace = True)\n",
    "bureau_sub.rename(columns = {\"CREDIT_DAY_OVERDUE\":\"ANY_OVERDUE\"}, inplace = True)\n",
    "\n",
    "all_data = all_data.join(bureau_sub.set_index(\"SK_ID_CURR\"), on = \"SK_ID_CURR\").fillna(0)\n",
    "del bureau, bureau_sub"
   ]
  },
  {
   "cell_type": "code",
   "execution_count": 36,
   "metadata": {},
   "outputs": [
    {
     "data": {
      "text/plain": [
       "278"
      ]
     },
     "execution_count": 36,
     "metadata": {},
     "output_type": "execute_result"
    }
   ],
   "source": [
    "sum(all_data[\"AMT_GOODS_PRICE\"] == 0)"
   ]
  },
  {
   "cell_type": "code",
   "execution_count": 117,
   "metadata": {},
   "outputs": [],
   "source": [
    "# Add data from previous_application\n",
    "prev_application = pd.read_feather(\"./../Data Files/previous_application.feather\")\n",
    "\n",
    "prev_app_sub = prev_application.groupby(\"SK_ID_CURR\").NAME_CONTRACT_STATUS.value_counts()\n",
    "prev_app_sub = prev_app_sub.unstack(\"NAME_CONTRACT_STATUS\")\n",
    "prev_app_sub.drop([\"Unused offer\", \"Canceled\"], inplace = True, axis = 1)\n",
    "prev_app_sub.fillna(value = 0, inplace = True)\n",
    "prev_app_sub.rename(columns = {\"Approved\":\"NUMBER_APPROVED\", \"Refused\":\"NUMBER_REFUSED\"}, inplace = True)\n",
    "prev_app_sub[\"NUMBER_APPLICATIONS\"] = prev_application.groupby(\"SK_ID_CURR\").size()\n",
    "\n",
    "all_data = all_data.join(prev_app_sub, on = \"SK_ID_CURR\").fillna(0)\n",
    "del prev_application, prev_app_sub"
   ]
  },
  {
   "cell_type": "code",
   "execution_count": 118,
   "metadata": {},
   "outputs": [],
   "source": [
    "# Add credit card balance data\n",
    "cc_balance = pd.read_feather(\"./../Data Files/credit_card_balance.feather\")\n",
    "cc_balance_grouped = cc_balance.groupby(\"SK_ID_CURR\")\n",
    "cc_balance_sub = cc_balance_grouped.agg({\"SK_DPD_DEF\":lambda x: sum(x != 0), \"AMT_CREDIT_LIMIT_ACTUAL\":max,\n",
    "                                         \"SK_ID_PREV\":lambda x: len(x.unique()), \"AMT_BALANCE\":max})\n",
    "cc_balance_sub.rename(columns = {\"SK_DPD_DEF\":\"NUM_LATE_CC_PAYMENTS\",\n",
    "                                 \"AMT_CREDIT_LIMIT_ACTUAL\":\"MAX_CREDIT_LIMIT\",\n",
    "                                 \"SK_ID_PREV\":\"NUM_PREV_CC_LOANS\",\n",
    "                                 \"AMT_BALANCE\":\"MAX_BALANCE\"}, inplace = True)\n",
    "cc_balance_sub[\"AVG_CC_BALANCE\"] = cc_balance_grouped[\"AMT_BALANCE\"].mean()\n",
    "\n",
    "all_data = all_data.join(cc_balance_sub, on = \"SK_ID_CURR\").fillna(0)\n",
    "del cc_balance, cc_balance_grouped, cc_balance_sub"
   ]
  },
  {
   "cell_type": "code",
   "execution_count": 119,
   "metadata": {},
   "outputs": [],
   "source": [
    "# Add installments_payments.csv data\n",
    "install_paym = pd.read_feather(\"./../Data Files/installments_payments.feather\")\n",
    "install_paym[\"AMT_PAYMENT\"].fillna(value = install_paym[\"AMT_INSTALMENT\"], inplace = True)\n",
    "install_paym[\"DAYS_ENTRY_PAYMENT\"].fillna(value = install_paym[\"DAYS_INSTALMENT\"], inplace = True)\n",
    "\n",
    "install_paym[\"PAYMENT_UNDER\"] = install_paym[\"AMT_PAYMENT\"] < install_paym[\"AMT_INSTALMENT\"]\n",
    "install_paym[\"DAYS_OFF_PAYMENT\"] = install_paym[\"DAYS_INSTALMENT\"] - install_paym[\"DAYS_ENTRY_PAYMENT\"]\n",
    "install_paym[\"PAYMENT_LATE\"] = install_paym[\"DAYS_ENTRY_PAYMENT\"] > install_paym[\"DAYS_INSTALMENT\"]\n",
    "\n",
    "\n",
    "install_paym_sub = install_paym.groupby(\"SK_ID_CURR\").agg({\"PAYMENT_UNDER\":sum, \"PAYMENT_LATE\":sum, \"AMT_PAYMENT\":[min,max],\"DAYS_OFF_PAYMENT\":[min,max]})\n",
    "install_paym_sub.columns = [\"NUM_PAYMENTS_UNDER\",\"NUM_PAYMENTS_LATE\",\"MIN_PAYMENT\",\"MAX_PAYMENT\",\"BEST_PAYMENT_DATE\",\"WORST_PAYMENT_DATE\"]\n",
    "\n",
    "all_data = all_data.join(install_paym_sub, on = \"SK_ID_CURR\").fillna(0)\n",
    "\n",
    "del install_paym, install_paym_sub"
   ]
  },
  {
   "cell_type": "code",
   "execution_count": 120,
   "metadata": {},
   "outputs": [],
   "source": [
    "# Add POS_CASH_balance.csv data\n",
    "POS_cash = pd.read_feather(\"./../Data Files/POS_CASH_balance.feather\")\n",
    "POS_cash_sub = POS_cash.groupby(\"SK_ID_CURR\").agg({\"SK_DPD_DEF\":lambda x: sum(x == 1)})\n",
    "POS_cash_sub.columns = [\"NUM_LATE_POS_PAYMENTS\"]\n",
    "POS_cash_sub.head()\n",
    "\n",
    "all_data = all_data.join(POS_cash_sub, on = \"SK_ID_CURR\").fillna(0)\n",
    "\n",
    "del POS_cash\n",
    "del POS_cash_sub"
   ]
  },
  {
   "cell_type": "code",
   "execution_count": 61,
   "metadata": {},
   "outputs": [
    {
     "data": {
      "text/html": [
       "<div>\n",
       "<style scoped>\n",
       "    .dataframe tbody tr th:only-of-type {\n",
       "        vertical-align: middle;\n",
       "    }\n",
       "\n",
       "    .dataframe tbody tr th {\n",
       "        vertical-align: top;\n",
       "    }\n",
       "\n",
       "    .dataframe thead th {\n",
       "        text-align: right;\n",
       "    }\n",
       "</style>\n",
       "<table border=\"1\" class=\"dataframe\">\n",
       "  <thead>\n",
       "    <tr style=\"text-align: right;\">\n",
       "      <th></th>\n",
       "      <th>SK_ID_CURR</th>\n",
       "      <th>AMT_INCOME_TOTAL</th>\n",
       "      <th>AMT_CREDIT</th>\n",
       "      <th>AMT_ANNUITY</th>\n",
       "      <th>AMT_GOODS_PRICE</th>\n",
       "      <th>REGION_POPULATION_RELATIVE</th>\n",
       "      <th>DAYS_BIRTH</th>\n",
       "      <th>DAYS_EMPLOYED</th>\n",
       "      <th>DAYS_REGISTRATION</th>\n",
       "      <th>DAYS_ID_PUBLISH</th>\n",
       "      <th>...</th>\n",
       "      <th>ORGANIZATION_TYPE_Trade: type 4</th>\n",
       "      <th>ORGANIZATION_TYPE_Trade: type 5</th>\n",
       "      <th>ORGANIZATION_TYPE_Trade: type 6</th>\n",
       "      <th>ORGANIZATION_TYPE_Trade: type 7</th>\n",
       "      <th>ORGANIZATION_TYPE_Transport: type 1</th>\n",
       "      <th>ORGANIZATION_TYPE_Transport: type 2</th>\n",
       "      <th>ORGANIZATION_TYPE_Transport: type 3</th>\n",
       "      <th>ORGANIZATION_TYPE_Transport: type 4</th>\n",
       "      <th>ORGANIZATION_TYPE_University</th>\n",
       "      <th>ORGANIZATION_TYPE_XNA</th>\n",
       "    </tr>\n",
       "  </thead>\n",
       "  <tbody>\n",
       "    <tr>\n",
       "      <th>0</th>\n",
       "      <td>100002</td>\n",
       "      <td>5.306425</td>\n",
       "      <td>406597.5</td>\n",
       "      <td>24700.5</td>\n",
       "      <td>351000.0</td>\n",
       "      <td>0.018801</td>\n",
       "      <td>-9461</td>\n",
       "      <td>-637</td>\n",
       "      <td>-3648.0</td>\n",
       "      <td>-2120</td>\n",
       "      <td>...</td>\n",
       "      <td>0</td>\n",
       "      <td>0</td>\n",
       "      <td>0</td>\n",
       "      <td>0</td>\n",
       "      <td>0</td>\n",
       "      <td>0</td>\n",
       "      <td>0</td>\n",
       "      <td>0</td>\n",
       "      <td>0</td>\n",
       "      <td>0</td>\n",
       "    </tr>\n",
       "    <tr>\n",
       "      <th>1</th>\n",
       "      <td>100003</td>\n",
       "      <td>5.431364</td>\n",
       "      <td>1293502.5</td>\n",
       "      <td>35698.5</td>\n",
       "      <td>1129500.0</td>\n",
       "      <td>0.003541</td>\n",
       "      <td>-16765</td>\n",
       "      <td>-1188</td>\n",
       "      <td>-1186.0</td>\n",
       "      <td>-291</td>\n",
       "      <td>...</td>\n",
       "      <td>0</td>\n",
       "      <td>0</td>\n",
       "      <td>0</td>\n",
       "      <td>0</td>\n",
       "      <td>0</td>\n",
       "      <td>0</td>\n",
       "      <td>0</td>\n",
       "      <td>0</td>\n",
       "      <td>0</td>\n",
       "      <td>0</td>\n",
       "    </tr>\n",
       "    <tr>\n",
       "      <th>2</th>\n",
       "      <td>100004</td>\n",
       "      <td>4.829304</td>\n",
       "      <td>135000.0</td>\n",
       "      <td>6750.0</td>\n",
       "      <td>135000.0</td>\n",
       "      <td>0.010032</td>\n",
       "      <td>-19046</td>\n",
       "      <td>-225</td>\n",
       "      <td>-4260.0</td>\n",
       "      <td>-2531</td>\n",
       "      <td>...</td>\n",
       "      <td>0</td>\n",
       "      <td>0</td>\n",
       "      <td>0</td>\n",
       "      <td>0</td>\n",
       "      <td>0</td>\n",
       "      <td>0</td>\n",
       "      <td>0</td>\n",
       "      <td>0</td>\n",
       "      <td>0</td>\n",
       "      <td>0</td>\n",
       "    </tr>\n",
       "    <tr>\n",
       "      <th>3</th>\n",
       "      <td>100006</td>\n",
       "      <td>5.130334</td>\n",
       "      <td>312682.5</td>\n",
       "      <td>29686.5</td>\n",
       "      <td>297000.0</td>\n",
       "      <td>0.008019</td>\n",
       "      <td>-19005</td>\n",
       "      <td>-3039</td>\n",
       "      <td>-9833.0</td>\n",
       "      <td>-2437</td>\n",
       "      <td>...</td>\n",
       "      <td>0</td>\n",
       "      <td>0</td>\n",
       "      <td>0</td>\n",
       "      <td>0</td>\n",
       "      <td>0</td>\n",
       "      <td>0</td>\n",
       "      <td>0</td>\n",
       "      <td>0</td>\n",
       "      <td>0</td>\n",
       "      <td>0</td>\n",
       "    </tr>\n",
       "    <tr>\n",
       "      <th>4</th>\n",
       "      <td>100007</td>\n",
       "      <td>5.084576</td>\n",
       "      <td>513000.0</td>\n",
       "      <td>21865.5</td>\n",
       "      <td>513000.0</td>\n",
       "      <td>0.028663</td>\n",
       "      <td>-19932</td>\n",
       "      <td>-3038</td>\n",
       "      <td>-4311.0</td>\n",
       "      <td>-3458</td>\n",
       "      <td>...</td>\n",
       "      <td>0</td>\n",
       "      <td>0</td>\n",
       "      <td>0</td>\n",
       "      <td>0</td>\n",
       "      <td>0</td>\n",
       "      <td>0</td>\n",
       "      <td>0</td>\n",
       "      <td>0</td>\n",
       "      <td>0</td>\n",
       "      <td>0</td>\n",
       "    </tr>\n",
       "  </tbody>\n",
       "</table>\n",
       "<p>5 rows × 172 columns</p>\n",
       "</div>"
      ],
      "text/plain": [
       "   SK_ID_CURR  AMT_INCOME_TOTAL  AMT_CREDIT  AMT_ANNUITY  AMT_GOODS_PRICE  \\\n",
       "0      100002          5.306425    406597.5      24700.5         351000.0   \n",
       "1      100003          5.431364   1293502.5      35698.5        1129500.0   \n",
       "2      100004          4.829304    135000.0       6750.0         135000.0   \n",
       "3      100006          5.130334    312682.5      29686.5         297000.0   \n",
       "4      100007          5.084576    513000.0      21865.5         513000.0   \n",
       "\n",
       "   REGION_POPULATION_RELATIVE  DAYS_BIRTH  DAYS_EMPLOYED  DAYS_REGISTRATION  \\\n",
       "0                    0.018801       -9461           -637            -3648.0   \n",
       "1                    0.003541      -16765          -1188            -1186.0   \n",
       "2                    0.010032      -19046           -225            -4260.0   \n",
       "3                    0.008019      -19005          -3039            -9833.0   \n",
       "4                    0.028663      -19932          -3038            -4311.0   \n",
       "\n",
       "   DAYS_ID_PUBLISH          ...            ORGANIZATION_TYPE_Trade: type 4  \\\n",
       "0            -2120          ...                                          0   \n",
       "1             -291          ...                                          0   \n",
       "2            -2531          ...                                          0   \n",
       "3            -2437          ...                                          0   \n",
       "4            -3458          ...                                          0   \n",
       "\n",
       "   ORGANIZATION_TYPE_Trade: type 5  ORGANIZATION_TYPE_Trade: type 6  \\\n",
       "0                                0                                0   \n",
       "1                                0                                0   \n",
       "2                                0                                0   \n",
       "3                                0                                0   \n",
       "4                                0                                0   \n",
       "\n",
       "   ORGANIZATION_TYPE_Trade: type 7  ORGANIZATION_TYPE_Transport: type 1  \\\n",
       "0                                0                                    0   \n",
       "1                                0                                    0   \n",
       "2                                0                                    0   \n",
       "3                                0                                    0   \n",
       "4                                0                                    0   \n",
       "\n",
       "   ORGANIZATION_TYPE_Transport: type 2  ORGANIZATION_TYPE_Transport: type 3  \\\n",
       "0                                    0                                    0   \n",
       "1                                    0                                    0   \n",
       "2                                    0                                    0   \n",
       "3                                    0                                    0   \n",
       "4                                    0                                    0   \n",
       "\n",
       "   ORGANIZATION_TYPE_Transport: type 4  ORGANIZATION_TYPE_University  \\\n",
       "0                                    0                             0   \n",
       "1                                    0                             0   \n",
       "2                                    0                             0   \n",
       "3                                    0                             0   \n",
       "4                                    0                             0   \n",
       "\n",
       "   ORGANIZATION_TYPE_XNA  \n",
       "0                      0  \n",
       "1                      0  \n",
       "2                      0  \n",
       "3                      0  \n",
       "4                      0  \n",
       "\n",
       "[5 rows x 172 columns]"
      ]
     },
     "execution_count": 61,
     "metadata": {},
     "output_type": "execute_result"
    }
   ],
   "source": [
    "all_data.head()"
   ]
  },
  {
   "cell_type": "code",
   "execution_count": 63,
   "metadata": {},
   "outputs": [
    {
     "data": {
      "text/plain": [
       "['CNT_FAM_MEMBERS',\n",
       " 'OBS_30_CNT_SOCIAL_CIRCLE',\n",
       " 'DEF_30_CNT_SOCIAL_CIRCLE',\n",
       " 'OBS_60_CNT_SOCIAL_CIRCLE',\n",
       " 'DEF_60_CNT_SOCIAL_CIRCLE',\n",
       " 'CNT_CHILDREN_1',\n",
       " 'CNT_CHILDREN_2+']"
      ]
     },
     "execution_count": 63,
     "metadata": {},
     "output_type": "execute_result"
    }
   ],
   "source": [
    "[x for x in all_data.columns.tolist() if re.search(\"CNT\",x)]"
   ]
  },
  {
   "cell_type": "code",
   "execution_count": 121,
   "metadata": {},
   "outputs": [],
   "source": [
    "all_data.drop([\"SK_ID_CURR\"], axis = 1, inplace = True)"
   ]
  },
  {
   "cell_type": "code",
   "execution_count": null,
   "metadata": {},
   "outputs": [],
   "source": [
    "# Here's where the data processing ends and the NN training begins"
   ]
  },
  {
   "cell_type": "code",
   "execution_count": 122,
   "metadata": {},
   "outputs": [],
   "source": [
    "train = all_data.iloc[:train_rows,:].copy()\n",
    "test = all_data.iloc[train_rows:,:].copy()"
   ]
  },
  {
   "cell_type": "code",
   "execution_count": 123,
   "metadata": {},
   "outputs": [],
   "source": [
    "train.dropna(inplace = True)\n",
    "target = target[train.index]"
   ]
  },
  {
   "cell_type": "code",
   "execution_count": 18,
   "metadata": {
    "scrolled": true
   },
   "outputs": [],
   "source": [
    "for col in test.columns:\n",
    "    if test[col].isnull().sum() > 0:\n",
    "        if test[col].dtype == \"O\":\n",
    "            test[col] = test[col].fillna(\"Unknown\")\n",
    "        else:\n",
    "            test.loc[test[col].isnull(),col] = test[col].median(skipna = True)"
   ]
  },
  {
   "cell_type": "code",
   "execution_count": 124,
   "metadata": {
    "scrolled": true
   },
   "outputs": [
    {
     "name": "stdout",
     "output_type": "stream",
     "text": [
      "float64\n",
      "float64\n",
      "float64\n",
      "float64\n",
      "float64\n",
      "int64\n",
      "int64\n",
      "float64\n",
      "int64\n",
      "int64\n",
      "int64\n",
      "int64\n",
      "int64\n",
      "int64\n",
      "int64\n",
      "float64\n",
      "int64\n",
      "int64\n",
      "int64\n",
      "int64\n",
      "int64\n",
      "int64\n",
      "int64\n",
      "int64\n",
      "int64\n",
      "float64\n",
      "float64\n",
      "float64\n",
      "float64\n",
      "float64\n",
      "float64\n",
      "int64\n",
      "int64\n",
      "int64\n",
      "int64\n",
      "int64\n",
      "int64\n",
      "int64\n",
      "int64\n",
      "int64\n",
      "int64\n",
      "int64\n",
      "int64\n",
      "int64\n",
      "int64\n",
      "int64\n",
      "int64\n",
      "int64\n",
      "int64\n",
      "int64\n",
      "int64\n",
      "float64\n",
      "float64\n",
      "float64\n",
      "float64\n",
      "float64\n",
      "float64\n",
      "float64\n",
      "float64\n",
      "float64\n",
      "uint8\n",
      "uint8\n",
      "uint8\n",
      "uint8\n",
      "uint8\n",
      "uint8\n",
      "uint8\n",
      "uint8\n",
      "uint8\n",
      "uint8\n",
      "uint8\n",
      "uint8\n",
      "uint8\n",
      "uint8\n",
      "uint8\n",
      "uint8\n",
      "uint8\n",
      "uint8\n",
      "uint8\n",
      "uint8\n",
      "uint8\n",
      "uint8\n",
      "uint8\n",
      "uint8\n",
      "uint8\n",
      "uint8\n",
      "uint8\n",
      "uint8\n",
      "uint8\n",
      "uint8\n",
      "uint8\n",
      "uint8\n",
      "uint8\n",
      "uint8\n",
      "uint8\n",
      "uint8\n",
      "uint8\n",
      "uint8\n",
      "uint8\n",
      "uint8\n",
      "uint8\n",
      "uint8\n",
      "uint8\n",
      "uint8\n",
      "uint8\n",
      "uint8\n",
      "uint8\n",
      "uint8\n",
      "uint8\n",
      "uint8\n",
      "uint8\n",
      "uint8\n",
      "uint8\n",
      "uint8\n",
      "uint8\n",
      "uint8\n",
      "uint8\n",
      "uint8\n",
      "uint8\n",
      "uint8\n",
      "uint8\n",
      "uint8\n",
      "uint8\n",
      "uint8\n",
      "uint8\n",
      "uint8\n",
      "uint8\n",
      "uint8\n",
      "uint8\n",
      "uint8\n",
      "uint8\n",
      "uint8\n",
      "uint8\n",
      "uint8\n",
      "uint8\n",
      "uint8\n",
      "uint8\n",
      "uint8\n",
      "uint8\n",
      "uint8\n",
      "uint8\n",
      "uint8\n",
      "uint8\n",
      "uint8\n",
      "uint8\n",
      "uint8\n",
      "uint8\n",
      "uint8\n",
      "uint8\n",
      "uint8\n",
      "uint8\n",
      "uint8\n",
      "uint8\n",
      "uint8\n",
      "uint8\n",
      "uint8\n",
      "uint8\n",
      "uint8\n",
      "uint8\n",
      "uint8\n",
      "uint8\n",
      "uint8\n",
      "uint8\n",
      "uint8\n",
      "uint8\n",
      "uint8\n",
      "uint8\n",
      "uint8\n",
      "uint8\n",
      "uint8\n",
      "uint8\n",
      "uint8\n",
      "uint8\n",
      "uint8\n",
      "float64\n",
      "float64\n",
      "float64\n",
      "float64\n",
      "float64\n",
      "float64\n",
      "float64\n",
      "float64\n",
      "float64\n",
      "float64\n",
      "float64\n",
      "float64\n",
      "float64\n",
      "float64\n",
      "float64\n",
      "float64\n",
      "float64\n"
     ]
    }
   ],
   "source": [
    "for col in test.columns:\n",
    "    print(test[col].dtype)"
   ]
  },
  {
   "cell_type": "code",
   "execution_count": 125,
   "metadata": {},
   "outputs": [],
   "source": [
    "# Artificially increase the number of TARGET = 1 cases\n",
    "train2 = train.copy()\n",
    "train2 = pd.concat([train2, target], axis = 1)\n",
    "train2_real = train2.loc[target == 1,:]\n",
    "train2 = pd.concat([train2_real,train2,train2_real])\n",
    "train2 = train2.sample(frac = 1).reset_index(drop = True)\n",
    "target2 = train2[\"TARGET\"]\n",
    "train2.drop(\"TARGET\", axis = 1, inplace = True)"
   ]
  },
  {
   "cell_type": "code",
   "execution_count": 126,
   "metadata": {},
   "outputs": [],
   "source": [
    "from sklearn.preprocessing import StandardScaler\n",
    "sc = StandardScaler()\n",
    "train2 = sc.fit_transform(train2)"
   ]
  },
  {
   "cell_type": "code",
   "execution_count": 127,
   "metadata": {},
   "outputs": [],
   "source": [
    "split = int(len(train2)*0.8)\n",
    "train2_train, train2_test, target2_train, target2_test = train2[:split], train2[split:], target2[:split], target2[split:]"
   ]
  },
  {
   "cell_type": "code",
   "execution_count": 134,
   "metadata": {},
   "outputs": [],
   "source": [
    "#Best so far: 85-85-40 units, 0.35-0.35-0.25 dropout, batch size 2500, 35 epochs\n",
    "#AUC: 0.774799 train_train / 0.752438 train_test\n",
    "classifier = Sequential()\n",
    "classifier.add(Dense(units = 85, kernel_initializer = 'uniform', activation = 'relu', input_dim = train2.shape[1]))\n",
    "classifier.add(Dropout(rate = 0.35))\n",
    "classifier.add(Dense(units = 85, kernel_initializer = 'uniform', activation = 'relu', input_dim = train2.shape[1]))\n",
    "classifier.add(Dropout(rate = 0.35))\n",
    "classifier.add(Dense(units = 40, kernel_initializer = 'uniform', activation = 'relu', input_dim = train2.shape[1]))\n",
    "classifier.add(Dropout(rate = 0.25))\n",
    "classifier.add(Dense(units = 1, kernel_initializer = 'uniform', activation = 'sigmoid'))\n",
    "classifier.compile(optimizer = 'adam', loss = 'mean_squared_error', metrics = ['accuracy'])"
   ]
  },
  {
   "cell_type": "code",
   "execution_count": 135,
   "metadata": {
    "scrolled": true
   },
   "outputs": [
    {
     "name": "stdout",
     "output_type": "stream",
     "text": [
      "Epoch 1/35\n",
      "285728/285728 [==============================] - 2s 8us/step - loss: 0.1679 - acc: 0.7888\n",
      "Epoch 2/35\n",
      "285728/285728 [==============================] - 2s 6us/step - loss: 0.1469 - acc: 0.7920\n",
      "Epoch 3/35\n",
      "285728/285728 [==============================] - 2s 6us/step - loss: 0.1455 - acc: 0.7920\n",
      "Epoch 4/35\n",
      "285728/285728 [==============================] - 2s 6us/step - loss: 0.1446 - acc: 0.7968\n",
      "Epoch 5/35\n",
      "285728/285728 [==============================] - 2s 6us/step - loss: 0.1435 - acc: 0.8030\n",
      "Epoch 6/35\n",
      "285728/285728 [==============================] - 2s 6us/step - loss: 0.1429 - acc: 0.8051\n",
      "Epoch 7/35\n",
      "285728/285728 [==============================] - 2s 6us/step - loss: 0.1423 - acc: 0.8066\n",
      "Epoch 8/35\n",
      "285728/285728 [==============================] - 2s 6us/step - loss: 0.1418 - acc: 0.8076\n",
      "Epoch 9/35\n",
      "285728/285728 [==============================] - 2s 7us/step - loss: 0.1412 - acc: 0.8086\n",
      "Epoch 10/35\n",
      "285728/285728 [==============================] - 2s 6us/step - loss: 0.1410 - acc: 0.8094\n",
      "Epoch 11/35\n",
      "285728/285728 [==============================] - 2s 6us/step - loss: 0.1406 - acc: 0.8105\n",
      "Epoch 12/35\n",
      "285728/285728 [==============================] - 2s 6us/step - loss: 0.1403 - acc: 0.8106\n",
      "Epoch 13/35\n",
      "285728/285728 [==============================] - 2s 6us/step - loss: 0.1399 - acc: 0.8114\n",
      "Epoch 14/35\n",
      "285728/285728 [==============================] - 2s 6us/step - loss: 0.1398 - acc: 0.8119\n",
      "Epoch 15/35\n",
      "285728/285728 [==============================] - 2s 6us/step - loss: 0.1394 - acc: 0.8125\n",
      "Epoch 16/35\n",
      "285728/285728 [==============================] - 2s 6us/step - loss: 0.1390 - acc: 0.8130\n",
      "Epoch 17/35\n",
      "285728/285728 [==============================] - 2s 7us/step - loss: 0.1389 - acc: 0.8136\n",
      "Epoch 18/35\n",
      "285728/285728 [==============================] - 2s 6us/step - loss: 0.1386 - acc: 0.8138\n",
      "Epoch 19/35\n",
      "285728/285728 [==============================] - 2s 7us/step - loss: 0.1384 - acc: 0.8151\n",
      "Epoch 20/35\n",
      "285728/285728 [==============================] - 2s 6us/step - loss: 0.1382 - acc: 0.8149\n",
      "Epoch 21/35\n",
      "285728/285728 [==============================] - 2s 6us/step - loss: 0.1380 - acc: 0.8152\n",
      "Epoch 22/35\n",
      "285728/285728 [==============================] - 2s 6us/step - loss: 0.1378 - acc: 0.8161\n",
      "Epoch 23/35\n",
      "285728/285728 [==============================] - 2s 7us/step - loss: 0.1374 - acc: 0.8170\n",
      "Epoch 24/35\n",
      "285728/285728 [==============================] - 2s 6us/step - loss: 0.1371 - acc: 0.8167\n",
      "Epoch 25/35\n",
      "285728/285728 [==============================] - 2s 6us/step - loss: 0.1371 - acc: 0.8172\n",
      "Epoch 26/35\n",
      "285728/285728 [==============================] - 2s 6us/step - loss: 0.1369 - acc: 0.8175\n",
      "Epoch 27/35\n",
      "285728/285728 [==============================] - 2s 6us/step - loss: 0.1367 - acc: 0.8182\n",
      "Epoch 28/35\n",
      "285728/285728 [==============================] - 2s 6us/step - loss: 0.1369 - acc: 0.8177\n",
      "Epoch 29/35\n",
      "285728/285728 [==============================] - 2s 6us/step - loss: 0.1363 - acc: 0.8185\n",
      "Epoch 30/35\n",
      "285728/285728 [==============================] - 2s 6us/step - loss: 0.1364 - acc: 0.8183\n",
      "Epoch 31/35\n",
      "285728/285728 [==============================] - 2s 6us/step - loss: 0.1361 - acc: 0.8188\n",
      "Epoch 32/35\n",
      "285728/285728 [==============================] - 2s 6us/step - loss: 0.1361 - acc: 0.8196\n",
      "Epoch 33/35\n",
      "285728/285728 [==============================] - 2s 6us/step - loss: 0.1359 - acc: 0.8191\n",
      "Epoch 34/35\n",
      "285728/285728 [==============================] - 2s 6us/step - loss: 0.1358 - acc: 0.8196\n",
      "Epoch 35/35\n",
      "285728/285728 [==============================] - 2s 6us/step - loss: 0.1356 - acc: 0.8199\n"
     ]
    },
    {
     "data": {
      "text/plain": [
       "<keras.callbacks.History at 0x7ff01ab34160>"
      ]
     },
     "execution_count": 135,
     "metadata": {},
     "output_type": "execute_result"
    }
   ],
   "source": [
    "classifier.fit(train2_train, target2_train, batch_size = 2500, epochs = 35)"
   ]
  },
  {
   "cell_type": "code",
   "execution_count": 136,
   "metadata": {
    "scrolled": true
   },
   "outputs": [
    {
     "name": "stdout",
     "output_type": "stream",
     "text": [
      "Train ROC: 0.7747986222907894\n",
      "Test ROC: 0.7524384601382785\n"
     ]
    }
   ],
   "source": [
    "train2_test2 = sc.fit_transform(train2_test)\n",
    "train_predictions = classifier.predict(train2_train)\n",
    "test_predictions = classifier.predict(train2_test2)\n",
    "roc_train = roc_auc_score(target2_train, train_predictions)\n",
    "roc_test = roc_auc_score(target2_test, test_predictions)\n",
    "print(f\"Train ROC: {roc_train}\\nTest ROC: {roc_test}\")"
   ]
  },
  {
   "cell_type": "code",
   "execution_count": 26,
   "metadata": {},
   "outputs": [],
   "source": [
    "from sklearn.metrics import roc_auc_score"
   ]
  },
  {
   "cell_type": "code",
   "execution_count": 137,
   "metadata": {},
   "outputs": [],
   "source": [
    "data_predictions = classifier.predict(sc.fit_transform(test))"
   ]
  },
  {
   "cell_type": "code",
   "execution_count": 138,
   "metadata": {
    "scrolled": true
   },
   "outputs": [],
   "source": [
    "submission = pd.DataFrame({\"SK_ID_CURR\":test_IDs, \"TARGET\":np.reshape(data_predictions, newshape = (-1))})"
   ]
  },
  {
   "cell_type": "code",
   "execution_count": 139,
   "metadata": {},
   "outputs": [],
   "source": [
    "submission.to_csv(\"v05_predictions.csv\", index = False)"
   ]
  }
 ],
 "metadata": {
  "kernelspec": {
   "display_name": "Python 3",
   "language": "python",
   "name": "python3"
  },
  "language_info": {
   "codemirror_mode": {
    "name": "ipython",
    "version": 3
   },
   "file_extension": ".py",
   "mimetype": "text/x-python",
   "name": "python",
   "nbconvert_exporter": "python",
   "pygments_lexer": "ipython3",
   "version": "3.6.5"
  }
 },
 "nbformat": 4,
 "nbformat_minor": 2
}
