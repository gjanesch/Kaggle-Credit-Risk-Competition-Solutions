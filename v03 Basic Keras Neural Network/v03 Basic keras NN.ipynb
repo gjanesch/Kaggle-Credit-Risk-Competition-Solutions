{
 "cells": [
  {
   "cell_type": "code",
   "execution_count": 133,
   "metadata": {},
   "outputs": [],
   "source": [
    "# Solution attempt 3: basic neural network\n",
    "# Final submission: 2018-06-06\n",
    "# Submission score: 0.684\n",
    "\n",
    "# This is intended to be a basic neural network thrown at the problem, with\n",
    "# about the same level of preprocessing as the v01 logistic regression model did."
   ]
  },
  {
   "cell_type": "code",
   "execution_count": null,
   "metadata": {},
   "outputs": [],
   "source": [
    "import numpy as np\n",
    "#import keras\n",
    "import pandas as pd\n",
    "#import feather\n",
    "import re\n",
    "from keras.models import Sequential\n",
    "from keras.layers import Dense, Dropout"
   ]
  },
  {
   "cell_type": "code",
   "execution_count": 2,
   "metadata": {},
   "outputs": [],
   "source": [
    "def has_NAs(pd_series):\n",
    "    return pd_series.isnull().values.any()\n",
    "\n",
    "# This is deleting stuff that it shouldn't\n",
    "def string_col_to_onehot(df, col_name):\n",
    "    dummy_cols = pd.get_dummies(df[col_name], drop_first = True, prefix = col_name)\n",
    "    df.drop(columns = [col_name], inplace = True)\n",
    "    return(pd.concat([df, dummy_cols], axis = 1))"
   ]
  },
  {
   "cell_type": "code",
   "execution_count": 3,
   "metadata": {},
   "outputs": [],
   "source": [
    "train = pd.read_csv(\"./Data Files/application_train.csv\")\n",
    "test = pd.read_csv(\"./Data Files/application_test.csv\")"
   ]
  },
  {
   "cell_type": "code",
   "execution_count": 4,
   "metadata": {},
   "outputs": [],
   "source": [
    "target = train[\"TARGET\"]\n",
    "train.drop(\"TARGET\", inplace = True, axis = 1)\n",
    "train_rows = len(train)"
   ]
  },
  {
   "cell_type": "code",
   "execution_count": 5,
   "metadata": {},
   "outputs": [],
   "source": [
    "all_data = pd.concat([train,test], ignore_index = True)"
   ]
  },
  {
   "cell_type": "code",
   "execution_count": 6,
   "metadata": {
    "scrolled": true
   },
   "outputs": [],
   "source": [
    "building_info_columns = [c for c in train.columns.tolist() if re.search(\"_AVG$|_MODE$|_MEDI$\", c)]\n",
    "other_columns_to_remove = [\"EXT_SOURCE_1\",\"EXT_SOURCE_3\",\"OWN_CAR_AGE\",\"NAME_TYPE_SUITE\"]\n",
    "\n",
    "all_data.drop(building_info_columns + other_columns_to_remove, inplace = True, axis = 1)"
   ]
  },
  {
   "cell_type": "code",
   "execution_count": 7,
   "metadata": {},
   "outputs": [],
   "source": [
    "object_cols = [col for col in all_data.columns if all_data[col].dtype == \"O\"]\n",
    "for oc in object_cols:\n",
    "    all_data = string_col_to_onehot(all_data, oc)"
   ]
  },
  {
   "cell_type": "code",
   "execution_count": 13,
   "metadata": {},
   "outputs": [],
   "source": [
    "train = all_data.iloc[:train_rows,:].copy()\n",
    "test = all_data.iloc[train_rows:,:].copy()"
   ]
  },
  {
   "cell_type": "code",
   "execution_count": 36,
   "metadata": {},
   "outputs": [],
   "source": [
    "train.dropna(inplace = True)\n",
    "target = target[train.index]"
   ]
  },
  {
   "cell_type": "code",
   "execution_count": 15,
   "metadata": {
    "scrolled": true
   },
   "outputs": [
    {
     "name": "stdout",
     "output_type": "stream",
     "text": [
      "SK_ID_CURR\n",
      "CNT_CHILDREN\n",
      "AMT_INCOME_TOTAL\n",
      "AMT_CREDIT\n",
      "AMT_ANNUITY\n",
      "AMT_GOODS_PRICE\n",
      "REGION_POPULATION_RELATIVE\n",
      "DAYS_BIRTH\n",
      "DAYS_EMPLOYED\n",
      "DAYS_REGISTRATION\n",
      "DAYS_ID_PUBLISH\n",
      "FLAG_MOBIL\n",
      "FLAG_EMP_PHONE\n",
      "FLAG_WORK_PHONE\n",
      "FLAG_CONT_MOBILE\n",
      "FLAG_PHONE\n",
      "FLAG_EMAIL\n",
      "CNT_FAM_MEMBERS\n",
      "REGION_RATING_CLIENT\n",
      "REGION_RATING_CLIENT_W_CITY\n",
      "HOUR_APPR_PROCESS_START\n",
      "REG_REGION_NOT_LIVE_REGION\n",
      "REG_REGION_NOT_WORK_REGION\n",
      "LIVE_REGION_NOT_WORK_REGION\n",
      "REG_CITY_NOT_LIVE_CITY\n",
      "REG_CITY_NOT_WORK_CITY\n",
      "LIVE_CITY_NOT_WORK_CITY\n",
      "EXT_SOURCE_2\n",
      "OBS_30_CNT_SOCIAL_CIRCLE\n",
      "DEF_30_CNT_SOCIAL_CIRCLE\n",
      "OBS_60_CNT_SOCIAL_CIRCLE\n",
      "DEF_60_CNT_SOCIAL_CIRCLE\n",
      "DAYS_LAST_PHONE_CHANGE\n",
      "FLAG_DOCUMENT_2\n",
      "FLAG_DOCUMENT_3\n",
      "FLAG_DOCUMENT_4\n",
      "FLAG_DOCUMENT_5\n",
      "FLAG_DOCUMENT_6\n",
      "FLAG_DOCUMENT_7\n",
      "FLAG_DOCUMENT_8\n",
      "FLAG_DOCUMENT_9\n",
      "FLAG_DOCUMENT_10\n",
      "FLAG_DOCUMENT_11\n",
      "FLAG_DOCUMENT_12\n",
      "FLAG_DOCUMENT_13\n",
      "FLAG_DOCUMENT_14\n",
      "FLAG_DOCUMENT_15\n",
      "FLAG_DOCUMENT_16\n",
      "FLAG_DOCUMENT_17\n",
      "FLAG_DOCUMENT_18\n",
      "FLAG_DOCUMENT_19\n",
      "FLAG_DOCUMENT_20\n",
      "FLAG_DOCUMENT_21\n",
      "AMT_REQ_CREDIT_BUREAU_HOUR\n",
      "AMT_REQ_CREDIT_BUREAU_DAY\n",
      "AMT_REQ_CREDIT_BUREAU_WEEK\n",
      "AMT_REQ_CREDIT_BUREAU_MON\n",
      "AMT_REQ_CREDIT_BUREAU_QRT\n",
      "AMT_REQ_CREDIT_BUREAU_YEAR\n",
      "NAME_CONTRACT_TYPE_Revolving loans\n",
      "CODE_GENDER_M\n",
      "CODE_GENDER_XNA\n",
      "FLAG_OWN_CAR_Y\n",
      "FLAG_OWN_REALTY_Y\n",
      "NAME_INCOME_TYPE_Commercial associate\n",
      "NAME_INCOME_TYPE_Maternity leave\n",
      "NAME_INCOME_TYPE_Pensioner\n",
      "NAME_INCOME_TYPE_State servant\n",
      "NAME_INCOME_TYPE_Student\n",
      "NAME_INCOME_TYPE_Unemployed\n",
      "NAME_INCOME_TYPE_Working\n",
      "NAME_EDUCATION_TYPE_Higher education\n",
      "NAME_EDUCATION_TYPE_Incomplete higher\n",
      "NAME_EDUCATION_TYPE_Lower secondary\n",
      "NAME_EDUCATION_TYPE_Secondary / secondary special\n",
      "NAME_FAMILY_STATUS_Married\n",
      "NAME_FAMILY_STATUS_Separated\n",
      "NAME_FAMILY_STATUS_Single / not married\n",
      "NAME_FAMILY_STATUS_Unknown\n",
      "NAME_FAMILY_STATUS_Widow\n",
      "NAME_HOUSING_TYPE_House / apartment\n",
      "NAME_HOUSING_TYPE_Municipal apartment\n",
      "NAME_HOUSING_TYPE_Office apartment\n",
      "NAME_HOUSING_TYPE_Rented apartment\n",
      "NAME_HOUSING_TYPE_With parents\n",
      "OCCUPATION_TYPE_Cleaning staff\n",
      "OCCUPATION_TYPE_Cooking staff\n",
      "OCCUPATION_TYPE_Core staff\n",
      "OCCUPATION_TYPE_Drivers\n",
      "OCCUPATION_TYPE_HR staff\n",
      "OCCUPATION_TYPE_High skill tech staff\n",
      "OCCUPATION_TYPE_IT staff\n",
      "OCCUPATION_TYPE_Laborers\n",
      "OCCUPATION_TYPE_Low-skill Laborers\n",
      "OCCUPATION_TYPE_Managers\n",
      "OCCUPATION_TYPE_Medicine staff\n",
      "OCCUPATION_TYPE_Private service staff\n",
      "OCCUPATION_TYPE_Realty agents\n",
      "OCCUPATION_TYPE_Sales staff\n",
      "OCCUPATION_TYPE_Secretaries\n",
      "OCCUPATION_TYPE_Security staff\n",
      "OCCUPATION_TYPE_Waiters/barmen staff\n",
      "WEEKDAY_APPR_PROCESS_START_MONDAY\n",
      "WEEKDAY_APPR_PROCESS_START_SATURDAY\n",
      "WEEKDAY_APPR_PROCESS_START_SUNDAY\n",
      "WEEKDAY_APPR_PROCESS_START_THURSDAY\n",
      "WEEKDAY_APPR_PROCESS_START_TUESDAY\n",
      "WEEKDAY_APPR_PROCESS_START_WEDNESDAY\n",
      "ORGANIZATION_TYPE_Agriculture\n",
      "ORGANIZATION_TYPE_Bank\n",
      "ORGANIZATION_TYPE_Business Entity Type 1\n",
      "ORGANIZATION_TYPE_Business Entity Type 2\n",
      "ORGANIZATION_TYPE_Business Entity Type 3\n",
      "ORGANIZATION_TYPE_Cleaning\n",
      "ORGANIZATION_TYPE_Construction\n",
      "ORGANIZATION_TYPE_Culture\n",
      "ORGANIZATION_TYPE_Electricity\n",
      "ORGANIZATION_TYPE_Emergency\n",
      "ORGANIZATION_TYPE_Government\n",
      "ORGANIZATION_TYPE_Hotel\n",
      "ORGANIZATION_TYPE_Housing\n",
      "ORGANIZATION_TYPE_Industry: type 1\n",
      "ORGANIZATION_TYPE_Industry: type 10\n",
      "ORGANIZATION_TYPE_Industry: type 11\n",
      "ORGANIZATION_TYPE_Industry: type 12\n",
      "ORGANIZATION_TYPE_Industry: type 13\n",
      "ORGANIZATION_TYPE_Industry: type 2\n",
      "ORGANIZATION_TYPE_Industry: type 3\n",
      "ORGANIZATION_TYPE_Industry: type 4\n",
      "ORGANIZATION_TYPE_Industry: type 5\n",
      "ORGANIZATION_TYPE_Industry: type 6\n",
      "ORGANIZATION_TYPE_Industry: type 7\n",
      "ORGANIZATION_TYPE_Industry: type 8\n",
      "ORGANIZATION_TYPE_Industry: type 9\n",
      "ORGANIZATION_TYPE_Insurance\n",
      "ORGANIZATION_TYPE_Kindergarten\n",
      "ORGANIZATION_TYPE_Legal Services\n",
      "ORGANIZATION_TYPE_Medicine\n",
      "ORGANIZATION_TYPE_Military\n",
      "ORGANIZATION_TYPE_Mobile\n",
      "ORGANIZATION_TYPE_Other\n",
      "ORGANIZATION_TYPE_Police\n",
      "ORGANIZATION_TYPE_Postal\n",
      "ORGANIZATION_TYPE_Realtor\n",
      "ORGANIZATION_TYPE_Religion\n",
      "ORGANIZATION_TYPE_Restaurant\n",
      "ORGANIZATION_TYPE_School\n",
      "ORGANIZATION_TYPE_Security\n",
      "ORGANIZATION_TYPE_Security Ministries\n",
      "ORGANIZATION_TYPE_Self-employed\n",
      "ORGANIZATION_TYPE_Services\n",
      "ORGANIZATION_TYPE_Telecom\n",
      "ORGANIZATION_TYPE_Trade: type 1\n",
      "ORGANIZATION_TYPE_Trade: type 2\n",
      "ORGANIZATION_TYPE_Trade: type 3\n",
      "ORGANIZATION_TYPE_Trade: type 4\n",
      "ORGANIZATION_TYPE_Trade: type 5\n",
      "ORGANIZATION_TYPE_Trade: type 6\n",
      "ORGANIZATION_TYPE_Trade: type 7\n",
      "ORGANIZATION_TYPE_Transport: type 1\n",
      "ORGANIZATION_TYPE_Transport: type 2\n",
      "ORGANIZATION_TYPE_Transport: type 3\n",
      "ORGANIZATION_TYPE_Transport: type 4\n",
      "ORGANIZATION_TYPE_University\n",
      "ORGANIZATION_TYPE_XNA\n"
     ]
    }
   ],
   "source": [
    "for col in test.columns:\n",
    "    if test[col].isnull().sum() > 0:\n",
    "        if test[col].dtype == \"O\":\n",
    "            test[col] = test[col].fillna(\"Unknown\")\n",
    "        else:\n",
    "            test.loc[test[col].isnull(),col] = test[col].median(skipna = True)"
   ]
  },
  {
   "cell_type": "code",
   "execution_count": 18,
   "metadata": {
    "scrolled": true
   },
   "outputs": [
    {
     "name": "stdout",
     "output_type": "stream",
     "text": [
      "int64\n",
      "int64\n",
      "float64\n",
      "float64\n",
      "float64\n",
      "float64\n",
      "float64\n",
      "int64\n",
      "int64\n",
      "float64\n",
      "int64\n",
      "int64\n",
      "int64\n",
      "int64\n",
      "int64\n",
      "int64\n",
      "int64\n",
      "float64\n",
      "int64\n",
      "int64\n",
      "int64\n",
      "int64\n",
      "int64\n",
      "int64\n",
      "int64\n",
      "int64\n",
      "int64\n",
      "float64\n",
      "float64\n",
      "float64\n",
      "float64\n",
      "float64\n",
      "float64\n",
      "int64\n",
      "int64\n",
      "int64\n",
      "int64\n",
      "int64\n",
      "int64\n",
      "int64\n",
      "int64\n",
      "int64\n",
      "int64\n",
      "int64\n",
      "int64\n",
      "int64\n",
      "int64\n",
      "int64\n",
      "int64\n",
      "int64\n",
      "int64\n",
      "int64\n",
      "int64\n",
      "float64\n",
      "float64\n",
      "float64\n",
      "float64\n",
      "float64\n",
      "float64\n",
      "uint8\n",
      "uint8\n",
      "uint8\n",
      "uint8\n",
      "uint8\n",
      "uint8\n",
      "uint8\n",
      "uint8\n",
      "uint8\n",
      "uint8\n",
      "uint8\n",
      "uint8\n",
      "uint8\n",
      "uint8\n",
      "uint8\n",
      "uint8\n",
      "uint8\n",
      "uint8\n",
      "uint8\n",
      "uint8\n",
      "uint8\n",
      "uint8\n",
      "uint8\n",
      "uint8\n",
      "uint8\n",
      "uint8\n",
      "uint8\n",
      "uint8\n",
      "uint8\n",
      "uint8\n",
      "uint8\n",
      "uint8\n",
      "uint8\n",
      "uint8\n",
      "uint8\n",
      "uint8\n",
      "uint8\n",
      "uint8\n",
      "uint8\n",
      "uint8\n",
      "uint8\n",
      "uint8\n",
      "uint8\n",
      "uint8\n",
      "uint8\n",
      "uint8\n",
      "uint8\n",
      "uint8\n",
      "uint8\n",
      "uint8\n",
      "uint8\n",
      "uint8\n",
      "uint8\n",
      "uint8\n",
      "uint8\n",
      "uint8\n",
      "uint8\n",
      "uint8\n",
      "uint8\n",
      "uint8\n",
      "uint8\n",
      "uint8\n",
      "uint8\n",
      "uint8\n",
      "uint8\n",
      "uint8\n",
      "uint8\n",
      "uint8\n",
      "uint8\n",
      "uint8\n",
      "uint8\n",
      "uint8\n",
      "uint8\n",
      "uint8\n",
      "uint8\n",
      "uint8\n",
      "uint8\n",
      "uint8\n",
      "uint8\n",
      "uint8\n",
      "uint8\n",
      "uint8\n",
      "uint8\n",
      "uint8\n",
      "uint8\n",
      "uint8\n",
      "uint8\n",
      "uint8\n",
      "uint8\n",
      "uint8\n",
      "uint8\n",
      "uint8\n",
      "uint8\n",
      "uint8\n",
      "uint8\n",
      "uint8\n",
      "uint8\n",
      "uint8\n",
      "uint8\n",
      "uint8\n",
      "uint8\n",
      "uint8\n",
      "uint8\n",
      "uint8\n",
      "uint8\n",
      "uint8\n"
     ]
    }
   ],
   "source": [
    "for col in test.columns:\n",
    "    print(test[col].dtype)"
   ]
  },
  {
   "cell_type": "code",
   "execution_count": 97,
   "metadata": {},
   "outputs": [],
   "source": [
    "train2 = train.copy()\n",
    "train2 = pd.concat([train2, target], axis = 1)\n",
    "train2_real = train2.loc[target == 1,:]\n",
    "train2 = pd.concat([train2_real,train2,train2_real])\n",
    "train2 = train2.sample(frac = 1).reset_index(drop = True)\n",
    "target2 = train2[\"TARGET\"]\n",
    "train2.drop(\"TARGET\", axis = 1, inplace = True)"
   ]
  },
  {
   "cell_type": "code",
   "execution_count": 98,
   "metadata": {},
   "outputs": [],
   "source": [
    "from sklearn.preprocessing import StandardScaler\n",
    "sc = StandardScaler()\n",
    "train2 = sc.fit_transform(train2)"
   ]
  },
  {
   "cell_type": "code",
   "execution_count": 107,
   "metadata": {},
   "outputs": [],
   "source": [
    "split = int(len(train2)*0.9)\n",
    "train2_train, train2_test, target2_train, target2_test = train2[:split], train2[split:], target2[:split], target2[split:]"
   ]
  },
  {
   "cell_type": "code",
   "execution_count": 175,
   "metadata": {},
   "outputs": [],
   "source": [
    "classifier = Sequential()\n",
    "classifier.add(Dense(units = 100, kernel_initializer = 'uniform', activation = 'relu', input_dim = train2.shape[1]))\n",
    "classifier.add(Dropout(rate = 0.3))\n",
    "classifier.add(Dense(units = 100, kernel_initializer = 'uniform', activation = 'relu', input_dim = train2.shape[1]))\n",
    "classifier.add(Dropout(rate = 0.3))\n",
    "#classifier.add(Dense(units = 30, kernel_initializer = 'uniform', activation = 'relu', input_dim = train2.shape[1]))\n",
    "#classifier.add(Dropout(rate = 0.3))\n",
    "classifier.add(Dense(units = 1, kernel_initializer = 'uniform', activation = 'sigmoid'))\n",
    "classifier.compile(optimizer = 'adam', loss = 'mean_squared_error', metrics = ['accuracy'])"
   ]
  },
  {
   "cell_type": "code",
   "execution_count": 176,
   "metadata": {
    "scrolled": true
   },
   "outputs": [
    {
     "name": "stdout",
     "output_type": "stream",
     "text": [
      "Epoch 1/25\n",
      "274744/274744 [==============================] - 1s 5us/step - loss: 0.2286 - acc: 0.7539\n",
      "Epoch 2/25\n",
      "274744/274744 [==============================] - 1s 3us/step - loss: 0.1682 - acc: 0.7992\n",
      "Epoch 3/25\n",
      "274744/274744 [==============================] - 1s 3us/step - loss: 0.1536 - acc: 0.7992\n",
      "Epoch 4/25\n",
      "274744/274744 [==============================] - 1s 3us/step - loss: 0.1506 - acc: 0.7992\n",
      "Epoch 5/25\n",
      "274744/274744 [==============================] - 1s 3us/step - loss: 0.1488 - acc: 0.7992\n",
      "Epoch 6/25\n",
      "274744/274744 [==============================] - 1s 3us/step - loss: 0.1478 - acc: 0.7992\n",
      "Epoch 7/25\n",
      "274744/274744 [==============================] - 1s 3us/step - loss: 0.1471 - acc: 0.7992\n",
      "Epoch 8/25\n",
      "274744/274744 [==============================] - 1s 3us/step - loss: 0.1465 - acc: 0.7992\n",
      "Epoch 9/25\n",
      "274744/274744 [==============================] - 1s 3us/step - loss: 0.1461 - acc: 0.7992\n",
      "Epoch 10/25\n",
      "274744/274744 [==============================] - 1s 3us/step - loss: 0.1458 - acc: 0.7992\n",
      "Epoch 11/25\n",
      "274744/274744 [==============================] - 1s 3us/step - loss: 0.1455 - acc: 0.7992\n",
      "Epoch 12/25\n",
      "274744/274744 [==============================] - 1s 3us/step - loss: 0.1453 - acc: 0.7992\n",
      "Epoch 13/25\n",
      "274744/274744 [==============================] - 1s 3us/step - loss: 0.1450 - acc: 0.7992\n",
      "Epoch 14/25\n",
      "274744/274744 [==============================] - 1s 3us/step - loss: 0.1449 - acc: 0.7992\n",
      "Epoch 15/25\n",
      "274744/274744 [==============================] - 1s 3us/step - loss: 0.1447 - acc: 0.7992\n",
      "Epoch 16/25\n",
      "274744/274744 [==============================] - 1s 3us/step - loss: 0.1445 - acc: 0.7992\n",
      "Epoch 17/25\n",
      "274744/274744 [==============================] - 1s 3us/step - loss: 0.1444 - acc: 0.7992\n",
      "Epoch 18/25\n",
      "274744/274744 [==============================] - 1s 3us/step - loss: 0.1442 - acc: 0.7992\n",
      "Epoch 19/25\n",
      "274744/274744 [==============================] - 1s 3us/step - loss: 0.1441 - acc: 0.7992\n",
      "Epoch 20/25\n",
      "274744/274744 [==============================] - 1s 3us/step - loss: 0.1440 - acc: 0.7992\n",
      "Epoch 21/25\n",
      "274744/274744 [==============================] - 1s 3us/step - loss: 0.1439 - acc: 0.7992\n",
      "Epoch 22/25\n",
      "274744/274744 [==============================] - 1s 3us/step - loss: 0.1437 - acc: 0.7992\n",
      "Epoch 23/25\n",
      "274744/274744 [==============================] - 1s 3us/step - loss: 0.1436 - acc: 0.7992\n",
      "Epoch 24/25\n",
      "274744/274744 [==============================] - 1s 3us/step - loss: 0.1435 - acc: 0.7992\n",
      "Epoch 25/25\n",
      "274744/274744 [==============================] - 1s 3us/step - loss: 0.1433 - acc: 0.7992\n"
     ]
    },
    {
     "data": {
      "text/plain": [
       "<keras.callbacks.History at 0x7f5a0ee2a278>"
      ]
     },
     "execution_count": 176,
     "metadata": {},
     "output_type": "execute_result"
    }
   ],
   "source": [
    "classifier.fit(train2_train, target2_train, batch_size = 20000, epochs = 25)"
   ]
  },
  {
   "cell_type": "code",
   "execution_count": 177,
   "metadata": {
    "scrolled": true
   },
   "outputs": [
    {
     "data": {
      "text/plain": [
       "0.716446800947082"
      ]
     },
     "execution_count": 177,
     "metadata": {},
     "output_type": "execute_result"
    }
   ],
   "source": [
    "train2_test2 = sc.fit_transform(train2_test)\n",
    "predictions = classifier.predict(train2_test2)\n",
    "roc_auc_score(target2_test, predictions)"
   ]
  },
  {
   "cell_type": "code",
   "execution_count": 106,
   "metadata": {},
   "outputs": [],
   "source": [
    "from sklearn.metrics import roc_auc_score"
   ]
  },
  {
   "cell_type": "code",
   "execution_count": 178,
   "metadata": {},
   "outputs": [],
   "source": [
    "data_predictions = classifier.predict(sc.fit_transform(test))"
   ]
  },
  {
   "cell_type": "code",
   "execution_count": 179,
   "metadata": {
    "scrolled": true
   },
   "outputs": [],
   "source": [
    "submission = pd.DataFrame({\"SK_ID_CURR\":test[\"SK_ID_CURR\"], \"TARGET\":np.reshape(data_predictions, newshape = (-1))})"
   ]
  },
  {
   "cell_type": "code",
   "execution_count": 180,
   "metadata": {},
   "outputs": [],
   "source": [
    "submission.to_csv(\"v03_prections.csv\", index = False)"
   ]
  }
 ],
 "metadata": {
  "kernelspec": {
   "display_name": "Python 3",
   "language": "python",
   "name": "python3"
  },
  "language_info": {
   "codemirror_mode": {
    "name": "ipython",
    "version": 3
   },
   "file_extension": ".py",
   "mimetype": "text/x-python",
   "name": "python",
   "nbconvert_exporter": "python",
   "pygments_lexer": "ipython3",
   "version": "3.6.5"
  }
 },
 "nbformat": 4,
 "nbformat_minor": 2
}
