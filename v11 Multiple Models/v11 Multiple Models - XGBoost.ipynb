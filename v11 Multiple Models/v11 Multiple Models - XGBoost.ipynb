{
 "cells": [
  {
   "cell_type": "code",
   "execution_count": 1,
   "metadata": {},
   "outputs": [],
   "source": [
    "import v11_common as com\n",
    "import numpy as np\n",
    "import pandas as pd\n",
    "import xgboost as xgb\n",
    "import feather\n",
    "from sklearn.model_selection import train_test_split, KFold\n",
    "from sklearn.preprocessing import StandardScaler\n",
    "from sklearn.metrics import roc_auc_score"
   ]
  },
  {
   "cell_type": "code",
   "execution_count": 2,
   "metadata": {},
   "outputs": [],
   "source": [
    "train = pd.read_feather(\"v11 train data.feather\")\n",
    "test = pd.read_feather(\"v11 test data.feather\")\n",
    "target_df = pd.read_feather(\"target.feather\")"
   ]
  },
  {
   "cell_type": "code",
   "execution_count": 3,
   "metadata": {},
   "outputs": [],
   "source": [
    "train_IDs = train[\"SK_ID_CURR\"]\n",
    "test_IDs = test[\"SK_ID_CURR\"]\n",
    "\n",
    "train.drop([\"SK_ID_CURR\"], axis = 1, inplace = True)\n",
    "test.drop([\"SK_ID_CURR\"], axis = 1, inplace = True)"
   ]
  },
  {
   "cell_type": "code",
   "execution_count": 4,
   "metadata": {},
   "outputs": [],
   "source": [
    "xgboost_params = {\"n_estimators\":800,\n",
    "                  \"learning_rate\":0.01,      #previous: 0.01\n",
    "                  \"colsample_bytree\":0.932, #previous: 0.9315 (opt)\n",
    "                  \"subsample\":0.6124,         #previous: 0.771, 0.6124 (opt)\n",
    "                  \"max_depth\":4,             #previous: 7, 4 (opt)\n",
    "                  \"reg_alpha\":0.0586,        #previous: 0.15, 0.0586 (opt)\n",
    "                  \"reg_lambda\":0.2184,       #previous: 0.091, 0.2184 (opt)\n",
    "                  \"min_child_weight\":2}      #previous: 2, 49 (opt)"
   ]
  },
  {
   "cell_type": "code",
   "execution_count": null,
   "metadata": {},
   "outputs": [],
   "source": [
    "#estimated AUC: 0.775676\n",
    "\n",
    "folds = KFold(n_splits = 4, shuffle = True)\n",
    "auc_scores = []\n",
    "\n",
    "for n_fold, (train_ids, val_ids) in enumerate(folds.split(train)):\n",
    "    print(\"#### FOLD NUMBER \" + str(n_fold + 1) + \" ####\")\n",
    "    train_train = train.iloc[train_ids]\n",
    "    train_val = train.iloc[val_ids]\n",
    "    target_train = target_df[\"TARGET\"][train_ids]\n",
    "    target_val = target_df[\"TARGET\"][val_ids]\n",
    "    \n",
    "    clf = xgb.XGBClassifier(**xgboost_params)\n",
    "    clf.fit(train_train, target_train)\n",
    "    \n",
    "    train_predictions = clf.predict_proba(train_train)\n",
    "    val_predictions = clf.predict_proba(train_val)\n",
    "    auc_train = roc_auc_score(target_train, train_predictions[:,1])\n",
    "    auc_val = roc_auc_score(target_val, val_predictions[:,1])\n",
    "    print(f\"Train ROC: {auc_train}\\nTest ROC: {auc_val}\")\n",
    "    \n",
    "    auc_scores.append(auc_val)\n",
    "\n",
    "print(f\"\\n\\nAverage AUC: {np.mean(auc_scores)}\")"
   ]
  },
  {
   "cell_type": "code",
   "execution_count": 6,
   "metadata": {},
   "outputs": [
    {
     "name": "stdout",
     "output_type": "stream",
     "text": [
      "Training -- done in 1.5020370483398438e-05 sec\n",
      "Fitting -- done in 4337.252877950668 sec\n"
     ]
    }
   ],
   "source": [
    "with com.timer(\"Training\"):\n",
    "    clf2 = xgb.XGBClassifier(**xgboost_params)\n",
    "\n",
    "with com.timer(\"Fitting\"):\n",
    "    clf2.fit(train, target_df[\"TARGET\"])"
   ]
  },
  {
   "cell_type": "code",
   "execution_count": 7,
   "metadata": {},
   "outputs": [],
   "source": [
    "train_predictions = clf2.predict_proba(train)\n",
    "data_predictions = clf2.predict_proba(test)"
   ]
  },
  {
   "cell_type": "code",
   "execution_count": 8,
   "metadata": {},
   "outputs": [],
   "source": [
    "train_preds = pd.DataFrame({\"SK_ID_CURR\":train_IDs, \"TARGET\":train_predictions[:,1]})\n",
    "submission = pd.DataFrame({\"SK_ID_CURR\":test_IDs, \"TARGET\":data_predictions[:,1]})\n",
    "\n",
    "train_preds.to_csv(\"v11_predictions_XGBoost_train.csv\", index = False)\n",
    "submission.to_csv(\"v11_predictions_XGBoost.csv\", index = False)"
   ]
  },
  {
   "cell_type": "code",
   "execution_count": null,
   "metadata": {},
   "outputs": [],
   "source": []
  }
 ],
 "metadata": {
  "kernelspec": {
   "display_name": "Python 3",
   "language": "python",
   "name": "python3"
  },
  "language_info": {
   "codemirror_mode": {
    "name": "ipython",
    "version": 3
   },
   "file_extension": ".py",
   "mimetype": "text/x-python",
   "name": "python",
   "nbconvert_exporter": "python",
   "pygments_lexer": "ipython3",
   "version": "3.6.5"
  }
 },
 "nbformat": 4,
 "nbformat_minor": 2
}
