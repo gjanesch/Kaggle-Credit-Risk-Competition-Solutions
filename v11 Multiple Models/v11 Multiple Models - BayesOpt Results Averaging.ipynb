{
 "cells": [
  {
   "cell_type": "code",
   "execution_count": 1,
   "metadata": {},
   "outputs": [],
   "source": [
    "import numpy as np\n",
    "import pandas as pd\n",
    "import feather\n",
    "from bayes_opt import BayesianOptimization\n",
    "from sklearn.model_selection import KFold\n",
    "from sklearn.metrics import roc_auc_score"
   ]
  },
  {
   "cell_type": "code",
   "execution_count": 2,
   "metadata": {},
   "outputs": [],
   "source": [
    "def blend_opt(lgbm_wt = 1, keras_wt = 1, xgb_wt = 1, ada_wt = 1, gp_wt = 1):\n",
    "    train_df.drop(\"SK_ID_CURR\", errors = \"ignore\", inplace = True, axis = 1)\n",
    "    blended_preds = train_df[\"LGBM\"] * lgbm_wt + train_df[\"Keras\"] * keras_wt + \\\n",
    "                    train_df[\"AdaBoost\"] * ada_wt + train_df[\"XGBoost\"] * xgb_wt\n",
    "    blended_preds = blended_preds / (lgbm_wt + keras_wt + ada_wt + xgb_wt)\n",
    "    return roc_auc_score(target, blended_preds)"
   ]
  },
  {
   "cell_type": "code",
   "execution_count": 3,
   "metadata": {},
   "outputs": [],
   "source": [
    "lgbm = pd.read_csv(\"v11_predictions_LGBM_train.csv\")\n",
    "keras = pd.read_csv(\"v11_predictions_Keras_train.csv\")\n",
    "adaboost = pd.read_csv(\"v11_predictions_AdaBoost_train.csv\")\n",
    "xgboost = pd.read_csv(\"v11_predictions_XGBoost_train.csv\")\n",
    "target = pd.read_feather(\"target.feather\")[\"TARGET\"]"
   ]
  },
  {
   "cell_type": "code",
   "execution_count": 4,
   "metadata": {},
   "outputs": [],
   "source": [
    "train_df = pd.DataFrame(index = lgbm.index)\n",
    "train_df[\"LGBM\"] = lgbm[\"TARGET\"]\n",
    "train_df[\"Keras\"] = keras[\"TARGET\"]\n",
    "train_df[\"AdaBoost\"] = adaboost[\"TARGET\"]\n",
    "train_df[\"XGBoost\"] = xgboost[\"TARGET\"]"
   ]
  },
  {
   "cell_type": "code",
   "execution_count": 5,
   "metadata": {},
   "outputs": [],
   "source": [
    "weights_range = {\"lgbm_wt\":(0,20),\n",
    "                 \"keras_wt\":(0,20),\n",
    "                 \"xgb_wt\":(0,20),\n",
    "                 \"ada_wt\":(0,20)}"
   ]
  },
  {
   "cell_type": "code",
   "execution_count": 6,
   "metadata": {},
   "outputs": [],
   "source": [
    "bayes_cv = BayesianOptimization(blend_opt, weights_range)"
   ]
  },
  {
   "cell_type": "code",
   "execution_count": 7,
   "metadata": {
    "scrolled": true
   },
   "outputs": [
    {
     "name": "stdout",
     "output_type": "stream",
     "text": [
      "\u001b[31mInitialization\u001b[0m\n",
      "\u001b[94m------------------------------------------------------------------------------\u001b[0m\n",
      " Step |   Time |      Value |    ada_wt |   keras_wt |   lgbm_wt |    xgb_wt | \n",
      "    1 | 00m00s | \u001b[35m   0.85219\u001b[0m | \u001b[32m   3.8499\u001b[0m | \u001b[32m    1.8183\u001b[0m | \u001b[32m  16.4175\u001b[0m | \u001b[32m   0.6554\u001b[0m | \n",
      "    2 | 00m00s |    0.80793 |    6.3558 |    12.0252 |    3.4614 |   11.2160 | \n",
      "    3 | 00m00s |    0.81830 |   13.7759 |     5.2468 |    5.9394 |   11.6345 | \n",
      "    4 | 00m00s |    0.83287 |    9.2364 |     2.8472 |    3.8943 |    2.0834 | \n",
      "    5 | 00m00s |    0.80794 |   14.8014 |    16.1776 |    5.1903 |   16.7846 | \n",
      "    6 | 00m00s |    0.84011 |   18.1093 |    11.7350 |    8.4350 |    0.4807 | \n",
      "    7 | 00m00s |    0.83918 |    7.2230 |    13.3970 |   15.2407 |    4.4395 | \n",
      "    8 | 00m00s |    0.80666 |    9.2984 |    10.7428 |    3.6900 |   14.0574 | \n",
      "    9 | 00m00s |    0.81160 |   13.8122 |    13.8781 |    5.9688 |   15.4149 | \n",
      "   10 | 00m00s |    0.81268 |   17.3103 |     3.7712 |    5.1299 |   16.2683 | \n",
      "   11 | 00m00s |    0.84527 |   19.6607 |     1.1993 |   19.6805 |    5.2180 | \n",
      "   12 | 00m00s |    0.81412 |    7.8046 |     4.5313 |    2.9759 |    6.9731 | \n",
      "   13 | 00m00s |    0.83696 |   11.8130 |     8.7970 |   11.3491 |    4.3845 | \n",
      "   14 | 00m00s |    0.84126 |   10.4550 |    11.5141 |   18.6031 |    4.7578 | \n",
      "   15 | 00m00s |    0.81304 |    7.3698 |    12.2856 |    6.1409 |   15.3328 | \n",
      "   16 | 00m00s |    0.83133 |    6.9012 |     7.6250 |    5.7871 |    3.3459 | \n",
      "   17 | 00m00s |    0.83054 |    8.6092 |     4.3968 |    7.6876 |    6.6190 | \n",
      "   18 | 00m00s |    0.81687 |   17.6377 |    14.3128 |    6.9350 |   11.6222 | \n",
      "   19 | 00m00s |    0.83996 |   14.8848 |     9.1119 |   13.8064 |    3.6881 | \n",
      "   20 | 00m00s |    0.83109 |    7.7653 |    13.8409 |    3.1355 |    1.1881 | \n",
      "   21 | 00m00s |    0.81300 |    3.9454 |    19.4294 |    8.0393 |   19.5370 | \n",
      "   22 | 00m00s |    0.80572 |   17.3180 |    10.3252 |    3.0998 |   11.1803 | \n",
      "   23 | 00m00s |    0.83145 |    6.7316 |     1.4261 |   17.9769 |   19.4669 | \n",
      "   24 | 00m00s |    0.83546 |   14.1336 |     3.4330 |    8.0070 |    4.3437 | \n",
      "   25 | 00m00s |    0.83578 |    2.1563 |    18.5249 |   12.7746 |    4.9341 | \n"
     ]
    },
    {
     "name": "stderr",
     "output_type": "stream",
     "text": [
      "/home/greg/.local/lib/python3.6/site-packages/sklearn/gaussian_process/gpr.py:335: UserWarning: Predicted variances smaller than 0. Setting those variances to 0.\n",
      "  warnings.warn(\"Predicted variances smaller than 0. \"\n"
     ]
    },
    {
     "name": "stdout",
     "output_type": "stream",
     "text": [
      "\u001b[31mBayesian Optimization\u001b[0m\n",
      "\u001b[94m------------------------------------------------------------------------------\u001b[0m\n",
      " Step |   Time |      Value |    ada_wt |   keras_wt |   lgbm_wt |    xgb_wt | \n",
      "   26 | 00m10s |    0.84460 |   19.8035 |    19.9448 |   19.4728 |    0.1475 | \n",
      "   27 | 00m11s |    0.82680 |   19.4328 |    19.6886 |   19.3592 |   19.3531 | \n",
      "   28 | 00m12s | \u001b[35m   0.85337\u001b[0m | \u001b[32m  12.8650\u001b[0m | \u001b[32m    0.1811\u001b[0m | \u001b[32m  18.5684\u001b[0m | \u001b[32m   0.0972\u001b[0m | \n"
     ]
    },
    {
     "name": "stderr",
     "output_type": "stream",
     "text": [
      "/home/greg/.local/lib/python3.6/site-packages/sklearn/gaussian_process/gpr.py:457: UserWarning: fmin_l_bfgs_b terminated abnormally with the  state: {'grad': array([-0.00091757]), 'task': b'ABNORMAL_TERMINATION_IN_LNSRCH', 'funcalls': 63, 'nit': 5, 'warnflag': 2}\n",
      "  \" state: %s\" % convergence_dict)\n"
     ]
    },
    {
     "name": "stdout",
     "output_type": "stream",
     "text": [
      "   29 | 00m13s |    0.84646 |    0.3659 |    18.8866 |   19.7958 |    0.3207 | \n",
      "   30 | 00m11s | \u001b[35m   0.85414\u001b[0m | \u001b[32m   3.4993\u001b[0m | \u001b[32m    0.2265\u001b[0m | \u001b[32m  12.5974\u001b[0m | \u001b[32m   0.0698\u001b[0m | \n",
      "   31 | 00m11s |    0.85191 |   18.8985 |     0.4295 |   13.8515 |    0.0554 | \n",
      "   32 | 00m10s |    0.85389 |    7.2036 |     0.0833 |   14.2424 |    0.0165 | \n",
      "   33 | 00m10s | \u001b[35m   0.85475\u001b[0m | \u001b[32m   0.5161\u001b[0m | \u001b[32m    0.2696\u001b[0m | \u001b[32m  16.9580\u001b[0m | \u001b[32m   0.0319\u001b[0m | \n",
      "   34 | 00m11s |    0.85286 |    0.1361 |     2.6466 |   14.1688 |    0.0011 | \n"
     ]
    },
    {
     "name": "stderr",
     "output_type": "stream",
     "text": [
      "/home/greg/.local/lib/python3.6/site-packages/sklearn/gaussian_process/gpr.py:457: UserWarning: fmin_l_bfgs_b terminated abnormally with the  state: {'grad': array([-0.00077815]), 'task': b'ABNORMAL_TERMINATION_IN_LNSRCH', 'funcalls': 53, 'nit': 5, 'warnflag': 2}\n",
      "  \" state: %s\" % convergence_dict)\n",
      "/home/greg/.local/lib/python3.6/site-packages/sklearn/gaussian_process/gpr.py:457: UserWarning: fmin_l_bfgs_b terminated abnormally with the  state: {'grad': array([6.42796193e-05]), 'task': b'ABNORMAL_TERMINATION_IN_LNSRCH', 'funcalls': 56, 'nit': 6, 'warnflag': 2}\n",
      "  \" state: %s\" % convergence_dict)\n"
     ]
    },
    {
     "name": "stdout",
     "output_type": "stream",
     "text": [
      "   35 | 00m11s |    0.85428 |    6.0127 |     0.0445 |   19.7901 |    0.0355 | \n"
     ]
    },
    {
     "name": "stderr",
     "output_type": "stream",
     "text": [
      "/home/greg/.local/lib/python3.6/site-packages/sklearn/gaussian_process/gpr.py:457: UserWarning: fmin_l_bfgs_b terminated abnormally with the  state: {'grad': array([-0.00064727]), 'task': b'ABNORMAL_TERMINATION_IN_LNSRCH', 'funcalls': 52, 'nit': 2, 'warnflag': 2}\n",
      "  \" state: %s\" % convergence_dict)\n"
     ]
    },
    {
     "name": "stdout",
     "output_type": "stream",
     "text": [
      "   36 | 00m10s |    0.85300 |   17.9995 |     0.2137 |   19.1396 |    0.0153 | \n"
     ]
    },
    {
     "name": "stderr",
     "output_type": "stream",
     "text": [
      "/home/greg/.local/lib/python3.6/site-packages/sklearn/gaussian_process/gpr.py:457: UserWarning: fmin_l_bfgs_b terminated abnormally with the  state: {'grad': array([0.00036389]), 'task': b'ABNORMAL_TERMINATION_IN_LNSRCH', 'funcalls': 49, 'nit': 4, 'warnflag': 2}\n",
      "  \" state: %s\" % convergence_dict)\n"
     ]
    },
    {
     "name": "stdout",
     "output_type": "stream",
     "text": [
      "   37 | 00m11s |    0.85429 |    0.6652 |     0.0664 |   14.5162 |    0.2442 | \n",
      "   38 | 00m11s |    0.85430 |    3.7618 |     0.1109 |   17.4974 |    0.1077 | \n"
     ]
    },
    {
     "name": "stderr",
     "output_type": "stream",
     "text": [
      "/home/greg/.local/lib/python3.6/site-packages/sklearn/gaussian_process/gpr.py:457: UserWarning: fmin_l_bfgs_b terminated abnormally with the  state: {'grad': array([-2.22363938e-05]), 'task': b'ABNORMAL_TERMINATION_IN_LNSRCH', 'funcalls': 54, 'nit': 5, 'warnflag': 2}\n",
      "  \" state: %s\" % convergence_dict)\n",
      "/home/greg/.local/lib/python3.6/site-packages/sklearn/gaussian_process/gpr.py:457: UserWarning: fmin_l_bfgs_b terminated abnormally with the  state: {'grad': array([-9.36047541e-05]), 'task': b'ABNORMAL_TERMINATION_IN_LNSRCH', 'funcalls': 53, 'nit': 4, 'warnflag': 2}\n",
      "  \" state: %s\" % convergence_dict)\n"
     ]
    },
    {
     "name": "stdout",
     "output_type": "stream",
     "text": [
      "   39 | 00m11s |    0.85398 |    0.1904 |     1.1336 |   19.9208 |    0.3118 | \n"
     ]
    },
    {
     "name": "stderr",
     "output_type": "stream",
     "text": [
      "/home/greg/.local/lib/python3.6/site-packages/sklearn/gaussian_process/gpr.py:457: UserWarning: fmin_l_bfgs_b terminated abnormally with the  state: {'grad': array([-0.00015696]), 'task': b'ABNORMAL_TERMINATION_IN_LNSRCH', 'funcalls': 49, 'nit': 2, 'warnflag': 2}\n",
      "  \" state: %s\" % convergence_dict)\n"
     ]
    },
    {
     "name": "stdout",
     "output_type": "stream",
     "text": [
      "   40 | 00m09s |    0.85452 |    1.7454 |     0.2772 |   19.1211 |    0.1044 | \n"
     ]
    },
    {
     "name": "stderr",
     "output_type": "stream",
     "text": [
      "/home/greg/.local/lib/python3.6/site-packages/sklearn/gaussian_process/gpr.py:457: UserWarning: fmin_l_bfgs_b terminated abnormally with the  state: {'grad': array([-0.00357252]), 'task': b'ABNORMAL_TERMINATION_IN_LNSRCH', 'funcalls': 54, 'nit': 4, 'warnflag': 2}\n",
      "  \" state: %s\" % convergence_dict)\n"
     ]
    },
    {
     "name": "stdout",
     "output_type": "stream",
     "text": [
      "   41 | 00m10s |    0.85473 |    1.1810 |     0.3052 |   19.4719 |    0.0174 | \n"
     ]
    },
    {
     "name": "stderr",
     "output_type": "stream",
     "text": [
      "/home/greg/.local/lib/python3.6/site-packages/sklearn/gaussian_process/gpr.py:457: UserWarning: fmin_l_bfgs_b terminated abnormally with the  state: {'grad': array([-6.31391886e-05]), 'task': b'ABNORMAL_TERMINATION_IN_LNSRCH', 'funcalls': 54, 'nit': 5, 'warnflag': 2}\n",
      "  \" state: %s\" % convergence_dict)\n",
      "/home/greg/.local/lib/python3.6/site-packages/sklearn/gaussian_process/gpr.py:457: UserWarning: fmin_l_bfgs_b terminated abnormally with the  state: {'grad': array([-0.00098301]), 'task': b'ABNORMAL_TERMINATION_IN_LNSRCH', 'funcalls': 62, 'nit': 5, 'warnflag': 2}\n",
      "  \" state: %s\" % convergence_dict)\n"
     ]
    },
    {
     "name": "stdout",
     "output_type": "stream",
     "text": [
      "   42 | 00m11s |    0.85422 |    2.0780 |     0.3619 |   16.8258 |    0.1939 | \n",
      "   43 | 00m10s |    0.85391 |    2.7379 |     0.2408 |   17.4776 |    0.3605 | \n",
      "   44 | 00m10s |    0.85446 |    1.3462 |     0.5355 |   16.9482 |    0.0750 | \n",
      "   45 | 00m11s |    0.85389 |    1.0809 |     1.5101 |   18.4041 |    0.1258 | \n"
     ]
    },
    {
     "name": "stderr",
     "output_type": "stream",
     "text": [
      "/home/greg/.local/lib/python3.6/site-packages/sklearn/gaussian_process/gpr.py:457: UserWarning: fmin_l_bfgs_b terminated abnormally with the  state: {'grad': array([-4.24813479e-05]), 'task': b'ABNORMAL_TERMINATION_IN_LNSRCH', 'funcalls': 68, 'nit': 8, 'warnflag': 2}\n",
      "  \" state: %s\" % convergence_dict)\n"
     ]
    },
    {
     "name": "stdout",
     "output_type": "stream",
     "text": [
      "   46 | 00m09s |    0.85404 |    0.8602 |     1.6910 |   19.5196 |    0.0197 | \n"
     ]
    },
    {
     "name": "stderr",
     "output_type": "stream",
     "text": [
      "/home/greg/.local/lib/python3.6/site-packages/sklearn/gaussian_process/gpr.py:457: UserWarning: fmin_l_bfgs_b terminated abnormally with the  state: {'grad': array([-0.00024419]), 'task': b'ABNORMAL_TERMINATION_IN_LNSRCH', 'funcalls': 51, 'nit': 4, 'warnflag': 2}\n",
      "  \" state: %s\" % convergence_dict)\n",
      "/home/greg/.local/lib/python3.6/site-packages/sklearn/gaussian_process/gpr.py:457: UserWarning: fmin_l_bfgs_b terminated abnormally with the  state: {'grad': array([-0.00300718]), 'task': b'ABNORMAL_TERMINATION_IN_LNSRCH', 'funcalls': 59, 'nit': 7, 'warnflag': 2}\n",
      "  \" state: %s\" % convergence_dict)\n",
      "/home/greg/.local/lib/python3.6/site-packages/sklearn/gaussian_process/gpr.py:457: UserWarning: fmin_l_bfgs_b terminated abnormally with the  state: {'grad': array([0.00310644]), 'task': b'ABNORMAL_TERMINATION_IN_LNSRCH', 'funcalls': 61, 'nit': 6, 'warnflag': 2}\n",
      "  \" state: %s\" % convergence_dict)\n"
     ]
    },
    {
     "name": "stdout",
     "output_type": "stream",
     "text": [
      "   47 | 00m10s | \u001b[35m   0.85476\u001b[0m | \u001b[32m   1.3061\u001b[0m | \u001b[32m    0.1811\u001b[0m | \u001b[32m  19.6037\u001b[0m | \u001b[32m   0.0083\u001b[0m | \n"
     ]
    },
    {
     "name": "stderr",
     "output_type": "stream",
     "text": [
      "/home/greg/.local/lib/python3.6/site-packages/sklearn/gaussian_process/gpr.py:457: UserWarning: fmin_l_bfgs_b terminated abnormally with the  state: {'grad': array([-2.9893592e-05]), 'task': b'ABNORMAL_TERMINATION_IN_LNSRCH', 'funcalls': 84, 'nit': 7, 'warnflag': 2}\n",
      "  \" state: %s\" % convergence_dict)\n",
      "/home/greg/.local/lib/python3.6/site-packages/sklearn/gaussian_process/gpr.py:457: UserWarning: fmin_l_bfgs_b terminated abnormally with the  state: {'grad': array([0.00019701]), 'task': b'ABNORMAL_TERMINATION_IN_LNSRCH', 'funcalls': 99, 'nit': 6, 'warnflag': 2}\n",
      "  \" state: %s\" % convergence_dict)\n",
      "/home/greg/.local/lib/python3.6/site-packages/sklearn/gaussian_process/gpr.py:457: UserWarning: fmin_l_bfgs_b terminated abnormally with the  state: {'grad': array([-0.00958264]), 'task': b'ABNORMAL_TERMINATION_IN_LNSRCH', 'funcalls': 66, 'nit': 5, 'warnflag': 2}\n",
      "  \" state: %s\" % convergence_dict)\n",
      "/home/greg/.local/lib/python3.6/site-packages/sklearn/gaussian_process/gpr.py:457: UserWarning: fmin_l_bfgs_b terminated abnormally with the  state: {'grad': array([-2.00429931e-05]), 'task': b'ABNORMAL_TERMINATION_IN_LNSRCH', 'funcalls': 65, 'nit': 10, 'warnflag': 2}\n",
      "  \" state: %s\" % convergence_dict)\n"
     ]
    },
    {
     "name": "stdout",
     "output_type": "stream",
     "text": [
      "   48 | 00m11s |    0.85420 |    0.2408 |     0.3720 |   19.1961 |    0.3675 | \n"
     ]
    },
    {
     "name": "stderr",
     "output_type": "stream",
     "text": [
      "/home/greg/.local/lib/python3.6/site-packages/sklearn/gaussian_process/gpr.py:457: UserWarning: fmin_l_bfgs_b terminated abnormally with the  state: {'grad': array([-0.00740388]), 'task': b'ABNORMAL_TERMINATION_IN_LNSRCH', 'funcalls': 90, 'nit': 5, 'warnflag': 2}\n",
      "  \" state: %s\" % convergence_dict)\n",
      "/home/greg/.local/lib/python3.6/site-packages/sklearn/gaussian_process/gpr.py:457: UserWarning: fmin_l_bfgs_b terminated abnormally with the  state: {'grad': array([-0.00590109]), 'task': b'ABNORMAL_TERMINATION_IN_LNSRCH', 'funcalls': 77, 'nit': 5, 'warnflag': 2}\n",
      "  \" state: %s\" % convergence_dict)\n"
     ]
    },
    {
     "name": "stdout",
     "output_type": "stream",
     "text": [
      "   49 | 00m10s |    0.85331 |    2.5411 |     0.3719 |   17.2102 |    0.6650 | \n"
     ]
    },
    {
     "name": "stderr",
     "output_type": "stream",
     "text": [
      "/home/greg/.local/lib/python3.6/site-packages/sklearn/gaussian_process/gpr.py:457: UserWarning: fmin_l_bfgs_b terminated abnormally with the  state: {'grad': array([-0.00912791]), 'task': b'ABNORMAL_TERMINATION_IN_LNSRCH', 'funcalls': 67, 'nit': 7, 'warnflag': 2}\n",
      "  \" state: %s\" % convergence_dict)\n",
      "/home/greg/.local/lib/python3.6/site-packages/sklearn/gaussian_process/gpr.py:457: UserWarning: fmin_l_bfgs_b terminated abnormally with the  state: {'grad': array([-0.00942259]), 'task': b'ABNORMAL_TERMINATION_IN_LNSRCH', 'funcalls': 70, 'nit': 7, 'warnflag': 2}\n",
      "  \" state: %s\" % convergence_dict)\n",
      "/home/greg/.local/lib/python3.6/site-packages/sklearn/gaussian_process/gpr.py:457: UserWarning: fmin_l_bfgs_b terminated abnormally with the  state: {'grad': array([-0.00012391]), 'task': b'ABNORMAL_TERMINATION_IN_LNSRCH', 'funcalls': 50, 'nit': 5, 'warnflag': 2}\n",
      "  \" state: %s\" % convergence_dict)\n",
      "/home/greg/.local/lib/python3.6/site-packages/sklearn/gaussian_process/gpr.py:457: UserWarning: fmin_l_bfgs_b terminated abnormally with the  state: {'grad': array([4.45898622e-05]), 'task': b'ABNORMAL_TERMINATION_IN_LNSRCH', 'funcalls': 53, 'nit': 4, 'warnflag': 2}\n",
      "  \" state: %s\" % convergence_dict)\n",
      "/home/greg/.local/lib/python3.6/site-packages/sklearn/gaussian_process/gpr.py:457: UserWarning: fmin_l_bfgs_b terminated abnormally with the  state: {'grad': array([-3.29706818e-05]), 'task': b'ABNORMAL_TERMINATION_IN_LNSRCH', 'funcalls': 67, 'nit': 6, 'warnflag': 2}\n",
      "  \" state: %s\" % convergence_dict)\n",
      "/home/greg/.local/lib/python3.6/site-packages/sklearn/gaussian_process/gpr.py:457: UserWarning: fmin_l_bfgs_b terminated abnormally with the  state: {'grad': array([-0.02990635]), 'task': b'ABNORMAL_TERMINATION_IN_LNSRCH', 'funcalls': 53, 'nit': 5, 'warnflag': 2}\n",
      "  \" state: %s\" % convergence_dict)\n",
      "/home/greg/.local/lib/python3.6/site-packages/sklearn/gaussian_process/gpr.py:457: UserWarning: fmin_l_bfgs_b terminated abnormally with the  state: {'grad': array([-0.00913001]), 'task': b'ABNORMAL_TERMINATION_IN_LNSRCH', 'funcalls': 94, 'nit': 7, 'warnflag': 2}\n",
      "  \" state: %s\" % convergence_dict)\n",
      "/home/greg/.local/lib/python3.6/site-packages/sklearn/gaussian_process/gpr.py:457: UserWarning: fmin_l_bfgs_b terminated abnormally with the  state: {'grad': array([0.00929009]), 'task': b'ABNORMAL_TERMINATION_IN_LNSRCH', 'funcalls': 54, 'nit': 5, 'warnflag': 2}\n",
      "  \" state: %s\" % convergence_dict)\n",
      "/home/greg/.local/lib/python3.6/site-packages/sklearn/gaussian_process/gpr.py:457: UserWarning: fmin_l_bfgs_b terminated abnormally with the  state: {'grad': array([0.00014625]), 'task': b'ABNORMAL_TERMINATION_IN_LNSRCH', 'funcalls': 70, 'nit': 6, 'warnflag': 2}\n",
      "  \" state: %s\" % convergence_dict)\n"
     ]
    },
    {
     "name": "stdout",
     "output_type": "stream",
     "text": [
      "   50 | 00m11s |    0.85402 |    0.3371 |     0.0023 |   16.8088 |    0.4524 | \n"
     ]
    },
    {
     "name": "stderr",
     "output_type": "stream",
     "text": [
      "/home/greg/.local/lib/python3.6/site-packages/sklearn/gaussian_process/gpr.py:457: UserWarning: fmin_l_bfgs_b terminated abnormally with the  state: {'grad': array([-1.31645938e-05]), 'task': b'ABNORMAL_TERMINATION_IN_LNSRCH', 'funcalls': 57, 'nit': 5, 'warnflag': 2}\n",
      "  \" state: %s\" % convergence_dict)\n",
      "/home/greg/.local/lib/python3.6/site-packages/sklearn/gaussian_process/gpr.py:457: UserWarning: fmin_l_bfgs_b terminated abnormally with the  state: {'grad': array([-0.00068051]), 'task': b'ABNORMAL_TERMINATION_IN_LNSRCH', 'funcalls': 61, 'nit': 5, 'warnflag': 2}\n",
      "  \" state: %s\" % convergence_dict)\n",
      "/home/greg/.local/lib/python3.6/site-packages/sklearn/gaussian_process/gpr.py:457: UserWarning: fmin_l_bfgs_b terminated abnormally with the  state: {'grad': array([0.00323267]), 'task': b'ABNORMAL_TERMINATION_IN_LNSRCH', 'funcalls': 50, 'nit': 6, 'warnflag': 2}\n",
      "  \" state: %s\" % convergence_dict)\n",
      "/home/greg/.local/lib/python3.6/site-packages/sklearn/gaussian_process/gpr.py:457: UserWarning: fmin_l_bfgs_b terminated abnormally with the  state: {'grad': array([0.00752524]), 'task': b'ABNORMAL_TERMINATION_IN_LNSRCH', 'funcalls': 110, 'nit': 8, 'warnflag': 2}\n",
      "  \" state: %s\" % convergence_dict)\n",
      "/home/greg/.local/lib/python3.6/site-packages/sklearn/gaussian_process/gpr.py:457: UserWarning: fmin_l_bfgs_b terminated abnormally with the  state: {'grad': array([-0.00025345]), 'task': b'ABNORMAL_TERMINATION_IN_LNSRCH', 'funcalls': 71, 'nit': 5, 'warnflag': 2}\n",
      "  \" state: %s\" % convergence_dict)\n",
      "/home/greg/.local/lib/python3.6/site-packages/sklearn/gaussian_process/gpr.py:457: UserWarning: fmin_l_bfgs_b terminated abnormally with the  state: {'grad': array([-0.00872992]), 'task': b'ABNORMAL_TERMINATION_IN_LNSRCH', 'funcalls': 57, 'nit': 5, 'warnflag': 2}\n",
      "  \" state: %s\" % convergence_dict)\n",
      "/home/greg/.local/lib/python3.6/site-packages/sklearn/gaussian_process/gpr.py:457: UserWarning: fmin_l_bfgs_b terminated abnormally with the  state: {'grad': array([0.00915865]), 'task': b'ABNORMAL_TERMINATION_IN_LNSRCH', 'funcalls': 68, 'nit': 4, 'warnflag': 2}\n",
      "  \" state: %s\" % convergence_dict)\n"
     ]
    }
   ],
   "source": [
    "bayes_cv.maximize(init_points = 25, n_iter = 25)"
   ]
  },
  {
   "cell_type": "code",
   "execution_count": 11,
   "metadata": {},
   "outputs": [],
   "source": [
    "max_params = vars(bayes_cv)['res']['max']['max_params']"
   ]
  },
  {
   "cell_type": "code",
   "execution_count": 9,
   "metadata": {},
   "outputs": [],
   "source": [
    "lgbm_test = pd.read_csv(\"v11_predictions_LGBM.csv\")\n",
    "keras_test = pd.read_csv(\"v11_predictions_Keras.csv\")\n",
    "adaboost_test = pd.read_csv(\"v11_predictions_AdaBoost.csv\")\n",
    "xgboost_test = pd.read_csv(\"v11_predictions_XGBoost.csv\")"
   ]
  },
  {
   "cell_type": "code",
   "execution_count": 12,
   "metadata": {},
   "outputs": [],
   "source": [
    "blended_test = lgbm_test[\"TARGET\"] * max_params['lgbm_wt'] + \\\n",
    "               keras_test[\"TARGET\"] * max_params['keras_wt'] + \\\n",
    "               adaboost_test[\"TARGET\"] * max_params['ada_wt'] + \\\n",
    "               xgboost_test[\"TARGET\"] * max_params['xgb_wt']\n",
    "\n",
    "blended_test = blended_test / (max_params['lgbm_wt'] + max_params['keras_wt'] + \\\n",
    "               max_params['ada_wt'] + max_params['xgb_wt'])"
   ]
  },
  {
   "cell_type": "code",
   "execution_count": 14,
   "metadata": {},
   "outputs": [],
   "source": [
    "blended_preds = pd.DataFrame({\"SK_ID_CURR\":lgbm_test[\"SK_ID_CURR\"], \"TARGET\":blended_test})\n",
    "blended_preds.to_csv(\"v11_predictions_blended.csv\", index = False)"
   ]
  }
 ],
 "metadata": {
  "kernelspec": {
   "display_name": "Python 3",
   "language": "python",
   "name": "python3"
  },
  "language_info": {
   "codemirror_mode": {
    "name": "ipython",
    "version": 3
   },
   "file_extension": ".py",
   "mimetype": "text/x-python",
   "name": "python",
   "nbconvert_exporter": "python",
   "pygments_lexer": "ipython3",
   "version": "3.6.5"
  }
 },
 "nbformat": 4,
 "nbformat_minor": 2
}
