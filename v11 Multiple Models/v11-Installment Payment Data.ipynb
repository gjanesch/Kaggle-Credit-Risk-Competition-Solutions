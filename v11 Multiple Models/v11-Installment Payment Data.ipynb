{
 "cells": [
  {
   "cell_type": "markdown",
   "metadata": {},
   "source": [
    "<h2>This file is for processing the data from the supplementary <TT>installments_payments</TT> data file.</h2>"
   ]
  },
  {
   "cell_type": "code",
   "execution_count": 1,
   "metadata": {},
   "outputs": [],
   "source": [
    "import v11_common as com\n",
    "\n",
    "import feather\n",
    "import numpy as np\n",
    "import pandas as pd\n",
    "import re"
   ]
  },
  {
   "cell_type": "code",
   "execution_count": 2,
   "metadata": {},
   "outputs": [],
   "source": [
    "# Future work:\n",
    "#  - find the divide by 0 problem in the aggregation df"
   ]
  },
  {
   "cell_type": "code",
   "execution_count": 3,
   "metadata": {},
   "outputs": [],
   "source": [
    "IP_FILE_PATH = com.DATA_FILE_FOLDER + \"installments_payments.feather\""
   ]
  },
  {
   "cell_type": "code",
   "execution_count": 4,
   "metadata": {},
   "outputs": [],
   "source": [
    "install_pay = pd.read_feather(IP_FILE_PATH)"
   ]
  },
  {
   "cell_type": "code",
   "execution_count": 5,
   "metadata": {},
   "outputs": [],
   "source": [
    "# New features\n",
    "install_pay[\"AMT_PAYMENT\"].fillna(value = install_pay[\"AMT_INSTALMENT\"], inplace = True)\n",
    "install_pay[\"DAYS_ENTRY_PAYMENT\"].fillna(value = install_pay[\"DAYS_INSTALMENT\"], inplace = True)\n",
    "\n",
    "install_pay[\"FRACTION_INSTALLMENT_PAID\"] = install_pay[\"AMT_PAYMENT\"] / install_pay[\"AMT_INSTALMENT\"]\n",
    "install_pay[\"FRACTION_INSTALLMENT_PAID\"] = install_pay[\"FRACTION_INSTALLMENT_PAID\"].replace([np.inf,-np.inf],np.nan)\n",
    "\n",
    "install_pay[\"DAYS_OFF_PAYMENT\"] = install_pay[\"DAYS_INSTALMENT\"] - install_pay[\"DAYS_ENTRY_PAYMENT\"]\n",
    "\n",
    "conditions = [install_pay[\"AMT_PAYMENT\"] < install_pay[\"AMT_INSTALMENT\"],\n",
    "              install_pay[\"AMT_PAYMENT\"] == install_pay[\"AMT_INSTALMENT\"],\n",
    "              install_pay[\"AMT_PAYMENT\"] > install_pay[\"AMT_INSTALMENT\"]]\n",
    "choices = [\"UNDER\", \"EXACT_AMT\", \"OVER\"]\n",
    "install_pay[\"PAYMENT_LEVEL\"] = np.select(conditions, choices)\n",
    "\n",
    "conditions = [install_pay[\"DAYS_ENTRY_PAYMENT\"] > install_pay[\"DAYS_INSTALMENT\"],\n",
    "              install_pay[\"DAYS_ENTRY_PAYMENT\"] == install_pay[\"DAYS_INSTALMENT\"],\n",
    "              install_pay[\"DAYS_ENTRY_PAYMENT\"] < install_pay[\"DAYS_INSTALMENT\"]]\n",
    "choices = [\"LATE\", \"ON_TIME\", \"EARLY\"]\n",
    "install_pay[\"PAYMENT_TIME\"] = np.select(conditions, choices)"
   ]
  },
  {
   "cell_type": "code",
   "execution_count": 6,
   "metadata": {},
   "outputs": [],
   "source": [
    "install_pay_gr = install_pay.groupby(\"SK_ID_CURR\")"
   ]
  },
  {
   "cell_type": "code",
   "execution_count": 7,
   "metadata": {},
   "outputs": [
    {
     "name": "stderr",
     "output_type": "stream",
     "text": [
      "/home/greg/.local/lib/python3.6/site-packages/scipy/stats/stats.py:313: RuntimeWarning: divide by zero encountered in log\n",
      "  log_a = np.log(a)\n"
     ]
    }
   ],
   "source": [
    "install_pay_sub = install_pay_gr.agg({\"AMT_PAYMENT\":[min, np.mean, max, com.log_average],\n",
    "                                      \"AMT_INSTALMENT\":[min, np.mean, max, com.log_average],\n",
    "                                      \"DAYS_OFF_PAYMENT\":[min,np.mean,max],\n",
    "                                      \"FRACTION_INSTALLMENT_PAID\":[min,np.mean,max, com.geom_mean]})\n",
    "install_pay_sub.columns = [\"MIN_PAYMENT\", \"AVG_PAYMENT\", \"MAX_PAYMENT\", \"LOG_AVG_PAYMENT\",\n",
    "                           \"MIN_INSTALLMENT\", \"AVG_INSTALLMENT\", \"MAX_INSTALLMENT\", \"LOG_AVG_INSTALLMENT\",\n",
    "                           \"BEST_PAYMENT_DATE\", \"AVG_DAYS_OFF_PAYMENT\", \"WORST_PAYMENT_DATE\",\n",
    "                           \"MIN_INSTALL_FRAC_PAID\", \"AVG_INSTALL_FRAC_PAID\", \"MAX_INSTALL_FRAC_PAID\", \"GMEAN_INSTALL_FRAC_PAID\"]\n",
    "\n",
    "install_pay_sub[\"NUM_INSTALLMENT_ENTRIES\"] = install_pay_gr.size()"
   ]
  },
  {
   "cell_type": "code",
   "execution_count": 8,
   "metadata": {},
   "outputs": [],
   "source": [
    "install_pay_level = com.count_frac_cols(install_pay_gr,\n",
    "                                        col = \"PAYMENT_LEVEL\",\n",
    "                                        middle_string = \"PAYMENTS\")"
   ]
  },
  {
   "cell_type": "code",
   "execution_count": 9,
   "metadata": {},
   "outputs": [],
   "source": [
    "install_pay_times = com.count_frac_cols(install_pay_gr,\n",
    "                                        col = \"PAYMENT_TIME\",\n",
    "                                        middle_string = \"PAYMENTS\")"
   ]
  },
  {
   "cell_type": "code",
   "execution_count": 10,
   "metadata": {},
   "outputs": [
    {
     "name": "stdout",
     "output_type": "stream",
     "text": [
      "30 days complete.\n",
      "120 days complete.\n",
      "365 days complete.\n",
      "730 days complete.\n"
     ]
    }
   ],
   "source": [
    "install_pay_n_days = []\n",
    "for days in [30,120,365,730]:\n",
    "    install_pay_recent = install_pay[install_pay[\"DAYS_INSTALMENT\"] >= -days]\n",
    "    install_pay_recent_gr = install_pay_recent.groupby(\"SK_ID_CURR\")\n",
    "    \n",
    "    install_pay_recent_sub = install_pay_recent_gr.agg({\"AMT_PAYMENT\":[min, np.mean, max, com.log_average]})\n",
    "    install_pay_recent_sub.columns = [f\"MIN_PAYMENT_{days}_DAYS\",\n",
    "                                      f\"AVG_PAYMENT_{days}_DAYS\",\n",
    "                                      f\"MAX_PAYMENT_{days}_DAYS\",\n",
    "                                      f\"LOG_AVG_PAYMENT_{days}_DAYS\"]\n",
    "    \n",
    "    install_pay_recent_sub[f\"NUM_INSTAL_PAY_{days}_DAYS\"] = install_pay_recent_gr.size()\n",
    "    \n",
    "    install_pay_recent_level = com.count_frac_cols(install_pay_recent_gr,\n",
    "                                                   col = \"PAYMENT_LEVEL\",\n",
    "                                                   middle_string = f\"PAYMENTS_{days}_DAYS\")\n",
    "    \n",
    "    install_pay_recent_times = com.count_frac_cols(install_pay_recent_gr,\n",
    "                                                   col = \"PAYMENT_TIME\",\n",
    "                                                   middle_string = f\"PAYMENTS_{days}_DAYS\")\n",
    "    \n",
    "    install_pay_n_days.append(pd.concat([install_pay_recent_sub, install_pay_recent_level, install_pay_recent_times], axis = 1))\n",
    "    print(f\"{days} days complete.\")\n",
    "    \n",
    "install_pay_recent_data = pd.DataFrame(index = install_pay_sub.index).join(install_pay_n_days, how = \"left\")"
   ]
  },
  {
   "cell_type": "code",
   "execution_count": 11,
   "metadata": {},
   "outputs": [],
   "source": [
    "install_pay_dfs = [install_pay_sub, install_pay_level, install_pay_times, install_pay_recent_data]\n",
    "install_pay_data = pd.concat(install_pay_dfs, axis = 1)"
   ]
  },
  {
   "cell_type": "markdown",
   "metadata": {},
   "source": [
    "<h4> Logistic regression predictions.  Several columns are stripped out due to multicollinearity issues (the threshold point for this is a correlation of greater than 0.75 between two variables).  A few other columns are transformed so that they have higher correlations with the TARGET variable (which seems to help the models along); since the ranking order of the points stays the same in these circumstances, the gradient boosting shouldn't be particularly affected. </h4>\n",
    "\n",
    "<h4> LAST AUC VALUE: 0.6100 </h4>"
   ]
  },
  {
   "cell_type": "markdown",
   "metadata": {},
   "source": [
    "High Correlation Pairs:\n",
    "    \n",
    "NOT CHECKED YET"
   ]
  },
  {
   "cell_type": "code",
   "execution_count": 12,
   "metadata": {},
   "outputs": [],
   "source": [
    "# Load objects needed for logistic regression\n",
    "target_df = pd.read_feather(\"target.feather\")\n",
    "\n",
    "install_pay_poly = {\"MIN_PAYMENT\":0.5,\"LOG_AVG_PAYMENT\":0.5,\"NUM_PAYMENTS_UNDER\":0.1}\n",
    "\n",
    "high_cor_columns = []"
   ]
  },
  {
   "cell_type": "code",
   "execution_count": 13,
   "metadata": {},
   "outputs": [
    {
     "name": "stdout",
     "output_type": "stream",
     "text": [
      "0.6097531476928157\n",
      "Avg AUC: 0.6097531476928157\n"
     ]
    }
   ],
   "source": [
    "# Make logistic regression predictions\n",
    "test_aucs = []\n",
    "for _ in range(1):\n",
    "    pred, auc = com.log_regress_other_files(com.add_polynomial_terms(install_pay_data.reset_index().copy(), install_pay_poly),\n",
    "                                            target_df,\n",
    "                                            high_cor_columns)\n",
    "    test_aucs.append(auc)\n",
    "    print(auc)\n",
    "print(\"Avg AUC: \" + str(np.mean(test_aucs)))"
   ]
  },
  {
   "cell_type": "code",
   "execution_count": 14,
   "metadata": {},
   "outputs": [],
   "source": [
    "install_pay_data[\"INST_PAY_LR_PREDS\"] = pred"
   ]
  },
  {
   "cell_type": "code",
   "execution_count": 15,
   "metadata": {},
   "outputs": [],
   "source": [
    "install_pay_data.reset_index().to_feather(\"installments_payments_sub.feather\")"
   ]
  }
 ],
 "metadata": {
  "kernelspec": {
   "display_name": "Python 3",
   "language": "python",
   "name": "python3"
  },
  "language_info": {
   "codemirror_mode": {
    "name": "ipython",
    "version": 3
   },
   "file_extension": ".py",
   "mimetype": "text/x-python",
   "name": "python",
   "nbconvert_exporter": "python",
   "pygments_lexer": "ipython3",
   "version": "3.6.5"
  }
 },
 "nbformat": 4,
 "nbformat_minor": 2
}
