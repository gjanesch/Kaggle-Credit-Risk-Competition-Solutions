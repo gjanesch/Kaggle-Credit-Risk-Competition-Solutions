{
 "cells": [
  {
   "cell_type": "code",
   "execution_count": 1,
   "metadata": {},
   "outputs": [],
   "source": [
    "import numpy as np\n",
    "import pandas as pd\n",
    "import feather\n",
    "from lightgbm import LGBMClassifier\n",
    "from skopt import BayesSearchCV\n",
    "from sklearn.model_selection import KFold"
   ]
  },
  {
   "cell_type": "code",
   "execution_count": 2,
   "metadata": {},
   "outputs": [],
   "source": [
    "def constrain_to_range(x,upper_lim,lower_lim):\n",
    "    return min(max(x, lower_lim),upper_lim)"
   ]
  },
  {
   "cell_type": "code",
   "execution_count": 3,
   "metadata": {},
   "outputs": [],
   "source": [
    "classifier = LGBMClassifier(verbose = 0, learning_rate = 0.02, metric = \"auc\", n_estimators = 3000, device = \"gpu\")\n",
    "lgbm_parameter_ranges = {\"num_leaves\":(20,40),\n",
    "                         \"colsample_by_tree\":(0.6,0.95),\n",
    "                         \"subsample\":(0.6,0.95),\n",
    "                         \"max_depth\":(4,10),\n",
    "                         \"reg_alpha\":(0.01,0.25),\n",
    "                         \"reg_lambda\":(0.01,0.25),\n",
    "                         \"min_split_gain\":(0.01,0.1),\n",
    "                         \"min_child_weight\":(1,50)}"
   ]
  },
  {
   "cell_type": "code",
   "execution_count": 4,
   "metadata": {},
   "outputs": [],
   "source": [
    "bayes_cv = BayesSearchCV(estimator = classifier,\n",
    "                         search_spaces = lgbm_parameter_ranges,\n",
    "                         scoring = \"roc_auc\",\n",
    "                         n_iter = 30,\n",
    "                         cv = 5,\n",
    "                         verbose = 1)"
   ]
  },
  {
   "cell_type": "code",
   "execution_count": 5,
   "metadata": {},
   "outputs": [],
   "source": [
    "train = pd.read_feather(\"v11 train data.feather\")\n",
    "target = pd.read_feather(\"target.feather\")[\"TARGET\"]"
   ]
  },
  {
   "cell_type": "code",
   "execution_count": 6,
   "metadata": {},
   "outputs": [
    {
     "name": "stdout",
     "output_type": "stream",
     "text": [
      "Fitting 5 folds for each of 1 candidates, totalling 5 fits\n"
     ]
    },
    {
     "name": "stderr",
     "output_type": "stream",
     "text": [
      "[Parallel(n_jobs=1)]: Done   5 out of   5 | elapsed: 11.0min finished\n"
     ]
    },
    {
     "name": "stdout",
     "output_type": "stream",
     "text": [
      "Fitting 5 folds for each of 1 candidates, totalling 5 fits\n"
     ]
    },
    {
     "name": "stderr",
     "output_type": "stream",
     "text": [
      "[Parallel(n_jobs=1)]: Done   5 out of   5 | elapsed: 12.1min finished\n"
     ]
    },
    {
     "name": "stdout",
     "output_type": "stream",
     "text": [
      "Fitting 5 folds for each of 1 candidates, totalling 5 fits\n"
     ]
    },
    {
     "name": "stderr",
     "output_type": "stream",
     "text": [
      "[Parallel(n_jobs=1)]: Done   5 out of   5 | elapsed: 11.8min finished\n"
     ]
    },
    {
     "name": "stdout",
     "output_type": "stream",
     "text": [
      "Fitting 5 folds for each of 1 candidates, totalling 5 fits\n"
     ]
    },
    {
     "name": "stderr",
     "output_type": "stream",
     "text": [
      "[Parallel(n_jobs=1)]: Done   5 out of   5 | elapsed:  7.4min finished\n"
     ]
    },
    {
     "name": "stdout",
     "output_type": "stream",
     "text": [
      "Fitting 5 folds for each of 1 candidates, totalling 5 fits\n"
     ]
    },
    {
     "name": "stderr",
     "output_type": "stream",
     "text": [
      "[Parallel(n_jobs=1)]: Done   5 out of   5 | elapsed: 11.8min finished\n"
     ]
    },
    {
     "name": "stdout",
     "output_type": "stream",
     "text": [
      "Fitting 5 folds for each of 1 candidates, totalling 5 fits\n"
     ]
    },
    {
     "name": "stderr",
     "output_type": "stream",
     "text": [
      "[Parallel(n_jobs=1)]: Done   5 out of   5 | elapsed: 12.1min finished\n"
     ]
    },
    {
     "name": "stdout",
     "output_type": "stream",
     "text": [
      "Fitting 5 folds for each of 1 candidates, totalling 5 fits\n"
     ]
    },
    {
     "name": "stderr",
     "output_type": "stream",
     "text": [
      "[Parallel(n_jobs=1)]: Done   5 out of   5 | elapsed: 13.1min finished\n"
     ]
    },
    {
     "name": "stdout",
     "output_type": "stream",
     "text": [
      "Fitting 5 folds for each of 1 candidates, totalling 5 fits\n"
     ]
    },
    {
     "name": "stderr",
     "output_type": "stream",
     "text": [
      "[Parallel(n_jobs=1)]: Done   5 out of   5 | elapsed: 15.4min finished\n"
     ]
    },
    {
     "name": "stdout",
     "output_type": "stream",
     "text": [
      "Fitting 5 folds for each of 1 candidates, totalling 5 fits\n"
     ]
    },
    {
     "name": "stderr",
     "output_type": "stream",
     "text": [
      "[Parallel(n_jobs=1)]: Done   5 out of   5 | elapsed: 12.1min finished\n"
     ]
    },
    {
     "name": "stdout",
     "output_type": "stream",
     "text": [
      "Fitting 5 folds for each of 1 candidates, totalling 5 fits\n"
     ]
    },
    {
     "name": "stderr",
     "output_type": "stream",
     "text": [
      "[Parallel(n_jobs=1)]: Done   5 out of   5 | elapsed: 14.4min finished\n"
     ]
    },
    {
     "name": "stdout",
     "output_type": "stream",
     "text": [
      "Fitting 5 folds for each of 1 candidates, totalling 5 fits\n"
     ]
    },
    {
     "name": "stderr",
     "output_type": "stream",
     "text": [
      "[Parallel(n_jobs=1)]: Done   5 out of   5 | elapsed:  7.7min finished\n"
     ]
    },
    {
     "name": "stdout",
     "output_type": "stream",
     "text": [
      "Fitting 5 folds for each of 1 candidates, totalling 5 fits\n"
     ]
    },
    {
     "name": "stderr",
     "output_type": "stream",
     "text": [
      "[Parallel(n_jobs=1)]: Done   5 out of   5 | elapsed: 11.2min finished\n"
     ]
    },
    {
     "name": "stdout",
     "output_type": "stream",
     "text": [
      "Fitting 5 folds for each of 1 candidates, totalling 5 fits\n"
     ]
    },
    {
     "name": "stderr",
     "output_type": "stream",
     "text": [
      "[Parallel(n_jobs=1)]: Done   5 out of   5 | elapsed: 10.8min finished\n"
     ]
    },
    {
     "name": "stdout",
     "output_type": "stream",
     "text": [
      "Fitting 5 folds for each of 1 candidates, totalling 5 fits\n"
     ]
    },
    {
     "name": "stderr",
     "output_type": "stream",
     "text": [
      "[Parallel(n_jobs=1)]: Done   5 out of   5 | elapsed:  7.4min finished\n"
     ]
    },
    {
     "name": "stdout",
     "output_type": "stream",
     "text": [
      "Fitting 5 folds for each of 1 candidates, totalling 5 fits\n"
     ]
    },
    {
     "name": "stderr",
     "output_type": "stream",
     "text": [
      "[Parallel(n_jobs=1)]: Done   5 out of   5 | elapsed: 10.8min finished\n"
     ]
    },
    {
     "name": "stdout",
     "output_type": "stream",
     "text": [
      "Fitting 5 folds for each of 1 candidates, totalling 5 fits\n"
     ]
    },
    {
     "name": "stderr",
     "output_type": "stream",
     "text": [
      "[Parallel(n_jobs=1)]: Done   5 out of   5 | elapsed: 15.6min finished\n"
     ]
    },
    {
     "name": "stdout",
     "output_type": "stream",
     "text": [
      "Fitting 5 folds for each of 1 candidates, totalling 5 fits\n"
     ]
    },
    {
     "name": "stderr",
     "output_type": "stream",
     "text": [
      "[Parallel(n_jobs=1)]: Done   5 out of   5 | elapsed:  7.4min finished\n"
     ]
    },
    {
     "name": "stdout",
     "output_type": "stream",
     "text": [
      "Fitting 5 folds for each of 1 candidates, totalling 5 fits\n"
     ]
    },
    {
     "name": "stderr",
     "output_type": "stream",
     "text": [
      "[Parallel(n_jobs=1)]: Done   5 out of   5 | elapsed:  9.5min finished\n"
     ]
    },
    {
     "name": "stdout",
     "output_type": "stream",
     "text": [
      "Fitting 5 folds for each of 1 candidates, totalling 5 fits\n"
     ]
    },
    {
     "name": "stderr",
     "output_type": "stream",
     "text": [
      "[Parallel(n_jobs=1)]: Done   5 out of   5 | elapsed:  7.4min finished\n"
     ]
    },
    {
     "name": "stdout",
     "output_type": "stream",
     "text": [
      "Fitting 5 folds for each of 1 candidates, totalling 5 fits\n"
     ]
    },
    {
     "name": "stderr",
     "output_type": "stream",
     "text": [
      "[Parallel(n_jobs=1)]: Done   5 out of   5 | elapsed:  7.9min finished\n"
     ]
    },
    {
     "name": "stdout",
     "output_type": "stream",
     "text": [
      "Fitting 5 folds for each of 1 candidates, totalling 5 fits\n"
     ]
    },
    {
     "name": "stderr",
     "output_type": "stream",
     "text": [
      "[Parallel(n_jobs=1)]: Done   5 out of   5 | elapsed: 10.9min finished\n"
     ]
    },
    {
     "name": "stdout",
     "output_type": "stream",
     "text": [
      "Fitting 5 folds for each of 1 candidates, totalling 5 fits\n"
     ]
    },
    {
     "name": "stderr",
     "output_type": "stream",
     "text": [
      "[Parallel(n_jobs=1)]: Done   5 out of   5 | elapsed:  7.4min finished\n"
     ]
    },
    {
     "name": "stdout",
     "output_type": "stream",
     "text": [
      "Fitting 5 folds for each of 1 candidates, totalling 5 fits\n"
     ]
    },
    {
     "name": "stderr",
     "output_type": "stream",
     "text": [
      "[Parallel(n_jobs=1)]: Done   5 out of   5 | elapsed:  9.4min finished\n"
     ]
    },
    {
     "name": "stdout",
     "output_type": "stream",
     "text": [
      "Fitting 5 folds for each of 1 candidates, totalling 5 fits\n"
     ]
    },
    {
     "name": "stderr",
     "output_type": "stream",
     "text": [
      "[Parallel(n_jobs=1)]: Done   5 out of   5 | elapsed: 15.6min finished\n"
     ]
    },
    {
     "name": "stdout",
     "output_type": "stream",
     "text": [
      "Fitting 5 folds for each of 1 candidates, totalling 5 fits\n"
     ]
    },
    {
     "name": "stderr",
     "output_type": "stream",
     "text": [
      "[Parallel(n_jobs=1)]: Done   5 out of   5 | elapsed:  7.4min finished\n"
     ]
    },
    {
     "name": "stdout",
     "output_type": "stream",
     "text": [
      "Fitting 5 folds for each of 1 candidates, totalling 5 fits\n"
     ]
    },
    {
     "name": "stderr",
     "output_type": "stream",
     "text": [
      "[Parallel(n_jobs=1)]: Done   5 out of   5 | elapsed:  7.4min finished\n"
     ]
    },
    {
     "name": "stdout",
     "output_type": "stream",
     "text": [
      "Fitting 5 folds for each of 1 candidates, totalling 5 fits\n"
     ]
    },
    {
     "name": "stderr",
     "output_type": "stream",
     "text": [
      "[Parallel(n_jobs=1)]: Done   5 out of   5 | elapsed:  7.4min finished\n"
     ]
    },
    {
     "name": "stdout",
     "output_type": "stream",
     "text": [
      "Fitting 5 folds for each of 1 candidates, totalling 5 fits\n"
     ]
    },
    {
     "name": "stderr",
     "output_type": "stream",
     "text": [
      "[Parallel(n_jobs=1)]: Done   5 out of   5 | elapsed:  7.9min finished\n"
     ]
    },
    {
     "name": "stdout",
     "output_type": "stream",
     "text": [
      "Fitting 5 folds for each of 1 candidates, totalling 5 fits\n"
     ]
    },
    {
     "name": "stderr",
     "output_type": "stream",
     "text": [
      "[Parallel(n_jobs=1)]: Done   5 out of   5 | elapsed:  7.4min finished\n"
     ]
    },
    {
     "name": "stdout",
     "output_type": "stream",
     "text": [
      "Fitting 5 folds for each of 1 candidates, totalling 5 fits\n"
     ]
    },
    {
     "name": "stderr",
     "output_type": "stream",
     "text": [
      "[Parallel(n_jobs=1)]: Done   5 out of   5 | elapsed: 10.9min finished\n"
     ]
    }
   ],
   "source": [
    "result = bayes_cv.fit(train, target)"
   ]
  },
  {
   "cell_type": "code",
   "execution_count": 7,
   "metadata": {},
   "outputs": [
    {
     "data": {
      "text/plain": [
       "{'best_estimator_': LGBMClassifier(boosting_type='gbdt', class_weight=None,\n",
       "         colsample_by_tree=0.9315084747617819, colsample_bytree=1.0,\n",
       "         device='gpu', importance_type='split', learning_rate=0.02,\n",
       "         max_depth=4, metric='auc', min_child_samples=20,\n",
       "         min_child_weight=49, min_split_gain=0.0912615266339636,\n",
       "         n_estimators=3000, n_jobs=-1, num_leaves=20, objective=None,\n",
       "         random_state=None, reg_alpha=0.05857467305175828,\n",
       "         reg_lambda=0.21835474288253268, silent=True,\n",
       "         subsample=0.6123988770117104, subsample_for_bin=200000,\n",
       "         subsample_freq=0, verbose=0),\n",
       " 'best_index_': 13,\n",
       " 'cv': 5,\n",
       " 'cv_results_': defaultdict(list,\n",
       "             {'mean_fit_time': [128.42114806175232,\n",
       "               140.64654216766357,\n",
       "               137.88210062980653,\n",
       "               85.32153482437134,\n",
       "               136.41891407966614,\n",
       "               140.96340398788453,\n",
       "               152.15307579040527,\n",
       "               178.2098539352417,\n",
       "               140.98475508689882,\n",
       "               167.44597754478454,\n",
       "               89.05276136398315,\n",
       "               129.72951884269713,\n",
       "               125.99395484924317,\n",
       "               85.026655960083,\n",
       "               125.84321675300598,\n",
       "               183.03601422309876,\n",
       "               84.94981284141541,\n",
       "               109.2111238002777,\n",
       "               85.60893816947937,\n",
       "               91.52443141937256,\n",
       "               127.5469470500946,\n",
       "               85.22403831481934,\n",
       "               108.56091046333313,\n",
       "               180.84160375595093,\n",
       "               85.24483771324158,\n",
       "               85.1169774055481,\n",
       "               85.30469217300416,\n",
       "               91.27901368141174,\n",
       "               85.38207488059997,\n",
       "               125.85751976966858],\n",
       "              'mean_score_time': [3.917203903198242,\n",
       "               4.298373460769653,\n",
       "               4.192463016510009,\n",
       "               3.240988826751709,\n",
       "               4.940155696868897,\n",
       "               4.644978713989258,\n",
       "               5.412234210968018,\n",
       "               6.142922592163086,\n",
       "               4.747022867202759,\n",
       "               5.6630033493042,\n",
       "               3.3791974544525147,\n",
       "               4.69107460975647,\n",
       "               4.030210208892822,\n",
       "               3.4154298305511475,\n",
       "               4.13103461265564,\n",
       "               4.427010011672974,\n",
       "               3.4300910949707033,\n",
       "               4.347982168197632,\n",
       "               3.480361318588257,\n",
       "               3.540186548233032,\n",
       "               3.415818786621094,\n",
       "               3.5041160106658937,\n",
       "               4.396303606033325,\n",
       "               6.435964870452881,\n",
       "               3.5363811016082765,\n",
       "               3.547637605667114,\n",
       "               3.5532434940338136,\n",
       "               3.6297594547271728,\n",
       "               3.5786641597747804,\n",
       "               4.3261322498321535],\n",
       "              'mean_test_score': [0.7912032089298633,\n",
       "               0.789056408710607,\n",
       "               0.7905270514277271,\n",
       "               0.7917173984983094,\n",
       "               0.7905881956122672,\n",
       "               0.7912597738088109,\n",
       "               0.7896255418882093,\n",
       "               0.7895579355759716,\n",
       "               0.7907457299387514,\n",
       "               0.7880906196289318,\n",
       "               0.7903613924194065,\n",
       "               0.7878891819663822,\n",
       "               0.7914177767930898,\n",
       "               0.7920821771777287,\n",
       "               0.7915012944658703,\n",
       "               0.7869622324725623,\n",
       "               0.7918550964901869,\n",
       "               0.7914569799350429,\n",
       "               0.7919552434861986,\n",
       "               0.7897693387645008,\n",
       "               0.7892613052979516,\n",
       "               0.7919467377883347,\n",
       "               0.7916626419164607,\n",
       "               0.789620371989008,\n",
       "               0.7919780637273848,\n",
       "               0.7920062938645236,\n",
       "               0.7920632116091665,\n",
       "               0.7893144733680945,\n",
       "               0.7919704849910579,\n",
       "               0.7917718011995615],\n",
       "              'param_colsample_by_tree': [0.6525835305004882,\n",
       "               0.6142145102256563,\n",
       "               0.6749745596356359,\n",
       "               0.855232321848943,\n",
       "               0.9326053188557034,\n",
       "               0.6122035186485341,\n",
       "               0.7374034175930234,\n",
       "               0.6977155623186426,\n",
       "               0.638983471729541,\n",
       "               0.6364729048466248,\n",
       "               0.9294199884506814,\n",
       "               0.9290180200490326,\n",
       "               0.9162330647779304,\n",
       "               0.9315084747617819,\n",
       "               0.95,\n",
       "               0.926240061598278,\n",
       "               0.6504142692705395,\n",
       "               0.6423210791532996,\n",
       "               0.8208384571516507,\n",
       "               0.6342522453590002,\n",
       "               0.9311082005757463,\n",
       "               0.6246996089945257,\n",
       "               0.9048291497508381,\n",
       "               0.9413491241625054,\n",
       "               0.95,\n",
       "               0.6193912514935185,\n",
       "               0.6,\n",
       "               0.69718410174141,\n",
       "               0.6089226611210823,\n",
       "               0.6110757796250474],\n",
       "              'param_max_depth': [9,\n",
       "               7,\n",
       "               9,\n",
       "               4,\n",
       "               6,\n",
       "               8,\n",
       "               7,\n",
       "               9,\n",
       "               8,\n",
       "               8,\n",
       "               4,\n",
       "               5,\n",
       "               10,\n",
       "               4,\n",
       "               10,\n",
       "               10,\n",
       "               4,\n",
       "               5,\n",
       "               4,\n",
       "               4,\n",
       "               10,\n",
       "               4,\n",
       "               5,\n",
       "               10,\n",
       "               4,\n",
       "               4,\n",
       "               4,\n",
       "               4,\n",
       "               4,\n",
       "               9],\n",
       "              'param_min_child_weight': [44,\n",
       "               12,\n",
       "               35,\n",
       "               42,\n",
       "               40,\n",
       "               40,\n",
       "               32,\n",
       "               41,\n",
       "               39,\n",
       "               22,\n",
       "               8,\n",
       "               2,\n",
       "               45,\n",
       "               49,\n",
       "               50,\n",
       "               2,\n",
       "               50,\n",
       "               49,\n",
       "               45,\n",
       "               3,\n",
       "               4,\n",
       "               49,\n",
       "               50,\n",
       "               44,\n",
       "               50,\n",
       "               49,\n",
       "               50,\n",
       "               2,\n",
       "               49,\n",
       "               46],\n",
       "              'param_min_split_gain': [0.016339619337427967,\n",
       "               0.06255229592225481,\n",
       "               0.041968027913573416,\n",
       "               0.07584628183680778,\n",
       "               0.0768935283696469,\n",
       "               0.056300789625749775,\n",
       "               0.09262465129743733,\n",
       "               0.034210105821496736,\n",
       "               0.08302658931713915,\n",
       "               0.06424733511096876,\n",
       "               0.010417611293070457,\n",
       "               0.0917188499302816,\n",
       "               0.01124751859163727,\n",
       "               0.0912615266339636,\n",
       "               0.1,\n",
       "               0.019772808536565226,\n",
       "               0.017832623121393408,\n",
       "               0.015472045853013136,\n",
       "               0.01604481720065011,\n",
       "               0.09058181537609784,\n",
       "               0.020271096660778608,\n",
       "               0.0244230401270762,\n",
       "               0.05084613647450884,\n",
       "               0.09178324975150216,\n",
       "               0.01,\n",
       "               0.018833485720014698,\n",
       "               0.1,\n",
       "               0.04080936351274899,\n",
       "               0.011298476031672491,\n",
       "               0.015371010856979672],\n",
       "              'param_num_leaves': [21,\n",
       "               27,\n",
       "               24,\n",
       "               29,\n",
       "               39,\n",
       "               26,\n",
       "               34,\n",
       "               40,\n",
       "               26,\n",
       "               37,\n",
       "               21,\n",
       "               40,\n",
       "               20,\n",
       "               20,\n",
       "               20,\n",
       "               39,\n",
       "               24,\n",
       "               39,\n",
       "               20,\n",
       "               20,\n",
       "               20,\n",
       "               21,\n",
       "               39,\n",
       "               39,\n",
       "               20,\n",
       "               40,\n",
       "               20,\n",
       "               21,\n",
       "               40,\n",
       "               20],\n",
       "              'param_reg_alpha': [0.21198178846840987,\n",
       "               0.04608395612483866,\n",
       "               0.07397490746504946,\n",
       "               0.23233012182330506,\n",
       "               0.12970889058860044,\n",
       "               0.18421456727086616,\n",
       "               0.15493810569012642,\n",
       "               0.13258930139839023,\n",
       "               0.07163591600434276,\n",
       "               0.04818887746372332,\n",
       "               0.1928727450272649,\n",
       "               0.2402837286478412,\n",
       "               0.24906769008283372,\n",
       "               0.05857467305175828,\n",
       "               0.01,\n",
       "               0.05483438077125718,\n",
       "               0.012607394882398246,\n",
       "               0.24558292567446305,\n",
       "               0.03617677705180067,\n",
       "               0.24099152277080924,\n",
       "               0.24474627705330285,\n",
       "               0.055993314824643654,\n",
       "               0.011972193101119279,\n",
       "               0.24918546899911215,\n",
       "               0.25,\n",
       "               0.24946538688601222,\n",
       "               0.25,\n",
       "               0.017712449048803133,\n",
       "               0.06968797856022431,\n",
       "               0.23471165662009943],\n",
       "              'param_reg_lambda': [0.1905382227003827,\n",
       "               0.17690923937231232,\n",
       "               0.2254828246464129,\n",
       "               0.12263706456990922,\n",
       "               0.21460608163205905,\n",
       "               0.19446257569249475,\n",
       "               0.187203838051087,\n",
       "               0.027377693978276406,\n",
       "               0.019516611599000505,\n",
       "               0.03145783418207213,\n",
       "               0.24275591182688802,\n",
       "               0.021560161025587832,\n",
       "               0.16537401406965307,\n",
       "               0.21835474288253268,\n",
       "               0.25,\n",
       "               0.24453020158016922,\n",
       "               0.05796532143633577,\n",
       "               0.22616388382811023,\n",
       "               0.01930283312863342,\n",
       "               0.09353212331463852,\n",
       "               0.014272646643148292,\n",
       "               0.24985826118122673,\n",
       "               0.011722611242654822,\n",
       "               0.06861667927843619,\n",
       "               0.01,\n",
       "               0.06435333071609094,\n",
       "               0.25,\n",
       "               0.0361437843963147,\n",
       "               0.2040555373043725,\n",
       "               0.06012359955738369],\n",
       "              'param_subsample': [0.659225235668465,\n",
       "               0.8793401726456468,\n",
       "               0.6038111350697394,\n",
       "               0.8348694578769171,\n",
       "               0.8413927996058501,\n",
       "               0.7115902501956984,\n",
       "               0.7487952209515993,\n",
       "               0.923213610363799,\n",
       "               0.8907901400361042,\n",
       "               0.7208911696072652,\n",
       "               0.6903175863904656,\n",
       "               0.649802233722863,\n",
       "               0.9439156928235464,\n",
       "               0.6123988770117104,\n",
       "               0.95,\n",
       "               0.9312478306190282,\n",
       "               0.6154001406743863,\n",
       "               0.6197994295983928,\n",
       "               0.9464494246770526,\n",
       "               0.9208722601674073,\n",
       "               0.6406621569738309,\n",
       "               0.930029156685569,\n",
       "               0.6472293768948604,\n",
       "               0.6408254581368191,\n",
       "               0.6,\n",
       "               0.8924356082647416,\n",
       "               0.95,\n",
       "               0.6136909110203905,\n",
       "               0.6388250619456746,\n",
       "               0.6026597028020589],\n",
       "              'params': [{'colsample_by_tree': 0.6525835305004882,\n",
       "                'max_depth': 9,\n",
       "                'min_child_weight': 44,\n",
       "                'min_split_gain': 0.016339619337427967,\n",
       "                'num_leaves': 21,\n",
       "                'reg_alpha': 0.21198178846840987,\n",
       "                'reg_lambda': 0.1905382227003827,\n",
       "                'subsample': 0.659225235668465},\n",
       "               {'colsample_by_tree': 0.6142145102256563,\n",
       "                'max_depth': 7,\n",
       "                'min_child_weight': 12,\n",
       "                'min_split_gain': 0.06255229592225481,\n",
       "                'num_leaves': 27,\n",
       "                'reg_alpha': 0.04608395612483866,\n",
       "                'reg_lambda': 0.17690923937231232,\n",
       "                'subsample': 0.8793401726456468},\n",
       "               {'colsample_by_tree': 0.6749745596356359,\n",
       "                'max_depth': 9,\n",
       "                'min_child_weight': 35,\n",
       "                'min_split_gain': 0.041968027913573416,\n",
       "                'num_leaves': 24,\n",
       "                'reg_alpha': 0.07397490746504946,\n",
       "                'reg_lambda': 0.2254828246464129,\n",
       "                'subsample': 0.6038111350697394},\n",
       "               {'colsample_by_tree': 0.855232321848943,\n",
       "                'max_depth': 4,\n",
       "                'min_child_weight': 42,\n",
       "                'min_split_gain': 0.07584628183680778,\n",
       "                'num_leaves': 29,\n",
       "                'reg_alpha': 0.23233012182330506,\n",
       "                'reg_lambda': 0.12263706456990922,\n",
       "                'subsample': 0.8348694578769171},\n",
       "               {'colsample_by_tree': 0.9326053188557034,\n",
       "                'max_depth': 6,\n",
       "                'min_child_weight': 40,\n",
       "                'min_split_gain': 0.0768935283696469,\n",
       "                'num_leaves': 39,\n",
       "                'reg_alpha': 0.12970889058860044,\n",
       "                'reg_lambda': 0.21460608163205905,\n",
       "                'subsample': 0.8413927996058501},\n",
       "               {'colsample_by_tree': 0.6122035186485341,\n",
       "                'max_depth': 8,\n",
       "                'min_child_weight': 40,\n",
       "                'min_split_gain': 0.056300789625749775,\n",
       "                'num_leaves': 26,\n",
       "                'reg_alpha': 0.18421456727086616,\n",
       "                'reg_lambda': 0.19446257569249475,\n",
       "                'subsample': 0.7115902501956984},\n",
       "               {'colsample_by_tree': 0.7374034175930234,\n",
       "                'max_depth': 7,\n",
       "                'min_child_weight': 32,\n",
       "                'min_split_gain': 0.09262465129743733,\n",
       "                'num_leaves': 34,\n",
       "                'reg_alpha': 0.15493810569012642,\n",
       "                'reg_lambda': 0.187203838051087,\n",
       "                'subsample': 0.7487952209515993},\n",
       "               {'colsample_by_tree': 0.6977155623186426,\n",
       "                'max_depth': 9,\n",
       "                'min_child_weight': 41,\n",
       "                'min_split_gain': 0.034210105821496736,\n",
       "                'num_leaves': 40,\n",
       "                'reg_alpha': 0.13258930139839023,\n",
       "                'reg_lambda': 0.027377693978276406,\n",
       "                'subsample': 0.923213610363799},\n",
       "               {'colsample_by_tree': 0.638983471729541,\n",
       "                'max_depth': 8,\n",
       "                'min_child_weight': 39,\n",
       "                'min_split_gain': 0.08302658931713915,\n",
       "                'num_leaves': 26,\n",
       "                'reg_alpha': 0.07163591600434276,\n",
       "                'reg_lambda': 0.019516611599000505,\n",
       "                'subsample': 0.8907901400361042},\n",
       "               {'colsample_by_tree': 0.6364729048466248,\n",
       "                'max_depth': 8,\n",
       "                'min_child_weight': 22,\n",
       "                'min_split_gain': 0.06424733511096876,\n",
       "                'num_leaves': 37,\n",
       "                'reg_alpha': 0.04818887746372332,\n",
       "                'reg_lambda': 0.03145783418207213,\n",
       "                'subsample': 0.7208911696072652},\n",
       "               {'colsample_by_tree': 0.9294199884506814,\n",
       "                'max_depth': 4,\n",
       "                'min_child_weight': 8,\n",
       "                'min_split_gain': 0.010417611293070457,\n",
       "                'num_leaves': 21,\n",
       "                'reg_alpha': 0.1928727450272649,\n",
       "                'reg_lambda': 0.24275591182688802,\n",
       "                'subsample': 0.6903175863904656},\n",
       "               {'colsample_by_tree': 0.9290180200490326,\n",
       "                'max_depth': 5,\n",
       "                'min_child_weight': 2,\n",
       "                'min_split_gain': 0.0917188499302816,\n",
       "                'num_leaves': 40,\n",
       "                'reg_alpha': 0.2402837286478412,\n",
       "                'reg_lambda': 0.021560161025587832,\n",
       "                'subsample': 0.649802233722863},\n",
       "               {'colsample_by_tree': 0.9162330647779304,\n",
       "                'max_depth': 10,\n",
       "                'min_child_weight': 45,\n",
       "                'min_split_gain': 0.01124751859163727,\n",
       "                'num_leaves': 20,\n",
       "                'reg_alpha': 0.24906769008283372,\n",
       "                'reg_lambda': 0.16537401406965307,\n",
       "                'subsample': 0.9439156928235464},\n",
       "               {'colsample_by_tree': 0.9315084747617819,\n",
       "                'max_depth': 4,\n",
       "                'min_child_weight': 49,\n",
       "                'min_split_gain': 0.0912615266339636,\n",
       "                'num_leaves': 20,\n",
       "                'reg_alpha': 0.05857467305175828,\n",
       "                'reg_lambda': 0.21835474288253268,\n",
       "                'subsample': 0.6123988770117104},\n",
       "               {'colsample_by_tree': 0.95,\n",
       "                'max_depth': 10,\n",
       "                'min_child_weight': 50,\n",
       "                'min_split_gain': 0.1,\n",
       "                'num_leaves': 20,\n",
       "                'reg_alpha': 0.01,\n",
       "                'reg_lambda': 0.25,\n",
       "                'subsample': 0.95},\n",
       "               {'colsample_by_tree': 0.926240061598278,\n",
       "                'max_depth': 10,\n",
       "                'min_child_weight': 2,\n",
       "                'min_split_gain': 0.019772808536565226,\n",
       "                'num_leaves': 39,\n",
       "                'reg_alpha': 0.05483438077125718,\n",
       "                'reg_lambda': 0.24453020158016922,\n",
       "                'subsample': 0.9312478306190282},\n",
       "               {'colsample_by_tree': 0.6504142692705395,\n",
       "                'max_depth': 4,\n",
       "                'min_child_weight': 50,\n",
       "                'min_split_gain': 0.017832623121393408,\n",
       "                'num_leaves': 24,\n",
       "                'reg_alpha': 0.012607394882398246,\n",
       "                'reg_lambda': 0.05796532143633577,\n",
       "                'subsample': 0.6154001406743863},\n",
       "               {'colsample_by_tree': 0.6423210791532996,\n",
       "                'max_depth': 5,\n",
       "                'min_child_weight': 49,\n",
       "                'min_split_gain': 0.015472045853013136,\n",
       "                'num_leaves': 39,\n",
       "                'reg_alpha': 0.24558292567446305,\n",
       "                'reg_lambda': 0.22616388382811023,\n",
       "                'subsample': 0.6197994295983928},\n",
       "               {'colsample_by_tree': 0.8208384571516507,\n",
       "                'max_depth': 4,\n",
       "                'min_child_weight': 45,\n",
       "                'min_split_gain': 0.01604481720065011,\n",
       "                'num_leaves': 20,\n",
       "                'reg_alpha': 0.03617677705180067,\n",
       "                'reg_lambda': 0.01930283312863342,\n",
       "                'subsample': 0.9464494246770526},\n",
       "               {'colsample_by_tree': 0.6342522453590002,\n",
       "                'max_depth': 4,\n",
       "                'min_child_weight': 3,\n",
       "                'min_split_gain': 0.09058181537609784,\n",
       "                'num_leaves': 20,\n",
       "                'reg_alpha': 0.24099152277080924,\n",
       "                'reg_lambda': 0.09353212331463852,\n",
       "                'subsample': 0.9208722601674073},\n",
       "               {'colsample_by_tree': 0.9311082005757463,\n",
       "                'max_depth': 10,\n",
       "                'min_child_weight': 4,\n",
       "                'min_split_gain': 0.020271096660778608,\n",
       "                'num_leaves': 20,\n",
       "                'reg_alpha': 0.24474627705330285,\n",
       "                'reg_lambda': 0.014272646643148292,\n",
       "                'subsample': 0.6406621569738309},\n",
       "               {'colsample_by_tree': 0.6246996089945257,\n",
       "                'max_depth': 4,\n",
       "                'min_child_weight': 49,\n",
       "                'min_split_gain': 0.0244230401270762,\n",
       "                'num_leaves': 21,\n",
       "                'reg_alpha': 0.055993314824643654,\n",
       "                'reg_lambda': 0.24985826118122673,\n",
       "                'subsample': 0.930029156685569},\n",
       "               {'colsample_by_tree': 0.9048291497508381,\n",
       "                'max_depth': 5,\n",
       "                'min_child_weight': 50,\n",
       "                'min_split_gain': 0.05084613647450884,\n",
       "                'num_leaves': 39,\n",
       "                'reg_alpha': 0.011972193101119279,\n",
       "                'reg_lambda': 0.011722611242654822,\n",
       "                'subsample': 0.6472293768948604},\n",
       "               {'colsample_by_tree': 0.9413491241625054,\n",
       "                'max_depth': 10,\n",
       "                'min_child_weight': 44,\n",
       "                'min_split_gain': 0.09178324975150216,\n",
       "                'num_leaves': 39,\n",
       "                'reg_alpha': 0.24918546899911215,\n",
       "                'reg_lambda': 0.06861667927843619,\n",
       "                'subsample': 0.6408254581368191},\n",
       "               {'colsample_by_tree': 0.95,\n",
       "                'max_depth': 4,\n",
       "                'min_child_weight': 50,\n",
       "                'min_split_gain': 0.01,\n",
       "                'num_leaves': 20,\n",
       "                'reg_alpha': 0.25,\n",
       "                'reg_lambda': 0.01,\n",
       "                'subsample': 0.6},\n",
       "               {'colsample_by_tree': 0.6193912514935185,\n",
       "                'max_depth': 4,\n",
       "                'min_child_weight': 49,\n",
       "                'min_split_gain': 0.018833485720014698,\n",
       "                'num_leaves': 40,\n",
       "                'reg_alpha': 0.24946538688601222,\n",
       "                'reg_lambda': 0.06435333071609094,\n",
       "                'subsample': 0.8924356082647416},\n",
       "               {'colsample_by_tree': 0.6,\n",
       "                'max_depth': 4,\n",
       "                'min_child_weight': 50,\n",
       "                'min_split_gain': 0.1,\n",
       "                'num_leaves': 20,\n",
       "                'reg_alpha': 0.25,\n",
       "                'reg_lambda': 0.25,\n",
       "                'subsample': 0.95},\n",
       "               {'colsample_by_tree': 0.69718410174141,\n",
       "                'max_depth': 4,\n",
       "                'min_child_weight': 2,\n",
       "                'min_split_gain': 0.04080936351274899,\n",
       "                'num_leaves': 21,\n",
       "                'reg_alpha': 0.017712449048803133,\n",
       "                'reg_lambda': 0.0361437843963147,\n",
       "                'subsample': 0.6136909110203905},\n",
       "               {'colsample_by_tree': 0.6089226611210823,\n",
       "                'max_depth': 4,\n",
       "                'min_child_weight': 49,\n",
       "                'min_split_gain': 0.011298476031672491,\n",
       "                'num_leaves': 40,\n",
       "                'reg_alpha': 0.06968797856022431,\n",
       "                'reg_lambda': 0.2040555373043725,\n",
       "                'subsample': 0.6388250619456746},\n",
       "               {'colsample_by_tree': 0.6110757796250474,\n",
       "                'max_depth': 9,\n",
       "                'min_child_weight': 46,\n",
       "                'min_split_gain': 0.015371010856979672,\n",
       "                'num_leaves': 20,\n",
       "                'reg_alpha': 0.23471165662009943,\n",
       "                'reg_lambda': 0.06012359955738369,\n",
       "                'subsample': 0.6026597028020589}],\n",
       "              'rank_test_score': [1,\n",
       "               1,\n",
       "               1,\n",
       "               1,\n",
       "               1,\n",
       "               1,\n",
       "               1,\n",
       "               1,\n",
       "               1,\n",
       "               1,\n",
       "               1,\n",
       "               1,\n",
       "               1,\n",
       "               1,\n",
       "               1,\n",
       "               1,\n",
       "               1,\n",
       "               1,\n",
       "               1,\n",
       "               1,\n",
       "               1,\n",
       "               1,\n",
       "               1,\n",
       "               1,\n",
       "               1,\n",
       "               1,\n",
       "               1,\n",
       "               1,\n",
       "               1,\n",
       "               1],\n",
       "              'split0_test_score': [0.7908625260619305,\n",
       "               0.7871466069554696,\n",
       "               0.7911572703002878,\n",
       "               0.7924619992856003,\n",
       "               0.7910597857577238,\n",
       "               0.791309857744528,\n",
       "               0.790465434631618,\n",
       "               0.7901293204684373,\n",
       "               0.7909756138311134,\n",
       "               0.7880142603516632,\n",
       "               0.7869505085957215,\n",
       "               0.7803509422158014,\n",
       "               0.7917798141057231,\n",
       "               0.7928144291515011,\n",
       "               0.791714765037672,\n",
       "               0.7818577258610693,\n",
       "               0.7923817673518301,\n",
       "               0.7917674918315506,\n",
       "               0.7926984879155325,\n",
       "               0.7853921131816736,\n",
       "               0.7855188448681967,\n",
       "               0.7928223910719334,\n",
       "               0.7919913803216311,\n",
       "               0.7908085346229721,\n",
       "               0.7926469473943626,\n",
       "               0.7926415539502757,\n",
       "               0.7924413089796177,\n",
       "               0.7848236356251873,\n",
       "               0.7927122030804831,\n",
       "               0.7921442634434533],\n",
       "              'split1_test_score': [0.7916608540947643,\n",
       "               0.7893554579600405,\n",
       "               0.7910716651240395,\n",
       "               0.7922992225982323,\n",
       "               0.7907180926050424,\n",
       "               0.7914096947019749,\n",
       "               0.7890659274881366,\n",
       "               0.7896232040898419,\n",
       "               0.790986337476936,\n",
       "               0.7891344724638345,\n",
       "               0.7911855493183702,\n",
       "               0.78960882606781,\n",
       "               0.7915303261643254,\n",
       "               0.7926023046052723,\n",
       "               0.7922031862459186,\n",
       "               0.789245161146331,\n",
       "               0.7921783203901746,\n",
       "               0.7916241074898932,\n",
       "               0.7925239023483646,\n",
       "               0.7909785642251833,\n",
       "               0.791153163144363,\n",
       "               0.7926534897937151,\n",
       "               0.7920100269960189,\n",
       "               0.7897449933463351,\n",
       "               0.7925623268641317,\n",
       "               0.7926768986100611,\n",
       "               0.7926507217751029,\n",
       "               0.7905541026426545,\n",
       "               0.7921117561330716,\n",
       "               0.7919692120806521],\n",
       "              'split2_test_score': [0.7880098945443689,\n",
       "               0.7875041949998931,\n",
       "               0.7878769548396696,\n",
       "               0.7884913801602641,\n",
       "               0.7878972251432774,\n",
       "               0.7887141931899938,\n",
       "               0.7878164645487619,\n",
       "               0.7871897559229231,\n",
       "               0.7881856868821264,\n",
       "               0.7868522037124188,\n",
       "               0.787809061791135,\n",
       "               0.7872926072296835,\n",
       "               0.788502626794445,\n",
       "               0.7888053917440122,\n",
       "               0.7887613171928279,\n",
       "               0.7863869628389581,\n",
       "               0.7886509598175787,\n",
       "               0.7887168400855263,\n",
       "               0.789099578329592,\n",
       "               0.7873832536049568,\n",
       "               0.787274638264587,\n",
       "               0.788486335740245,\n",
       "               0.7888440264439469,\n",
       "               0.7874083367697555,\n",
       "               0.7884867774832408,\n",
       "               0.7889058633385037,\n",
       "               0.788977301018337,\n",
       "               0.7869913527561673,\n",
       "               0.7887904615432352,\n",
       "               0.7885769678657442],\n",
       "              'split3_test_score': [0.792908881369402,\n",
       "               0.7900547086232027,\n",
       "               0.7917664235459277,\n",
       "               0.7923541911016894,\n",
       "               0.7916120664308078,\n",
       "               0.7925771216920552,\n",
       "               0.790820234985543,\n",
       "               0.7907355913275946,\n",
       "               0.7918863532069055,\n",
       "               0.788962812560556,\n",
       "               0.7925814856853628,\n",
       "               0.7903078843590223,\n",
       "               0.7925021286935927,\n",
       "               0.7928104973668111,\n",
       "               0.792654020597799,\n",
       "               0.7893379627999316,\n",
       "               0.7929267755231845,\n",
       "               0.7922438693508752,\n",
       "               0.7926053647442527,\n",
       "               0.7918087311251277,\n",
       "               0.791679072430907,\n",
       "               0.7925568371386732,\n",
       "               0.7928045338363646,\n",
       "               0.7904696584815429,\n",
       "               0.7930393879251796,\n",
       "               0.7927268725677082,\n",
       "               0.7930824329301875,\n",
       "               0.7916097223429742,\n",
       "               0.7930386219998237,\n",
       "               0.7930190606224754],\n",
       "              'split4_test_score': [0.7925738941182295,\n",
       "               0.7912211060671066,\n",
       "               0.7907629330815825,\n",
       "               0.7929801872388251,\n",
       "               0.7916538004566018,\n",
       "               0.7922880009011557,\n",
       "               0.7899596341306384,\n",
       "               0.7901117967805521,\n",
       "               0.7916946545588474,\n",
       "               0.7874893502977607,\n",
       "               0.793280412166165,\n",
       "               0.7918857725286123,\n",
       "               0.7927739823207683,\n",
       "               0.7933782511148978,\n",
       "               0.7921731797841804,\n",
       "               0.7879834327139297,\n",
       "               0.793137650804691,\n",
       "               0.7929325858685596,\n",
       "               0.7928488720083691,\n",
       "               0.7932841028576478,\n",
       "               0.7906808686327401,\n",
       "               0.7932146209593052,\n",
       "               0.7926632366391757,\n",
       "               0.7896703174053457,\n",
       "               0.7931548680942054,\n",
       "               0.7930802705269732,\n",
       "               0.7931642871948626,\n",
       "               0.7925936264928665,\n",
       "               0.7931993701386116,\n",
       "               0.7931494959293828],\n",
       "              'std_fit_time': [0.8852405918575034,\n",
       "               0.5926994909873291,\n",
       "               0.36551309643262714,\n",
       "               0.5485665079789743,\n",
       "               1.8308491064913408,\n",
       "               2.254430023249451,\n",
       "               0.7829536884759881,\n",
       "               0.2744246813651813,\n",
       "               0.8325880505092431,\n",
       "               0.5099650959828675,\n",
       "               0.5196284158545463,\n",
       "               0.9779260689725858,\n",
       "               0.3460464497621939,\n",
       "               0.5933895866694693,\n",
       "               0.44293084714716074,\n",
       "               0.6651215282765743,\n",
       "               0.3190217784244828,\n",
       "               0.5690934735910254,\n",
       "               0.4411526821368095,\n",
       "               0.5544359713571109,\n",
       "               0.6573551904706921,\n",
       "               0.4910851749811649,\n",
       "               0.4437379568993348,\n",
       "               0.7995250181620575,\n",
       "               0.46446723486708547,\n",
       "               0.5021699268783802,\n",
       "               0.38412502934875836,\n",
       "               0.40230259355417447,\n",
       "               0.4921325151818938,\n",
       "               0.4776014626045354],\n",
       "              'std_score_time': [0.0776039477479735,\n",
       "               0.022495461532833293,\n",
       "               0.05048527872287801,\n",
       "               0.023576896675094845,\n",
       "               0.04549098938873851,\n",
       "               0.04430857262028887,\n",
       "               0.039027873733131616,\n",
       "               0.03161703817679524,\n",
       "               0.03528791887066207,\n",
       "               0.05349476416646872,\n",
       "               0.03053593149108968,\n",
       "               0.062385478656711305,\n",
       "               0.020112098075761118,\n",
       "               0.02304144731070837,\n",
       "               0.034643959943880136,\n",
       "               0.06733791222986084,\n",
       "               0.01994708790058211,\n",
       "               0.04820411431343569,\n",
       "               0.009164432313663427,\n",
       "               0.030618697705079106,\n",
       "               0.05041036765983165,\n",
       "               0.02925648763276369,\n",
       "               0.04457074834015625,\n",
       "               0.0441730319660917,\n",
       "               0.01824990580884405,\n",
       "               0.010768905786210372,\n",
       "               0.011438856103008915,\n",
       "               0.03368012516513667,\n",
       "               0.016040180435793288,\n",
       "               0.025750100418046252],\n",
       "              'std_test_score': [0.001749903376316278,\n",
       "               0.0015380948475582521,\n",
       "               0.0013644377172378945,\n",
       "               0.0016309659664982667,\n",
       "               0.001390279819643325,\n",
       "               0.0013636415633398718,\n",
       "               0.0010798380110821628,\n",
       "               0.001235526716370195,\n",
       "               0.0013316163445453051,\n",
       "               0.0008661831996350704,\n",
       "               0.0025407608814473886,\n",
       "               0.004048744264507401,\n",
       "               0.0015268866750657688,\n",
       "               0.001658569878627301,\n",
       "               0.0014018468829962117,\n",
       "               0.0027671620807885227,\n",
       "               0.0016396188594149457,\n",
       "               0.001444250056505099,\n",
       "               0.001431908788966441,\n",
       "               0.0029267248759731837,\n",
       "               0.002424577167283813,\n",
       "               0.001744726988901194,\n",
       "               0.0014476472741951944,\n",
       "               0.0011869408474614565,\n",
       "               0.0017600615266141722,\n",
       "               0.0015581118172249655,\n",
       "               0.0015660211995246435,\n",
       "               0.0029367463121189653,\n",
       "               0.0016330152080611914,\n",
       "               0.0016636294840542895]}),\n",
       " 'error_score': 'raise',\n",
       " 'estimator': LGBMClassifier(boosting_type='gbdt', class_weight=None, colsample_bytree=1.0,\n",
       "         device='gpu', importance_type='split', learning_rate=0.02,\n",
       "         max_depth=-1, metric='auc', min_child_samples=20,\n",
       "         min_child_weight=0.001, min_split_gain=0.0, n_estimators=3000,\n",
       "         n_jobs=-1, num_leaves=31, objective=None, random_state=None,\n",
       "         reg_alpha=0.0, reg_lambda=0.0, silent=True, subsample=1.0,\n",
       "         subsample_for_bin=200000, subsample_freq=0, verbose=0),\n",
       " 'fit_params': None,\n",
       " 'iid': True,\n",
       " 'multimetric_': False,\n",
       " 'n_iter': 30,\n",
       " 'n_jobs': 1,\n",
       " 'n_points': 1,\n",
       " 'n_splits_': 5,\n",
       " 'optimizer_kwargs': None,\n",
       " 'optimizer_kwargs_': {'random_state': <mtrand.RandomState at 0x7f80300b1900>},\n",
       " 'optimizers_': [<skopt.optimizer.optimizer.Optimizer at 0x7f800942c5f8>],\n",
       " 'pre_dispatch': '2*n_jobs',\n",
       " 'random_state': None,\n",
       " 'refit': True,\n",
       " 'return_train_score': False,\n",
       " 'scorer_': make_scorer(roc_auc_score, needs_threshold=True),\n",
       " 'scoring': 'roc_auc',\n",
       " 'search_spaces': {'colsample_by_tree': (0.6, 0.95),\n",
       "  'max_depth': (4, 10),\n",
       "  'min_child_weight': (1, 50),\n",
       "  'min_split_gain': (0.01, 0.1),\n",
       "  'num_leaves': (20, 40),\n",
       "  'reg_alpha': (0.01, 0.25),\n",
       "  'reg_lambda': (0.01, 0.25),\n",
       "  'subsample': (0.6, 0.95)},\n",
       " 'verbose': 1}"
      ]
     },
     "execution_count": 7,
     "metadata": {},
     "output_type": "execute_result"
    }
   ],
   "source": [
    "vars(result)"
   ]
  }
 ],
 "metadata": {
  "kernelspec": {
   "display_name": "Python 3",
   "language": "python",
   "name": "python3"
  },
  "language_info": {
   "codemirror_mode": {
    "name": "ipython",
    "version": 3
   },
   "file_extension": ".py",
   "mimetype": "text/x-python",
   "name": "python",
   "nbconvert_exporter": "python",
   "pygments_lexer": "ipython3",
   "version": "3.6.5"
  }
 },
 "nbformat": 4,
 "nbformat_minor": 2
}
