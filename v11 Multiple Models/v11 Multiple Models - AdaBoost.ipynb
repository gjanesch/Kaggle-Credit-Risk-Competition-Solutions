{
 "cells": [
  {
   "cell_type": "code",
   "execution_count": null,
   "metadata": {},
   "outputs": [],
   "source": [
    "# Solution attempt 11 - AdaBoostClassifier\n",
    "# Final submission: \n",
    "# Submission score: 0.731\n",
    "\n",
    "# This is a quick attempt to employ the AdaBoost Classifier as part of the\n",
    "# multi-model solution."
   ]
  },
  {
   "cell_type": "code",
   "execution_count": 1,
   "metadata": {},
   "outputs": [],
   "source": [
    "import v11_common as com\n",
    "import numpy as np\n",
    "import pandas as pd\n",
    "from sklearn.ensemble import AdaBoostClassifier\n",
    "import feather\n",
    "from sklearn.model_selection import train_test_split, KFold\n",
    "from sklearn.preprocessing import StandardScaler\n",
    "from sklearn.metrics import roc_auc_score"
   ]
  },
  {
   "cell_type": "code",
   "execution_count": 2,
   "metadata": {},
   "outputs": [],
   "source": [
    "# Currently using the train and test data supplied in the LGBM notebook\n",
    "train = pd.read_feather(\"v11 train data.feather\")\n",
    "test = pd.read_feather(\"v11 test data.feather\")\n",
    "target_df = pd.read_feather(\"target.feather\")"
   ]
  },
  {
   "cell_type": "code",
   "execution_count": 3,
   "metadata": {},
   "outputs": [],
   "source": [
    "all_data = pd.concat([train,test], ignore_index = True)"
   ]
  },
  {
   "cell_type": "code",
   "execution_count": 12,
   "metadata": {},
   "outputs": [],
   "source": [
    "bureau_fill = [\"MAX_DAYS_OVERDUE\",\"AVG_DAYS_OVERDUE\",\"TOTAL_CURRENT_CREDIT_AMT\",\"TOTAL_CURRENT_CREDIT_DEBT\",\n",
    "               \"TOTAL_CURRENT_CREDIT_LIMIT\", \"TOTAL_BUREAU_BALANCE_ENTIRES\",\"AVG_NUM_BUREAU_BALANCE_ENTRIES\"]\n",
    "prev_app_fill = [\"TOTAL_AMT_APPLICATION\",\"TOTAL_CREDIT_RECEIVED\",\"NUMBER_APPLICATIONS\",\n",
    "                 \"NUM_CONTRACT_TYPE_Cash loans\",\"NUM_CONTRACT_TYPE_Consumer loans\",\"NUM_CONTRACT_TYPE_Revolving loans\"]\n",
    "cc_fill = [\"NUM_PREV_CC_LOANS\",\"TOTAL_NUM_ALL_DRAWINGS\",\"TOTAL_AMT_ALL_DRAWINGS\"]\n",
    "inst_pay_fill = [\"NUM_INSTALLMENT_ENTRIES\"]\n",
    "pos_fill = [\"MAX_POS_DPD\",\"AVG_POS_DPD\",\"NUM_LATE_POS_PAYMENTS\",\"NUM_POS_ENTRIES\",\"NUM_CONTRACTS_COMPLETED\",\n",
    "            \"NUM_INSTALMENTS_PENDING\",\"NUM_ACCOUNTS_ACTIVE\"]"
   ]
  },
  {
   "cell_type": "code",
   "execution_count": 13,
   "metadata": {},
   "outputs": [],
   "source": [
    "fill_cols = bureau_fill + prev_app_fill + cc_fill + inst_pay_fill + pos_fill"
   ]
  },
  {
   "cell_type": "code",
   "execution_count": 14,
   "metadata": {},
   "outputs": [],
   "source": [
    "all_data[fill_cols] = all_data[fill_cols].fillna(0).copy()"
   ]
  },
  {
   "cell_type": "code",
   "execution_count": 15,
   "metadata": {},
   "outputs": [],
   "source": [
    "all_data.dropna(axis = 1, inplace = True)"
   ]
  },
  {
   "cell_type": "code",
   "execution_count": 16,
   "metadata": {},
   "outputs": [
    {
     "data": {
      "text/plain": [
       "(356255, 147)"
      ]
     },
     "execution_count": 16,
     "metadata": {},
     "output_type": "execute_result"
    }
   ],
   "source": [
    "all_data.shape"
   ]
  },
  {
   "cell_type": "code",
   "execution_count": 25,
   "metadata": {},
   "outputs": [],
   "source": [
    "train = all_data.iloc[:len(target_df),:].copy()\n",
    "test = all_data.iloc[len(target_df):,:].copy()"
   ]
  },
  {
   "cell_type": "code",
   "execution_count": 26,
   "metadata": {},
   "outputs": [],
   "source": [
    "train_IDs = train[\"SK_ID_CURR\"]\n",
    "test_IDs = test[\"SK_ID_CURR\"]\n",
    "\n",
    "train.drop([\"SK_ID_CURR\"], axis = 1, inplace = True)\n",
    "test.drop([\"SK_ID_CURR\"], axis = 1, inplace = True)"
   ]
  },
  {
   "cell_type": "code",
   "execution_count": 19,
   "metadata": {},
   "outputs": [],
   "source": [
    "adaboost_params = {\"n_estimators\":100,\n",
    "                   \"learning_rate\":0.6}"
   ]
  },
  {
   "cell_type": "code",
   "execution_count": 20,
   "metadata": {
    "scrolled": true
   },
   "outputs": [
    {
     "name": "stdout",
     "output_type": "stream",
     "text": [
      "#### FOLD NUMBER 1 ####\n",
      "Train ROC: 0.7460362214675162\n",
      "Test ROC: 0.7395681728400474\n",
      "#### FOLD NUMBER 2 ####\n",
      "Train ROC: 0.7453317794997776\n",
      "Test ROC: 0.7416183736018496\n",
      "#### FOLD NUMBER 3 ####\n",
      "Train ROC: 0.7467141489894047\n",
      "Test ROC: 0.7365973278002195\n",
      "#### FOLD NUMBER 4 ####\n",
      "Train ROC: 0.7448985245820576\n",
      "Test ROC: 0.7430695589495027\n",
      "#### FOLD NUMBER 5 ####\n",
      "Train ROC: 0.7451075642948224\n",
      "Test ROC: 0.743306964394417\n",
      "\n",
      "\n",
      "Average AUC: 0.7408320795172072\n"
     ]
    }
   ],
   "source": [
    "# Prev AUC: 0.7408\n",
    "# Best AUC: 0.7408\n",
    "\n",
    "folds = KFold(n_splits = 5, shuffle = True)\n",
    "auc_scores = []\n",
    "\n",
    "for n_fold, (train_ids, val_ids) in enumerate(folds.split(train)):\n",
    "    print(\"#### FOLD NUMBER \" + str(n_fold + 1) + \" ####\")\n",
    "    train_train = train.iloc[train_ids]\n",
    "    train_val = train.iloc[val_ids]\n",
    "    target_train = target_df[\"TARGET\"][train_ids]\n",
    "    target_val = target_df[\"TARGET\"][val_ids]\n",
    "    \n",
    "    clf = AdaBoostClassifier(**adaboost_params)\n",
    "    clf.fit(train_train, target_train)\n",
    "    \n",
    "    train_predictions = clf.predict_proba(train_train)\n",
    "    val_predictions = clf.predict_proba(train_val)\n",
    "    auc_train = roc_auc_score(target_train, train_predictions[:,1])\n",
    "    auc_val = roc_auc_score(target_val, val_predictions[:,1])\n",
    "    print(f\"Train ROC: {auc_train}\\nTest ROC: {auc_val}\")\n",
    "    \n",
    "    auc_scores.append(auc_val)\n",
    "\n",
    "print(f\"\\n\\nAverage AUC: {np.mean(auc_scores)}\")"
   ]
  },
  {
   "cell_type": "code",
   "execution_count": 21,
   "metadata": {},
   "outputs": [
    {
     "data": {
      "text/plain": [
       "AdaBoostClassifier(algorithm='SAMME.R', base_estimator=None,\n",
       "          learning_rate=0.6, n_estimators=100, random_state=None)"
      ]
     },
     "execution_count": 21,
     "metadata": {},
     "output_type": "execute_result"
    }
   ],
   "source": [
    "clf2 = AdaBoostClassifier(**adaboost_params)\n",
    "clf2.fit(train, target_df[\"TARGET\"])"
   ]
  },
  {
   "cell_type": "code",
   "execution_count": 22,
   "metadata": {},
   "outputs": [],
   "source": [
    "train_predictions = clf2.predict_proba(train)\n",
    "data_predictions = clf2.predict_proba(test)"
   ]
  },
  {
   "cell_type": "code",
   "execution_count": 27,
   "metadata": {},
   "outputs": [],
   "source": [
    "submission = pd.DataFrame({\"SK_ID_CURR\":test_IDs, \"TARGET\":np.reshape(data_predictions[:,1], newshape = (-1))})\n",
    "train_preds = pd.DataFrame({\"SK_ID_CURR\":train_IDs, \"TARGET\":np.reshape(train_predictions[:,1], newshape = (-1))})"
   ]
  },
  {
   "cell_type": "code",
   "execution_count": 28,
   "metadata": {},
   "outputs": [],
   "source": [
    "submission.to_csv(\"v11_predictions_AdaBoost.csv\", index = False)\n",
    "train_preds.to_csv(\"v11_predictions_AdaBoost_train.csv\", index = False)"
   ]
  }
 ],
 "metadata": {
  "kernelspec": {
   "display_name": "Python 3",
   "language": "python",
   "name": "python3"
  },
  "language_info": {
   "codemirror_mode": {
    "name": "ipython",
    "version": 3
   },
   "file_extension": ".py",
   "mimetype": "text/x-python",
   "name": "python",
   "nbconvert_exporter": "python",
   "pygments_lexer": "ipython3",
   "version": "3.6.5"
  }
 },
 "nbformat": 4,
 "nbformat_minor": 2
}
