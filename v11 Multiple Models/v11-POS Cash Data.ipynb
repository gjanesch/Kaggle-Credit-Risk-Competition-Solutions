{
 "cells": [
  {
   "cell_type": "markdown",
   "metadata": {},
   "source": [
    "<h2>This file is for processing the data from the supplementary <TT>POS_CASH_balance</TT> data file. </h2>"
   ]
  },
  {
   "cell_type": "code",
   "execution_count": 9,
   "metadata": {},
   "outputs": [],
   "source": [
    "import v10_common as com\n",
    "\n",
    "import feather\n",
    "import numpy as np\n",
    "import pandas as pd\n",
    "import scipy.stats as sstats"
   ]
  },
  {
   "cell_type": "code",
   "execution_count": 10,
   "metadata": {},
   "outputs": [],
   "source": [
    "# Future work:\n",
    "# - Some columns have NAME_CONTRACT_STATUS = \"Completed\" despite having non-zero CNT_INSTALMENT_FUTURE\n",
    "# - operations on number of installments for each SK_ID_PREV; should probably .agg with mode() to get it"
   ]
  },
  {
   "cell_type": "code",
   "execution_count": 11,
   "metadata": {},
   "outputs": [],
   "source": [
    "POS_CASH_FILE = com.DATA_FILE_FOLDER + \"POS_CASH_balance.feather\""
   ]
  },
  {
   "cell_type": "code",
   "execution_count": 12,
   "metadata": {},
   "outputs": [],
   "source": [
    "POS_cash = pd.read_feather(POS_CASH_FILE)"
   ]
  },
  {
   "cell_type": "code",
   "execution_count": 13,
   "metadata": {},
   "outputs": [],
   "source": [
    "POS_cash_gr = POS_cash.sort_values([\"SK_ID_CURR\", \"MONTHS_BALANCE\"]).groupby(\"SK_ID_CURR\")"
   ]
  },
  {
   "cell_type": "code",
   "execution_count": 15,
   "metadata": {},
   "outputs": [],
   "source": [
    "POS_cash_sub = POS_cash_gr.agg({\"SK_DPD_DEF\":[lambda x: sum(x > 0),max,np.mean]})\n",
    "POS_cash_sub.columns = [\"NUM_LATE_POS_PAYMENTS\", \"MAX_POS_DPD\", \"AVG_POS_DPD\"]\n",
    "POS_cash_sub[\"NUM_POS_ENTRIES\"] = POS_cash_gr.size()"
   ]
  },
  {
   "cell_type": "code",
   "execution_count": 16,
   "metadata": {},
   "outputs": [],
   "source": [
    "POS_cash_status = POS_cash_gr[\"NAME_CONTRACT_STATUS\"].value_counts().unstack(\"NAME_CONTRACT_STATUS\")\n",
    "POS_cash_sub[\"NUM_CONTRACTS_COMPLETED\"] = POS_cash_status[\"Completed\"]"
   ]
  },
  {
   "cell_type": "code",
   "execution_count": 17,
   "metadata": {},
   "outputs": [],
   "source": [
    "# Figure out current statuses \n",
    "POS_last_month = POS_cash[POS_cash[\"MONTHS_BALANCE\"] == -1]\n",
    "POS_last_month_agg = POS_last_month.groupby(\"SK_ID_CURR\").agg({\"CNT_INSTALMENT_FUTURE\":[sum,lambda x: sum(x != 0)]})\n",
    "POS_last_month_agg.columns = [\"NUM_INSTALMENTS_PENDING\",\"NUM_ACCOUNTS_ACTIVE\"]"
   ]
  },
  {
   "cell_type": "code",
   "execution_count": 18,
   "metadata": {},
   "outputs": [
    {
     "name": "stdout",
     "output_type": "stream",
     "text": [
      "3 months completed.\n",
      "6 months completed.\n",
      "12 months completed.\n",
      "24 months completed.\n"
     ]
    }
   ],
   "source": [
    "POS_n_months = []\n",
    "for month in [3,6,12,24]:\n",
    "    POS_recent = POS_cash[POS_cash[\"MONTHS_BALANCE\"] > -month]\n",
    "    POS_recent_gr = POS_recent.groupby(\"SK_ID_CURR\")\n",
    "    POS_recent_sub = POS_recent_gr.agg({\"SK_DPD_DEF\":lambda x: sum(x != 0),\n",
    "                                        \"SK_DPD\": lambda x: sum(x != 0)})\n",
    "    POS_recent_sub.columns = [f\"NUM_LATE_POS_PAYMENTS_{month}_MONTHS_DEF\",\n",
    "                              f\"NUM_LATE_POS_PAYMENTS_{month}_MONTHS\"]\n",
    "    \n",
    "    POS_recent_status = POS_recent_gr[\"NAME_CONTRACT_STATUS\"].value_counts().unstack(\"NAME_CONTRACT_STATUS\")\n",
    "    POS_recent_sub[f\"NUM_CONTRACTS_COMPLETED_{month}_MONTHS\"] = POS_recent_status[\"Completed\"]\n",
    "    \n",
    "    POS_n_months.append(POS_recent_sub)\n",
    "    print(f\"{month} months completed.\")\n",
    "\n",
    "POS_months_data = pd.DataFrame(index = POS_cash_sub.index).join(POS_n_months, how = \"left\")"
   ]
  },
  {
   "cell_type": "code",
   "execution_count": 19,
   "metadata": {},
   "outputs": [],
   "source": [
    "POS_cash_data = POS_cash_sub.join([POS_last_month_agg, POS_months_data])\n",
    "POS_cash_data.fillna(value = {\"NUM_INSTALMENTS_PENDING\":0,\"NUM_ACCOUNTS_ACTIVE\":0}, inplace = True)\n",
    "POS_cash_data.fillna(value = {x:0 for x in POS_months_data.columns}, inplace = True)"
   ]
  },
  {
   "cell_type": "markdown",
   "metadata": {},
   "source": [
    "<h4> Logistic regression predictions.  Several columns are stripped out due to multicollinearity issues (the threshold point for this is a correlation of greater than 0.75 between two variables).  A few other columns are transformed so that they have higher correlations with the TARGET variable (which seems to help the models along); since the ranking order of the points stays the same in these circumstances, the gradient boosting shouldn't be particularly affected. </h4>\n",
    "\n",
    "<h4> LAST AUC VALUE: 0.5790 </h4>"
   ]
  },
  {
   "cell_type": "markdown",
   "metadata": {},
   "source": [
    "High Correlation Pairs:\n",
    "    \n",
    "- MAX_POS_DPD & AVG_POS_DPD (0.9649)"
   ]
  },
  {
   "cell_type": "code",
   "execution_count": 20,
   "metadata": {},
   "outputs": [],
   "source": [
    "# Load objects needed for logistic regression\n",
    "target_df = pd.read_feather(\"target.feather\")\n",
    "\n",
    "POS_cash_poly = {\"AVG_POS_DPD\":0.1, \"NUM_CONTRACTS_COMPLETED\":0.2}\n",
    "\n",
    "high_cor_columns = [\"MAX_POS_DPD\"]"
   ]
  },
  {
   "cell_type": "code",
   "execution_count": 21,
   "metadata": {},
   "outputs": [
    {
     "name": "stdout",
     "output_type": "stream",
     "text": [
      "0.5736604031045014\n",
      "0.5851072603962046\n",
      "0.5777737829410226\n",
      "0.5762792800271173\n",
      "0.5816914231023006\n",
      "0.5802944711172141\n",
      "0.5793405388935406\n",
      "0.57810867349179\n",
      "Avg AUC: 0.5790319791342113\n"
     ]
    }
   ],
   "source": [
    "# Make logistic regression predictions\n",
    "test_aucs = []\n",
    "for _ in range(8):\n",
    "    pred, auc = com.log_regress_other_files(com.add_polynomial_terms(POS_cash_data.reset_index().copy(), POS_cash_poly),\n",
    "                                            target_df,\n",
    "                                            high_cor_columns)\n",
    "    test_aucs.append(auc)\n",
    "    print(auc)\n",
    "print(\"Avg AUC: \" + str(np.mean(test_aucs)))"
   ]
  },
  {
   "cell_type": "code",
   "execution_count": 22,
   "metadata": {},
   "outputs": [],
   "source": [
    "POS_cash_data[\"POS_CASH_LR_PREDS\"] = pred"
   ]
  },
  {
   "cell_type": "code",
   "execution_count": 23,
   "metadata": {},
   "outputs": [],
   "source": [
    "POS_cash_data.reset_index().to_feather(\"POS_cash_sub.feather\")"
   ]
  }
 ],
 "metadata": {
  "kernelspec": {
   "display_name": "Python 3",
   "language": "python",
   "name": "python3"
  },
  "language_info": {
   "codemirror_mode": {
    "name": "ipython",
    "version": 3
   },
   "file_extension": ".py",
   "mimetype": "text/x-python",
   "name": "python",
   "nbconvert_exporter": "python",
   "pygments_lexer": "ipython3",
   "version": "3.6.5"
  }
 },
 "nbformat": 4,
 "nbformat_minor": 2
}
