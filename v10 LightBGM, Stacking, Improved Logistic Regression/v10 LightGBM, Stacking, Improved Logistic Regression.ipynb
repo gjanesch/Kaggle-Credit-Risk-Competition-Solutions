{
 "cells": [
  {
   "cell_type": "code",
   "execution_count": null,
   "metadata": {},
   "outputs": [],
   "source": [
    "# Solution attempt 10: LightGBM, Stacking with Improved Logistic Regression\n",
    "# Final submission: 2018-08-18\n",
    "# Submission score: 0.792\n",
    "\n",
    "# Further work with lightgbm, including stacking of other models as well.\n",
    "# Started this mostly to snapshot the previous solution."
   ]
  },
  {
   "cell_type": "code",
   "execution_count": null,
   "metadata": {},
   "outputs": [],
   "source": [
    "# General stuff to work on:\n",
    "# - figure out where I could stick harmonic/geometric means\n",
    "# - dimensionality reduction on the _MODE/_MEAN features?"
   ]
  },
  {
   "cell_type": "code",
   "execution_count": 1,
   "metadata": {},
   "outputs": [],
   "source": [
    "import v10_common as com"
   ]
  },
  {
   "cell_type": "code",
   "execution_count": 2,
   "metadata": {},
   "outputs": [],
   "source": [
    "import feather\n",
    "from lightgbm import LGBMClassifier\n",
    "import numpy as np\n",
    "import pandas as pd"
   ]
  },
  {
   "cell_type": "markdown",
   "metadata": {},
   "source": [
    "<h2> Load up the data and start combining it all here. </h2>"
   ]
  },
  {
   "cell_type": "code",
   "execution_count": 3,
   "metadata": {},
   "outputs": [],
   "source": [
    "all_data = pd.read_feather(\"all_data.feather\")\n",
    "bureau_df = pd.read_feather(\"bureau_sub.feather\").set_index(\"SK_ID_CURR\")\n",
    "prev_app_df = pd.read_feather(\"previous_application_sub.feather\").set_index(\"SK_ID_CURR\")\n",
    "cc_df = pd.read_feather(\"credit_card_sub.feather\").set_index(\"SK_ID_CURR\")\n",
    "install_payment_df = pd.read_feather(\"installments_payments_sub.feather\").set_index(\"SK_ID_CURR\")\n",
    "POS_cash_df = pd.read_feather(\"POS_cash_sub.feather\").set_index(\"SK_ID_CURR\")\n",
    "target_df = pd.read_feather(\"target.feather\")"
   ]
  },
  {
   "cell_type": "code",
   "execution_count": 4,
   "metadata": {},
   "outputs": [],
   "source": [
    "supplemental_file_df = bureau_df.join(prev_app_df, how = \"outer\")\n",
    "supplemental_file_df = supplemental_file_df.join(cc_df, how = \"outer\")\n",
    "supplemental_file_df = supplemental_file_df.join(install_payment_df, how = \"outer\")\n",
    "supplemental_file_df = supplemental_file_df.join(POS_cash_df, how = \"outer\")"
   ]
  },
  {
   "cell_type": "code",
   "execution_count": 5,
   "metadata": {},
   "outputs": [],
   "source": [
    "merged_data = all_data.join(supplemental_file_df, how = \"left\", on = \"SK_ID_CURR\")"
   ]
  },
  {
   "cell_type": "code",
   "execution_count": 6,
   "metadata": {},
   "outputs": [],
   "source": [
    "train = merged_data.iloc[:len(target_df),:].copy()\n",
    "test = merged_data.iloc[len(target_df):,:].copy()\n",
    "train.reset_index(drop = True).to_feather(\"v10 train data.feather\")\n",
    "test.reset_index(drop = True).to_feather(\"v10 test data.feather\")"
   ]
  },
  {
   "cell_type": "code",
   "execution_count": 7,
   "metadata": {},
   "outputs": [],
   "source": [
    "test_IDs = test[\"SK_ID_CURR\"]\n",
    "\n",
    "train.drop([\"SK_ID_CURR\"], axis = 1, inplace = True)\n",
    "test.drop([\"SK_ID_CURR\"], axis = 1, inplace = True)"
   ]
  },
  {
   "cell_type": "code",
   "execution_count": 9,
   "metadata": {},
   "outputs": [],
   "source": [
    "lgbm_parameters = {\"n_estimators\":6000,\n",
    "                   \"learning_rate\":0.01,     #previous: 0.01\n",
    "                   \"num_leaves\":32,          #previous: 32, 24 (opt)\n",
    "                   \"colsample_by_tree\":0.8,  #previous: 0.8\n",
    "                   \"subsample\":0.771,        #previous: 0.9, 0.771 (opt)\n",
    "                   \"max_depth\":7,            #previous: 7, 4 (opt)\n",
    "                   \"reg_alpha\":0.084,        #previous: 0.15, 0.084 (opt)\n",
    "                   \"reg_lambda\":0.091,       #previous: 0.01, 0.091 (opt)\n",
    "                   \"min_split_gain\":0.093,   #previous: 0.1, 0.093 (opt)\n",
    "                   \"min_child_weight\":2}     #previous: 2"
   ]
  },
  {
   "cell_type": "code",
   "execution_count": 9,
   "metadata": {
    "scrolled": true
   },
   "outputs": [
    {
     "name": "stdout",
     "output_type": "stream",
     "text": [
      "#### FOLD NUMBER 1 ####\n",
      "Training until validation scores don't improve for 50 rounds.\n",
      "[100]\ttraining's auc: 0.769697\tvalid_1's auc: 0.758266\n",
      "[200]\ttraining's auc: 0.781813\tvalid_1's auc: 0.765949\n",
      "[300]\ttraining's auc: 0.792121\tvalid_1's auc: 0.771756\n",
      "[400]\ttraining's auc: 0.800171\tvalid_1's auc: 0.775919\n",
      "[500]\ttraining's auc: 0.806851\tvalid_1's auc: 0.778617\n",
      "[600]\ttraining's auc: 0.812594\tvalid_1's auc: 0.780668\n",
      "[700]\ttraining's auc: 0.817951\tvalid_1's auc: 0.782201\n",
      "[800]\ttraining's auc: 0.822726\tvalid_1's auc: 0.783319\n",
      "[900]\ttraining's auc: 0.827169\tvalid_1's auc: 0.78411\n",
      "[1000]\ttraining's auc: 0.831322\tvalid_1's auc: 0.784781\n",
      "[1100]\ttraining's auc: 0.835288\tvalid_1's auc: 0.78532\n",
      "[1200]\ttraining's auc: 0.839049\tvalid_1's auc: 0.785684\n",
      "[1300]\ttraining's auc: 0.842544\tvalid_1's auc: 0.786053\n",
      "[1400]\ttraining's auc: 0.845996\tvalid_1's auc: 0.786328\n",
      "[1500]\ttraining's auc: 0.849254\tvalid_1's auc: 0.786506\n",
      "[1600]\ttraining's auc: 0.852452\tvalid_1's auc: 0.786694\n",
      "[1700]\ttraining's auc: 0.855465\tvalid_1's auc: 0.786898\n",
      "[1800]\ttraining's auc: 0.85851\tvalid_1's auc: 0.786959\n",
      "Early stopping, best iteration is:\n",
      "[1830]\ttraining's auc: 0.859401\tvalid_1's auc: 0.786981\n",
      "#### FOLD NUMBER 2 ####\n",
      "Training until validation scores don't improve for 50 rounds.\n",
      "[100]\ttraining's auc: 0.77027\tvalid_1's auc: 0.754174\n",
      "[200]\ttraining's auc: 0.782285\tvalid_1's auc: 0.763702\n",
      "[300]\ttraining's auc: 0.792306\tvalid_1's auc: 0.769746\n",
      "[400]\ttraining's auc: 0.800213\tvalid_1's auc: 0.773417\n",
      "[500]\ttraining's auc: 0.806815\tvalid_1's auc: 0.776306\n",
      "[600]\ttraining's auc: 0.812776\tvalid_1's auc: 0.778853\n",
      "[700]\ttraining's auc: 0.818153\tvalid_1's auc: 0.780955\n",
      "[800]\ttraining's auc: 0.823052\tvalid_1's auc: 0.782374\n",
      "[900]\ttraining's auc: 0.827316\tvalid_1's auc: 0.783423\n",
      "[1000]\ttraining's auc: 0.831547\tvalid_1's auc: 0.784258\n",
      "[1100]\ttraining's auc: 0.835378\tvalid_1's auc: 0.784944\n",
      "[1200]\ttraining's auc: 0.83896\tvalid_1's auc: 0.785393\n",
      "[1300]\ttraining's auc: 0.84248\tvalid_1's auc: 0.785775\n",
      "[1400]\ttraining's auc: 0.845852\tvalid_1's auc: 0.786036\n",
      "[1500]\ttraining's auc: 0.849128\tvalid_1's auc: 0.786239\n",
      "[1600]\ttraining's auc: 0.852167\tvalid_1's auc: 0.786502\n",
      "[1700]\ttraining's auc: 0.855126\tvalid_1's auc: 0.786739\n",
      "[1800]\ttraining's auc: 0.857956\tvalid_1's auc: 0.786918\n",
      "[1900]\ttraining's auc: 0.860806\tvalid_1's auc: 0.787169\n",
      "[2000]\ttraining's auc: 0.863583\tvalid_1's auc: 0.78744\n",
      "[2100]\ttraining's auc: 0.866179\tvalid_1's auc: 0.787528\n",
      "Early stopping, best iteration is:\n",
      "[2059]\ttraining's auc: 0.865139\tvalid_1's auc: 0.787537\n",
      "#### FOLD NUMBER 3 ####\n",
      "Training until validation scores don't improve for 50 rounds.\n",
      "[100]\ttraining's auc: 0.770344\tvalid_1's auc: 0.753527\n",
      "[200]\ttraining's auc: 0.782646\tvalid_1's auc: 0.761594\n",
      "[300]\ttraining's auc: 0.792707\tvalid_1's auc: 0.767774\n",
      "[400]\ttraining's auc: 0.800821\tvalid_1's auc: 0.771997\n",
      "[500]\ttraining's auc: 0.807292\tvalid_1's auc: 0.774492\n",
      "[600]\ttraining's auc: 0.813235\tvalid_1's auc: 0.776539\n",
      "[700]\ttraining's auc: 0.818659\tvalid_1's auc: 0.778253\n",
      "[800]\ttraining's auc: 0.82348\tvalid_1's auc: 0.779434\n",
      "[900]\ttraining's auc: 0.828018\tvalid_1's auc: 0.780395\n",
      "[1000]\ttraining's auc: 0.832151\tvalid_1's auc: 0.781108\n",
      "[1100]\ttraining's auc: 0.836107\tvalid_1's auc: 0.781536\n",
      "[1200]\ttraining's auc: 0.839844\tvalid_1's auc: 0.781983\n",
      "[1300]\ttraining's auc: 0.84346\tvalid_1's auc: 0.782297\n",
      "[1400]\ttraining's auc: 0.846848\tvalid_1's auc: 0.782502\n",
      "[1500]\ttraining's auc: 0.850047\tvalid_1's auc: 0.782716\n",
      "[1600]\ttraining's auc: 0.853085\tvalid_1's auc: 0.782793\n",
      "[1700]\ttraining's auc: 0.856043\tvalid_1's auc: 0.782985\n",
      "[1800]\ttraining's auc: 0.858928\tvalid_1's auc: 0.78304\n",
      "[1900]\ttraining's auc: 0.861816\tvalid_1's auc: 0.783165\n",
      "[2000]\ttraining's auc: 0.864446\tvalid_1's auc: 0.783328\n",
      "[2100]\ttraining's auc: 0.867039\tvalid_1's auc: 0.783428\n",
      "[2200]\ttraining's auc: 0.869599\tvalid_1's auc: 0.783626\n",
      "[2300]\ttraining's auc: 0.872093\tvalid_1's auc: 0.78367\n",
      "[2400]\ttraining's auc: 0.87464\tvalid_1's auc: 0.783801\n",
      "[2500]\ttraining's auc: 0.877042\tvalid_1's auc: 0.783925\n",
      "[2600]\ttraining's auc: 0.879352\tvalid_1's auc: 0.784051\n",
      "Early stopping, best iteration is:\n",
      "[2630]\ttraining's auc: 0.880063\tvalid_1's auc: 0.784102\n",
      "#### FOLD NUMBER 4 ####\n",
      "Training until validation scores don't improve for 50 rounds.\n",
      "[100]\ttraining's auc: 0.768595\tvalid_1's auc: 0.766695\n",
      "[200]\ttraining's auc: 0.781157\tvalid_1's auc: 0.774925\n",
      "[300]\ttraining's auc: 0.791414\tvalid_1's auc: 0.781084\n",
      "[400]\ttraining's auc: 0.799454\tvalid_1's auc: 0.784837\n",
      "[500]\ttraining's auc: 0.805962\tvalid_1's auc: 0.787425\n",
      "[600]\ttraining's auc: 0.811594\tvalid_1's auc: 0.789214\n",
      "[700]\ttraining's auc: 0.816793\tvalid_1's auc: 0.791053\n",
      "[800]\ttraining's auc: 0.821567\tvalid_1's auc: 0.792434\n",
      "[900]\ttraining's auc: 0.826069\tvalid_1's auc: 0.793335\n",
      "[1000]\ttraining's auc: 0.830164\tvalid_1's auc: 0.793901\n",
      "[1100]\ttraining's auc: 0.834014\tvalid_1's auc: 0.794333\n",
      "[1200]\ttraining's auc: 0.837647\tvalid_1's auc: 0.794711\n",
      "[1300]\ttraining's auc: 0.841392\tvalid_1's auc: 0.795152\n",
      "[1400]\ttraining's auc: 0.844828\tvalid_1's auc: 0.795468\n",
      "[1500]\ttraining's auc: 0.848157\tvalid_1's auc: 0.795766\n",
      "[1600]\ttraining's auc: 0.851456\tvalid_1's auc: 0.796013\n",
      "[1700]\ttraining's auc: 0.854617\tvalid_1's auc: 0.796142\n",
      "Early stopping, best iteration is:\n",
      "[1705]\ttraining's auc: 0.854786\tvalid_1's auc: 0.796165\n",
      "#### FOLD NUMBER 5 ####\n",
      "Training until validation scores don't improve for 50 rounds.\n",
      "[100]\ttraining's auc: 0.76914\tvalid_1's auc: 0.76483\n",
      "[200]\ttraining's auc: 0.781297\tvalid_1's auc: 0.7732\n",
      "[300]\ttraining's auc: 0.791356\tvalid_1's auc: 0.779841\n",
      "[400]\ttraining's auc: 0.799232\tvalid_1's auc: 0.784388\n",
      "[500]\ttraining's auc: 0.805784\tvalid_1's auc: 0.787225\n",
      "[600]\ttraining's auc: 0.811932\tvalid_1's auc: 0.789412\n",
      "[700]\ttraining's auc: 0.81742\tvalid_1's auc: 0.791072\n",
      "[800]\ttraining's auc: 0.822138\tvalid_1's auc: 0.792337\n",
      "[900]\ttraining's auc: 0.826435\tvalid_1's auc: 0.793332\n",
      "[1000]\ttraining's auc: 0.830594\tvalid_1's auc: 0.793996\n",
      "[1100]\ttraining's auc: 0.834369\tvalid_1's auc: 0.794461\n",
      "[1200]\ttraining's auc: 0.837902\tvalid_1's auc: 0.794743\n",
      "[1300]\ttraining's auc: 0.841422\tvalid_1's auc: 0.794995\n",
      "[1400]\ttraining's auc: 0.844797\tvalid_1's auc: 0.795041\n",
      "[1500]\ttraining's auc: 0.848083\tvalid_1's auc: 0.795051\n",
      "Early stopping, best iteration is:\n",
      "[1452]\ttraining's auc: 0.84652\tvalid_1's auc: 0.795073\n",
      "#### FOLD NUMBER 6 ####\n",
      "Training until validation scores don't improve for 50 rounds.\n",
      "[100]\ttraining's auc: 0.769591\tvalid_1's auc: 0.761999\n",
      "[200]\ttraining's auc: 0.78175\tvalid_1's auc: 0.769461\n",
      "[300]\ttraining's auc: 0.791883\tvalid_1's auc: 0.775158\n",
      "[400]\ttraining's auc: 0.799764\tvalid_1's auc: 0.779054\n",
      "[500]\ttraining's auc: 0.806178\tvalid_1's auc: 0.781673\n",
      "[600]\ttraining's auc: 0.812123\tvalid_1's auc: 0.783718\n",
      "[700]\ttraining's auc: 0.817502\tvalid_1's auc: 0.785297\n",
      "[800]\ttraining's auc: 0.822279\tvalid_1's auc: 0.786471\n",
      "[900]\ttraining's auc: 0.82661\tvalid_1's auc: 0.787146\n",
      "[1000]\ttraining's auc: 0.830723\tvalid_1's auc: 0.787713\n",
      "[1100]\ttraining's auc: 0.834491\tvalid_1's auc: 0.788096\n",
      "[1200]\ttraining's auc: 0.838119\tvalid_1's auc: 0.788506\n",
      "[1300]\ttraining's auc: 0.841676\tvalid_1's auc: 0.788886\n",
      "[1400]\ttraining's auc: 0.844963\tvalid_1's auc: 0.789181\n",
      "[1500]\ttraining's auc: 0.848187\tvalid_1's auc: 0.789315\n",
      "[1600]\ttraining's auc: 0.851337\tvalid_1's auc: 0.789407\n",
      "Early stopping, best iteration is:\n",
      "[1556]\ttraining's auc: 0.849967\tvalid_1's auc: 0.789432\n",
      "#### FOLD NUMBER 7 ####\n",
      "Training until validation scores don't improve for 50 rounds.\n",
      "[100]\ttraining's auc: 0.769003\tvalid_1's auc: 0.765005\n",
      "[200]\ttraining's auc: 0.781055\tvalid_1's auc: 0.773196\n",
      "[300]\ttraining's auc: 0.791131\tvalid_1's auc: 0.779263\n",
      "[400]\ttraining's auc: 0.799205\tvalid_1's auc: 0.783413\n",
      "[500]\ttraining's auc: 0.805894\tvalid_1's auc: 0.78635\n",
      "[600]\ttraining's auc: 0.811957\tvalid_1's auc: 0.7884\n",
      "[700]\ttraining's auc: 0.817081\tvalid_1's auc: 0.789881\n",
      "[800]\ttraining's auc: 0.82178\tvalid_1's auc: 0.791081\n",
      "[900]\ttraining's auc: 0.8261\tvalid_1's auc: 0.792004\n",
      "[1000]\ttraining's auc: 0.830178\tvalid_1's auc: 0.792621\n",
      "[1100]\ttraining's auc: 0.834005\tvalid_1's auc: 0.793099\n",
      "[1200]\ttraining's auc: 0.837633\tvalid_1's auc: 0.793309\n",
      "[1300]\ttraining's auc: 0.841124\tvalid_1's auc: 0.79338\n",
      "[1400]\ttraining's auc: 0.844475\tvalid_1's auc: 0.79361\n",
      "[1500]\ttraining's auc: 0.847696\tvalid_1's auc: 0.793871\n"
     ]
    },
    {
     "name": "stdout",
     "output_type": "stream",
     "text": [
      "[1600]\ttraining's auc: 0.850902\tvalid_1's auc: 0.793896\n",
      "Early stopping, best iteration is:\n",
      "[1576]\ttraining's auc: 0.850098\tvalid_1's auc: 0.793946\n",
      "#### FOLD NUMBER 8 ####\n",
      "Training until validation scores don't improve for 50 rounds.\n",
      "[100]\ttraining's auc: 0.769718\tvalid_1's auc: 0.758576\n",
      "[200]\ttraining's auc: 0.781697\tvalid_1's auc: 0.767486\n",
      "[300]\ttraining's auc: 0.791904\tvalid_1's auc: 0.774185\n",
      "[400]\ttraining's auc: 0.799495\tvalid_1's auc: 0.778592\n",
      "[500]\ttraining's auc: 0.806056\tvalid_1's auc: 0.781794\n",
      "[600]\ttraining's auc: 0.811872\tvalid_1's auc: 0.784394\n",
      "[700]\ttraining's auc: 0.817071\tvalid_1's auc: 0.786521\n",
      "[800]\ttraining's auc: 0.821903\tvalid_1's auc: 0.788097\n",
      "[900]\ttraining's auc: 0.8264\tvalid_1's auc: 0.789258\n",
      "[1000]\ttraining's auc: 0.830598\tvalid_1's auc: 0.790092\n",
      "[1100]\ttraining's auc: 0.834601\tvalid_1's auc: 0.790794\n",
      "[1200]\ttraining's auc: 0.838407\tvalid_1's auc: 0.791201\n",
      "[1300]\ttraining's auc: 0.842061\tvalid_1's auc: 0.791636\n",
      "[1400]\ttraining's auc: 0.845537\tvalid_1's auc: 0.791971\n",
      "[1500]\ttraining's auc: 0.848855\tvalid_1's auc: 0.79221\n",
      "[1600]\ttraining's auc: 0.851952\tvalid_1's auc: 0.792446\n",
      "[1700]\ttraining's auc: 0.85484\tvalid_1's auc: 0.792609\n",
      "[1800]\ttraining's auc: 0.857744\tvalid_1's auc: 0.792786\n",
      "[1900]\ttraining's auc: 0.860378\tvalid_1's auc: 0.792986\n",
      "[2000]\ttraining's auc: 0.863092\tvalid_1's auc: 0.793176\n",
      "[2100]\ttraining's auc: 0.865621\tvalid_1's auc: 0.793305\n",
      "[2200]\ttraining's auc: 0.868198\tvalid_1's auc: 0.793552\n",
      "[2300]\ttraining's auc: 0.870709\tvalid_1's auc: 0.793735\n",
      "[2400]\ttraining's auc: 0.873092\tvalid_1's auc: 0.793883\n",
      "[2500]\ttraining's auc: 0.875478\tvalid_1's auc: 0.794016\n",
      "[2600]\ttraining's auc: 0.877763\tvalid_1's auc: 0.794076\n",
      "[2700]\ttraining's auc: 0.880059\tvalid_1's auc: 0.794232\n",
      "Early stopping, best iteration is:\n",
      "[2700]\ttraining's auc: 0.880059\tvalid_1's auc: 0.794232\n",
      "Done.\n"
     ]
    }
   ],
   "source": [
    "# Train it up!\n",
    "# 2018-08-14: Removed a bunch of unimportant cols from all_data;\n",
    "#             added number of apps in past N days to bureau;\n",
    "#             added num/frac cols for NAME_CONTRACT_TYPE in prev_app;\n",
    "#             added AMT_DOWN_PAYMENT aggs to prev_app;\n",
    "#             added AMT_RECEIVABLE_PRINCIPAL, AMT_RECEIVABLE, AMT_RECEIVABLE_TOTAL aggs to credit_card\n",
    "\n",
    "\n",
    "# Previous val AUC: 0.790933\n",
    "# Best AUC: 0.791234\n",
    "\n",
    "from sklearn.model_selection import KFold\n",
    "\n",
    "folds = KFold(n_splits = 8, shuffle = True)\n",
    "auc_scores = []\n",
    "\n",
    "feature_importance_df = pd.DataFrame({\"Features\":train.columns})\n",
    "\n",
    "for n_fold, (train_ids, val_ids) in enumerate(folds.split(train)):\n",
    "    print(\"#### FOLD NUMBER \" + str(n_fold + 1) + \" ####\")\n",
    "    train_train = train.iloc[train_ids]\n",
    "    train_test = train.iloc[val_ids]\n",
    "    target_train = target_df[\"TARGET\"][train_ids]\n",
    "    target_test = target_df[\"TARGET\"][val_ids]\n",
    "    \n",
    "    clf = LGBMClassifier(**lgbm_parameters, device = \"gpu\")\n",
    "    clf.fit(train_train, target_train, eval_set = [(train_train, target_train), (train_test, target_test)], eval_metric = \"auc\", early_stopping_rounds = 50, verbose = 100)\n",
    "    auc_scores.append(clf._best_score[\"valid_1\"][\"auc\"])\n",
    "    feature_importance_df[\"Importance Fold \" + str(n_fold + 1)] = pd.Series(clf.feature_importances_)\n",
    "\n",
    "print(\"Done.\")"
   ]
  },
  {
   "cell_type": "code",
   "execution_count": 10,
   "metadata": {},
   "outputs": [],
   "source": [
    "feature_importance_df[\"Average Importance\"] = feature_importance_df.iloc[:,1:].mean(axis=1)\n",
    "feature_importance_df.to_csv(\"v10 Feature Importance.csv\", index = False)"
   ]
  },
  {
   "cell_type": "code",
   "execution_count": 11,
   "metadata": {},
   "outputs": [
    {
     "name": "stdout",
     "output_type": "stream",
     "text": [
      "[0.7869814999730124, 0.7875365208437511, 0.7841016129295512, 0.7961649897943535, 0.7950733593522961, 0.7894316915801407, 0.7939455455138253, 0.7942320268633462]\n",
      "0.7909334058562846\n"
     ]
    }
   ],
   "source": [
    "print(auc_scores)\n",
    "print(np.mean(auc_scores))"
   ]
  },
  {
   "cell_type": "code",
   "execution_count": 10,
   "metadata": {
    "scrolled": true
   },
   "outputs": [
    {
     "name": "stdout",
     "output_type": "stream",
     "text": [
      "Training until validation scores don't improve for 150 rounds.\n",
      "[100]\ttraining's auc: 0.768876\n",
      "[200]\ttraining's auc: 0.780286\n",
      "[300]\ttraining's auc: 0.789838\n",
      "[400]\ttraining's auc: 0.797285\n",
      "[500]\ttraining's auc: 0.803412\n",
      "[600]\ttraining's auc: 0.809166\n",
      "[700]\ttraining's auc: 0.81405\n",
      "[800]\ttraining's auc: 0.81842\n",
      "[900]\ttraining's auc: 0.822487\n",
      "[1000]\ttraining's auc: 0.826238\n",
      "[1100]\ttraining's auc: 0.829689\n",
      "[1200]\ttraining's auc: 0.833029\n",
      "[1300]\ttraining's auc: 0.836336\n",
      "[1400]\ttraining's auc: 0.839437\n",
      "[1500]\ttraining's auc: 0.842557\n",
      "[1600]\ttraining's auc: 0.845602\n",
      "[1700]\ttraining's auc: 0.848544\n",
      "[1800]\ttraining's auc: 0.851321\n",
      "[1900]\ttraining's auc: 0.854017\n",
      "[2000]\ttraining's auc: 0.856646\n",
      "[2100]\ttraining's auc: 0.859216\n",
      "[2200]\ttraining's auc: 0.861688\n",
      "[2300]\ttraining's auc: 0.864116\n",
      "[2400]\ttraining's auc: 0.86644\n",
      "[2500]\ttraining's auc: 0.868723\n",
      "[2600]\ttraining's auc: 0.87094\n",
      "[2700]\ttraining's auc: 0.873211\n",
      "[2800]\ttraining's auc: 0.875142\n",
      "[2900]\ttraining's auc: 0.877117\n",
      "[3000]\ttraining's auc: 0.879218\n",
      "[3100]\ttraining's auc: 0.881203\n",
      "[3200]\ttraining's auc: 0.883082\n",
      "[3300]\ttraining's auc: 0.885015\n",
      "[3400]\ttraining's auc: 0.886914\n",
      "[3500]\ttraining's auc: 0.888751\n",
      "[3600]\ttraining's auc: 0.890609\n",
      "[3700]\ttraining's auc: 0.892496\n",
      "[3800]\ttraining's auc: 0.894136\n",
      "[3900]\ttraining's auc: 0.895884\n",
      "[4000]\ttraining's auc: 0.897555\n",
      "[4100]\ttraining's auc: 0.899271\n",
      "[4200]\ttraining's auc: 0.900897\n",
      "[4300]\ttraining's auc: 0.902454\n",
      "[4400]\ttraining's auc: 0.904024\n",
      "[4500]\ttraining's auc: 0.905552\n",
      "[4600]\ttraining's auc: 0.907101\n",
      "[4700]\ttraining's auc: 0.908544\n",
      "[4800]\ttraining's auc: 0.909947\n",
      "[4900]\ttraining's auc: 0.911374\n",
      "[5000]\ttraining's auc: 0.912799\n",
      "[5100]\ttraining's auc: 0.914245\n",
      "[5200]\ttraining's auc: 0.915576\n",
      "[5300]\ttraining's auc: 0.916897\n",
      "[5400]\ttraining's auc: 0.9181\n",
      "[5500]\ttraining's auc: 0.919325\n",
      "[5600]\ttraining's auc: 0.920633\n",
      "[5700]\ttraining's auc: 0.921828\n",
      "[5800]\ttraining's auc: 0.923074\n",
      "[5900]\ttraining's auc: 0.924237\n",
      "[6000]\ttraining's auc: 0.925479\n",
      "Did not meet early stopping. Best iteration is:\n",
      "[6000]\ttraining's auc: 0.925479\n"
     ]
    },
    {
     "data": {
      "text/plain": [
       "LGBMClassifier(boosting_type='gbdt', class_weight=None, colsample_by_tree=0.8,\n",
       "        colsample_bytree=1.0, importance_type='split', learning_rate=0.01,\n",
       "        max_depth=7, min_child_samples=20, min_child_weight=2,\n",
       "        min_split_gain=0.093, n_estimators=6000, n_jobs=-1, num_leaves=32,\n",
       "        objective=None, random_state=None, reg_alpha=0.084,\n",
       "        reg_lambda=0.091, silent=True, subsample=0.771,\n",
       "        subsample_for_bin=200000, subsample_freq=0)"
      ]
     },
     "execution_count": 10,
     "metadata": {},
     "output_type": "execute_result"
    }
   ],
   "source": [
    "# Last AUC @ 000 iterations: 0.925479\n",
    "\n",
    "clf2 = LGBMClassifier(**lgbm_parameters)\n",
    "clf2.fit(train,\n",
    "         target_df[\"TARGET\"],\n",
    "         eval_set = [(train, target_df[\"TARGET\"])],\n",
    "         eval_metric = \"auc\",\n",
    "         early_stopping_rounds = 150,\n",
    "         verbose = 100)"
   ]
  },
  {
   "cell_type": "code",
   "execution_count": 11,
   "metadata": {
    "scrolled": true
   },
   "outputs": [],
   "source": [
    "data_predictions = clf2.predict_proba(test, num_iteration = clf2.best_iteration_)\n",
    "submission = pd.DataFrame({\"SK_ID_CURR\":test_IDs, \"TARGET\":data_predictions[:,1]})\n",
    "submission.to_csv(\"v10_predictions.csv\", index = False)"
   ]
  }
 ],
 "metadata": {
  "kernelspec": {
   "display_name": "Python 3",
   "language": "python",
   "name": "python3"
  },
  "language_info": {
   "codemirror_mode": {
    "name": "ipython",
    "version": 3
   },
   "file_extension": ".py",
   "mimetype": "text/x-python",
   "name": "python",
   "nbconvert_exporter": "python",
   "pygments_lexer": "ipython3",
   "version": "3.6.5"
  }
 },
 "nbformat": 4,
 "nbformat_minor": 2
}
