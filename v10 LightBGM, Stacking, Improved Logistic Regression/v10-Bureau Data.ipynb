{
 "cells": [
  {
   "cell_type": "markdown",
   "metadata": {},
   "source": [
    "<h2>This file is for processing the data from the <TT>bureau</TT> and <TT>bureau_balance</TT> data files.</h2>"
   ]
  },
  {
   "cell_type": "code",
   "execution_count": 1,
   "metadata": {},
   "outputs": [],
   "source": [
    "import v10_common as com\n",
    "\n",
    "import feather\n",
    "import numpy as np\n",
    "import pandas as pd\n",
    "import scipy.stats as sstats"
   ]
  },
  {
   "cell_type": "code",
   "execution_count": 2,
   "metadata": {},
   "outputs": [],
   "source": [
    "# Pending changes:\n",
    "# - filter out not useful credit types from CREDIT_TYPE tabulation\n",
    "# - filter out what's not \"Active\" or \"Closed\" from CREDIT_STATUS"
   ]
  },
  {
   "cell_type": "code",
   "execution_count": 4,
   "metadata": {},
   "outputs": [],
   "source": [
    "BUREAU_FILE = com.DATA_FILE_FOLDER + \"bureau.feather\"\n",
    "BUREAU_BALANCE_FILE = com.DATA_FILE_FOLDER + \"bureau_balance.feather\""
   ]
  },
  {
   "cell_type": "markdown",
   "metadata": {},
   "source": [
    "<h4>Start with the <TT>bureau_balance</TT> data, since we'll want to merge that into the <TT>bureau</TT> data pretty much immediately after we load it.</h4>"
   ]
  },
  {
   "cell_type": "code",
   "execution_count": 5,
   "metadata": {},
   "outputs": [],
   "source": [
    "bureau_balance = pd.read_feather(BUREAU_BALANCE_FILE)\n",
    "bureau = pd.read_feather(BUREAU_FILE)"
   ]
  },
  {
   "cell_type": "code",
   "execution_count": 6,
   "metadata": {},
   "outputs": [],
   "source": [
    "bureau_balance[\"STATUS\"] = bureau_balance[\"STATUS\"].astype(str)\n",
    "bureau_balance_gr = bureau_balance.groupby(\"SK_ID_BUREAU\")"
   ]
  },
  {
   "cell_type": "code",
   "execution_count": 7,
   "metadata": {},
   "outputs": [],
   "source": [
    "bureau_balance_sub = com.count_frac_cols(bureau_balance_gr,\n",
    "                                         col = \"STATUS\",\n",
    "                                         middle_string = \"BBAL_STATUS\")"
   ]
  },
  {
   "cell_type": "code",
   "execution_count": 8,
   "metadata": {},
   "outputs": [],
   "source": [
    "bureau_balance_sub[\"BUREAU_BAL_COUNT\"] = bureau_balance_gr.size()\n",
    "bureau_balance_sub[\"MONTHS_BALANCE_MIN\"] = bureau_balance_gr.agg({\"MONTHS_BALANCE\":min})\n",
    "bureau_balance_sub[\"MONTHS_BALANCE_MAX\"] = bureau_balance_gr.agg({\"MONTHS_BALANCE\":max})"
   ]
  },
  {
   "cell_type": "code",
   "execution_count": null,
   "metadata": {
    "scrolled": true
   },
   "outputs": [],
   "source": [
    "\"\"\"bureau_balance_n_months = []\n",
    "for month in [1,6,12,24]:\n",
    "    bureau_bal_recent = bureau_balance[bureau_balance[\"MONTHS_BALANCE\"] >= -month]\n",
    "    bureau_bal_recent_gr = bureau_balance_recent.groupby(\"SK_ID_CURR\")\n",
    "    \n",
    "    bureau_bal_recent_sub = com.count_frac_cols(bureau_balance_gr,\n",
    "                                         column_names = [\"STATUS\"],\n",
    "                                         middle_string = f\"BBAL_STATUS_{month}_MONTHS\")\n",
    "    bureau_bal_recent_sub[f\"NUM_BBAL_ENTRIES_{month}_MONTHS\"] = bureau_bal_recent_gr.size()\n",
    "    \n",
    "    bureau_balance_n_months.append(bureau_balance_n_months)\"\"\""
   ]
  },
  {
   "cell_type": "markdown",
   "metadata": {},
   "source": [
    "<h4>On to the <TT>bureau</TT> file.  Merge the <TT>bureau_balance</TT> data first, then we can start grouping and engineering a lot of features.</h4>"
   ]
  },
  {
   "cell_type": "code",
   "execution_count": 9,
   "metadata": {},
   "outputs": [],
   "source": [
    "bureau = bureau.join(bureau_balance_sub, on = \"SK_ID_BUREAU\", rsuffix = \"bb\")"
   ]
  },
  {
   "cell_type": "code",
   "execution_count": 10,
   "metadata": {},
   "outputs": [],
   "source": [
    "# usefulness of credit type is based on feature importance in lgbm; excluded ones have (near-)zero importance\n",
    "useful_credit_types = [\"Another type of loan\", \"Car loan\", \"Consumer credit\", \"Credit card\",\n",
    "                       \"Microloan\", \"Mortgage\"]\n",
    "\n",
    "bureau[\"CREDIT_TYPE\"] = bureau[\"CREDIT_TYPE\"].astype(\"str\")\n",
    "bureau.loc[~bureau[\"CREDIT_TYPE\"].isin(useful_credit_types),\"CREDIT_TYPE\"] = np.nan"
   ]
  },
  {
   "cell_type": "code",
   "execution_count": 11,
   "metadata": {},
   "outputs": [],
   "source": [
    "bureau_gr = bureau.groupby(\"SK_ID_CURR\")\n",
    "bureau_sub = bureau_gr.agg({\"CREDIT_DAY_OVERDUE\":[max,np.mean],\n",
    "                            \"AMT_CREDIT_SUM_OVERDUE\":[max,np.mean],\n",
    "                            \"CNT_CREDIT_PROLONG\":sum,\n",
    "                            \"AMT_CREDIT_SUM\":sum,\n",
    "                            \"AMT_CREDIT_SUM_DEBT\":sum,\n",
    "                            \"AMT_CREDIT_SUM_LIMIT\":sum,\n",
    "                            \"MONTHS_BALANCE_MIN\":min,\n",
    "                            \"MONTHS_BALANCE_MAX\":max,\n",
    "                            \"DAYS_CREDIT\":[min,max,np.mean],\n",
    "                            \"DAYS_CREDIT_UPDATE\":[min,max],\n",
    "                            \"DAYS_CREDIT_ENDDATE\":[min,max],\n",
    "                            \"BUREAU_BAL_COUNT\":[sum, np.mean]})\n",
    "bureau_sub.columns = [\"MAX_DAYS_OVERDUE\", \"AVG_DAYS_OVERDUE\",\n",
    "                      \"MAX_CREDIT_OVERDUE\", \"AVG_CREDIT_OVERDUE\",\n",
    "                      \"NUM_TIMES_PROLONGED\",\n",
    "                      \"TOTAL_CURRENT_CREDIT_AMT\",\n",
    "                      \"TOTAL_CURRENT_CREDIT_DEBT\",\n",
    "                      \"TOTAL_CURRENT_CREDIT_LIMIT\",\n",
    "                      \"BUREAU_OLDEST_MONTH\",\n",
    "                      \"BUREAU_NEWEST_MONTH\",\n",
    "                      \"BUREAU_OLDEST_APP\",\"BUREAU_NEWEST_APP\",\"BUREAU_AVG_APP_AGE\",\n",
    "                      \"BUREAU_OLDEST_UPDATE\",\"BUREAU_NEWEST_UPDATE\",\n",
    "                      \"OLDEST_CREDIT_ENDDATE\",\"NEWEST_CREDIT_ENDDATE\",\n",
    "                      \"TOTAL_BUREAU_BALANCE_ENTIRES\", \"AVG_NUM_BUREAU_BALANCE_ENTRIES\"]\n",
    "\n",
    "bureau_sub[\"BUREAU_CREDIT_COUNT\"] = bureau_gr.size()"
   ]
  },
  {
   "cell_type": "code",
   "execution_count": 12,
   "metadata": {},
   "outputs": [],
   "source": [
    "bureau_recent_credit = bureau[[\"SK_ID_CURR\"]].copy()\n",
    "for days in [60,120,365]:\n",
    "    bureau_recent_credit[f\"NUM_BUREAU_APP_{days}_DAYS\"] = 1 * (bureau[\"DAYS_CREDIT\"] > -days)\n",
    "bureau_recent_credit = bureau_recent_credit.groupby(\"SK_ID_CURR\").agg({sum})\n",
    "bureau_recent_credit.columns = [x[0] for x in bureau_recent_credit.columns]"
   ]
  },
  {
   "cell_type": "code",
   "execution_count": 13,
   "metadata": {},
   "outputs": [],
   "source": [
    "cols = [\"0\",\"1\",\"2\",\"3\",\"4\",\"5\",\"C\",\"X\"]\n",
    "bureau_bbal_status_agg_cols = {\"NUM_BBAL_STATUS_\" + col:sum for col in cols}\n",
    "bureau_bbal_status_agg = bureau_gr.agg(bureau_bbal_status_agg_cols)"
   ]
  },
  {
   "cell_type": "code",
   "execution_count": 14,
   "metadata": {
    "scrolled": true
   },
   "outputs": [],
   "source": [
    "bureau_credit_types = com.count_frac_cols(bureau_gr,\n",
    "                                          col = \"CREDIT_TYPE\",\n",
    "                                          middle_string = \"CREDIT_TYPE\")"
   ]
  },
  {
   "cell_type": "code",
   "execution_count": 15,
   "metadata": {},
   "outputs": [],
   "source": [
    "bureau_credit_status = com.count_frac_cols(bureau_gr,\n",
    "                                           col = \"CREDIT_ACTIVE\",\n",
    "                                           middle_string = \"CREDIT_ACTIVE\")"
   ]
  },
  {
   "cell_type": "code",
   "execution_count": 16,
   "metadata": {},
   "outputs": [],
   "source": [
    "bureau_data = pd.concat([bureau_sub, bureau_bbal_status_agg, bureau_credit_types, bureau_credit_status,\n",
    "                         bureau_recent_credit], axis = 1)"
   ]
  },
  {
   "cell_type": "markdown",
   "metadata": {},
   "source": [
    "<h4> Logistic regression predictions.  Several columns are stripped out due to multicollinearity issues (the threshold point for this is a correlation of greater than 0.75 between two variables).  A few other columns are transformed so that they have higher correlations with the TARGET variable (which seems to help the models along); since the ranking order of the points stays the same in these circumstances, the gradient boosting shouldn't be particularly affected. </h4>\n",
    "\n",
    "<h4> LAST AUC VALUE: 0.6361 </h4>"
   ]
  },
  {
   "cell_type": "markdown",
   "metadata": {},
   "source": [
    "High correlation pairs:\n",
    "* MAX_DAYS_OVERDUE & AVG_DAYS_OVERDUE (0.7503)\n",
    "* MAX_CREDIT_OVERDUE & AVG_CREDIT_OVERDUE (0.7803)\n",
    "* BUREAU_OLDEST_APP & BUREAU_AVG_APP_AGE (0.8020)\n",
    "* NUM_BUREAU_BALANCE_ENTIRES & NUM_BBAL_STATUS_C (0.9067)\n",
    "* BUREAU_CREDIT_COUNT & NUM_CREDIT_ACTIVE_Closed (0.9237)\n",
    "* FRAC_CREDIT_ACTIVE_Active & FRAC_CREDIT_ACTIVE_Closed (-0.9922)\n",
    "* NUM_CREDIT_ACTIVE_Bad debt & FRAC_CREDIT_ACTIVE_Bad debt (0.8326)"
   ]
  },
  {
   "cell_type": "code",
   "execution_count": 17,
   "metadata": {},
   "outputs": [],
   "source": [
    "#Objects needed for the logistic regression\n",
    "target_df = pd.read_feather(\"target.feather\")\n",
    "\n",
    "bureau_poly = {\"BUREAU_AVG_APP_AGE\":2,\"NUM_CREDIT_TYPE_Microloan\":0.1}\n",
    "\n",
    "high_cor_columns = [\"AVG_DAYS_OVERDUE\", \"AVG_CREDIT_OVERDUE\", \"BUREAU_OLDEST_APP\", \"NUM_BBAL_STATUS_C\",\n",
    "                    \"NUM_CREDIT_ACTIVE_Closed\", \"FRAC_CREDIT_ACTIVE_Closed\", \"FRAC_CREDIT_ACTIVE_Bad debt\"]"
   ]
  },
  {
   "cell_type": "code",
   "execution_count": 18,
   "metadata": {},
   "outputs": [
    {
     "name": "stdout",
     "output_type": "stream",
     "text": [
      "0.6364224722573983\n",
      "0.6355135979205379\n",
      "0.6324627075689933\n",
      "0.6346633885381384\n",
      "0.6398315242554045\n",
      "0.6318025820678381\n",
      "0.635831576925115\n",
      "0.6425513576178586\n",
      "Avg AUC: 0.6361349008939106\n"
     ]
    }
   ],
   "source": [
    "# Make logistic regression predictions\n",
    "test_aucs = []\n",
    "for _ in range(8):\n",
    "    pred, auc = com.log_regress_other_files(com.add_polynomial_terms(bureau_data.reset_index().copy(), bureau_poly),\n",
    "                                            target_df,\n",
    "                                            high_cor_columns)\n",
    "    test_aucs.append(auc)\n",
    "    print(auc)\n",
    "print(\"Avg AUC: \" + str(np.mean(test_aucs)))"
   ]
  },
  {
   "cell_type": "code",
   "execution_count": 19,
   "metadata": {},
   "outputs": [],
   "source": [
    "bureau_data[\"BUREAU_LR_PREDS\"] = pred"
   ]
  },
  {
   "cell_type": "code",
   "execution_count": 20,
   "metadata": {},
   "outputs": [],
   "source": [
    "bureau_data.reset_index().to_feather(\"bureau_sub.feather\")"
   ]
  }
 ],
 "metadata": {
  "kernelspec": {
   "display_name": "Python 3",
   "language": "python",
   "name": "python3"
  },
  "language_info": {
   "codemirror_mode": {
    "name": "ipython",
    "version": 3
   },
   "file_extension": ".py",
   "mimetype": "text/x-python",
   "name": "python",
   "nbconvert_exporter": "python",
   "pygments_lexer": "ipython3",
   "version": "3.6.5"
  }
 },
 "nbformat": 4,
 "nbformat_minor": 2
}
