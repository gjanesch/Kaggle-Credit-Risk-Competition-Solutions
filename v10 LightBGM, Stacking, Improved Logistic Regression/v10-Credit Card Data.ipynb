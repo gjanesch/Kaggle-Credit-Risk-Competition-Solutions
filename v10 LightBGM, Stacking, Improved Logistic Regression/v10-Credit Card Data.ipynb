{
 "cells": [
  {
   "cell_type": "markdown",
   "metadata": {},
   "source": [
    "<h2>This notebook is for processing the data from the <TT>credit_card</TT> supplementary data file.</h2>"
   ]
  },
  {
   "cell_type": "code",
   "execution_count": 16,
   "metadata": {},
   "outputs": [],
   "source": [
    "import v10_common as com\n",
    "\n",
    "import feather\n",
    "import numpy as np\n",
    "import pandas as pd\n",
    "import scipy.stats as sstats"
   ]
  },
  {
   "cell_type": "code",
   "execution_count": 17,
   "metadata": {},
   "outputs": [],
   "source": [
    "# Future improvements:\n",
    "# - check which features are highest importance in full data, then add them to last N months aggregations\n",
    "# - add monthly versions of POS/ATM/other drawing columns"
   ]
  },
  {
   "cell_type": "code",
   "execution_count": 18,
   "metadata": {},
   "outputs": [],
   "source": [
    "CC_FILE = com.DATA_FILE_FOLDER + \"credit_card_balance.feather\""
   ]
  },
  {
   "cell_type": "code",
   "execution_count": 19,
   "metadata": {},
   "outputs": [],
   "source": [
    "cc = pd.read_feather(CC_FILE)"
   ]
  },
  {
   "cell_type": "markdown",
   "metadata": {},
   "source": [
    "<h4> Correcting Apparent Errors </h4>"
   ]
  },
  {
   "cell_type": "code",
   "execution_count": 20,
   "metadata": {},
   "outputs": [],
   "source": [
    "for col in [\"AMT_DRAWINGS_ATM_CURRENT\",\"AMT_DRAWINGS_CURRENT\"]:\n",
    "    cc[col] = cc[col].abs()"
   ]
  },
  {
   "cell_type": "markdown",
   "metadata": {},
   "source": [
    "<h4> Feature Engineering </h4>"
   ]
  },
  {
   "cell_type": "code",
   "execution_count": 21,
   "metadata": {},
   "outputs": [],
   "source": [
    "# Completely new features\n",
    "cc[\"DRAWINGS_TOTAL_PAY_RATIO\"] = cc[\"AMT_DRAWINGS_CURRENT\"] / cc[\"AMT_PAYMENT_TOTAL_CURRENT\"]\n",
    "cc[\"PERCENT_AMT_ATM_DRAWINGS\"] = cc[\"AMT_DRAWINGS_ATM_CURRENT\"] / cc[\"AMT_DRAWINGS_CURRENT\"]\n",
    "cc[\"PERCENT_AMT_POS_DRAWINGS\"] = cc[\"AMT_DRAWINGS_POS_CURRENT\"] / cc[\"AMT_DRAWINGS_CURRENT\"]\n",
    "cc[\"PERCENT_AMT_OTHER_DRAWINGS\"] = cc[\"AMT_DRAWINGS_OTHER_CURRENT\"] / cc[\"AMT_DRAWINGS_CURRENT\"]\n",
    "\n",
    "cc[\"AVG_PER_DRAWING\"] = cc[\"AMT_DRAWINGS_CURRENT\"] / cc[\"CNT_DRAWINGS_CURRENT\"]\n",
    "cc[\"AVG_PER_DRAWING\"].replace([np.inf,-np.inf],0, inplace = True)\n",
    "\n",
    "cc[\"AVG_PER_ATM_DRAWING\"] = cc[\"AMT_DRAWINGS_ATM_CURRENT\"] / cc[\"CNT_DRAWINGS_ATM_CURRENT\"]\n",
    "cc[\"AVG_PER_ATM_DRAWING\"].replace([np.inf,-np.inf],0, inplace = True)"
   ]
  },
  {
   "cell_type": "code",
   "execution_count": 22,
   "metadata": {},
   "outputs": [],
   "source": [
    "cc_gr = cc.groupby(\"SK_ID_CURR\")"
   ]
  },
  {
   "cell_type": "code",
   "execution_count": 23,
   "metadata": {},
   "outputs": [],
   "source": [
    "# possible geometric mean targets\n",
    "cc_sub = cc_gr.agg({\"SK_DPD_DEF\":[lambda x: sum(x != 0),max],\n",
    "                    \"AMT_CREDIT_LIMIT_ACTUAL\":[np.mean,max],\n",
    "                    \"SK_ID_PREV\":lambda x: len(x.unique()),\n",
    "                    \"AMT_BALANCE\":[max,np.mean,np.std],\n",
    "                    \"AMT_PAYMENT_TOTAL_CURRENT\":[max,np.mean,np.std],\n",
    "                    \"CNT_DRAWINGS_CURRENT\":[max,np.mean,sum],\n",
    "                    \"AMT_DRAWINGS_CURRENT\":[min,max,np.mean,sum],\n",
    "                    \"DRAWINGS_TOTAL_PAY_RATIO\":[min,max,np.mean],\n",
    "                    \"AMT_DRAWINGS_ATM_CURRENT\":[np.mean,sum,np.std],\n",
    "                    \"CNT_DRAWINGS_ATM_CURRENT\":[np.mean,sum,np.std],\n",
    "                    \"AMT_DRAWINGS_POS_CURRENT\":[np.mean,sum,np.std],\n",
    "                    \"CNT_DRAWINGS_POS_CURRENT\":[np.mean,sum,np.std],\n",
    "                    \"AMT_DRAWINGS_OTHER_CURRENT\":[np.mean,sum,np.std],\n",
    "                    \"CNT_DRAWINGS_OTHER_CURRENT\":[np.mean,sum,np.std],\n",
    "                    \"MONTHS_BALANCE\":max,\n",
    "                    \"AMT_RECEIVABLE_PRINCIPAL\":[min,sum,max,np.mean],\n",
    "                    \"AMT_RECIVABLE\":[min,sum,max,np.mean],\n",
    "                    \"AMT_TOTAL_RECEIVABLE\":[min,sum,max,np.mean]})\n",
    "\n",
    "cc_sub.columns = [\"NUM_LATE_CC_PAYMENTS\",\"MOST_OVERDUE_CC\",\n",
    "                  \"AVG_CREDIT_LIMIT_ACTUAL\",\"MAX_CREDIT_LIMIT\",\n",
    "                  \"NUM_PREV_CC_LOANS\",\n",
    "                  \"MAX_BALANCE\",\"AVG_CC_BALANCE\",\"AMT_BALANCE_STDEV\",\n",
    "                  \"MAX_PAID_ON_CREDIT\",\"AVG_PAID_ON_CREDIT\",\"AMT_PAID_ON_CREDIT_STDEV\",\n",
    "                  \"MAX_DRAWINGS_IN_MONTH\",\"AVG_DRAWINGS_PER_MONTH\",\"TOTAL_NUM_ALL_DRAWINGS\",\n",
    "                  \"MIN_MONTHLY_DRAWING_AMT\",\"MAX_MONTHLY_DRAWING_AMT\",\"AVG_MONTHLY_DRAWING_AMT\",\"TOTAL_AMT_ALL_DRAWINGS\",\n",
    "                  \"MIN_DRAW_TO_TOTAL_PAY\",\"MAX_DRAW_TO_TOTAL_PAY\",\"AVG_DRAW_TO_TOTAL_PAY\",\n",
    "                  \"AVG_AMT_ATM_DRAWINGS\", \"TOTAL_AMT_ATM_DRAWINGS\", \"STD_AMT_ATM_DRAWINGS\",\n",
    "                  \"AVG_NUM_ATM_DRAWINGS\", \"TOTAL_NUM_ATM_DRAWINGS\", \"STD_NUM_ATM_DRAWINGS\",\n",
    "                  \"AVG_AMT_POS_DRAWINGS\", \"TOTAL_AMT_POS_DRAWINGS\", \"STD_AMT_POS_DRAWINGS\",\n",
    "                  \"AVG_NUM_POS_DRAWINGS\", \"TOTAL_NUM_POS_DRAWINGS\", \"STD_NUM_POS_DRAWINGS\",\n",
    "                  \"AVG_AMT_OTHER_DRAWINGS\",\"TOTAL_AMT_OTHER_DRAWINGS\", \"STD_AMT_OTHER_DRAWINGS\",\n",
    "                  \"AVG_NUM_OTHER_DRAWINGS\",\"TOTAL_NUM_OTHER_DRAWINGS\", \"STD_NUM_OTHER_DRAWINGS\",\n",
    "                  \"MOST_RECENT_CC_MONTH\",\n",
    "                  \"AMT_RECEIVABLE_PRINCIPAL_MIN\",\"AMT_RECEIVABLE_PRINCIPAL_TOTAL\",\"AMT_RECEIVABLE_PRINCIPAL_MAX\",\"AMT_RECEIVABLE_PRINCIPAL_AVG\",\n",
    "                  \"AMT_RECEIVABLE_MIN\", \"AMT_RECEIVABLE_TOTAL\", \"AMT_RECEIVABLE_MAX\", \"AMT_RECEIVABLE_AVG\",\n",
    "                  \"AMT_TOTAL_RECEIVABLE_MIN\", \"AMT_TOTAL_RECEIVABLE_TOTAL\", \"AMT_TOTAL_RECEIVABLE_MAX\", \"AMT_TOTAL_RECEIVABLE_AVG\"]\n",
    "\n",
    "cc_sub[\"OVERALL_AVG_ALL_DRAWING_AMT\"] = cc_sub[\"TOTAL_AMT_ALL_DRAWINGS\"] / cc_sub[\"TOTAL_NUM_ALL_DRAWINGS\"]\n",
    "cc_sub[\"OVERALL_AVG_ATM_DRAWING_AMT\"] = cc_sub[\"TOTAL_AMT_ATM_DRAWINGS\"] / cc_sub[\"TOTAL_NUM_ATM_DRAWINGS\"]\n",
    "\n",
    "cc_sub[\"OVERALL_PERCENT_AMT_ATM_DRAWINGS\"] = cc_sub[\"TOTAL_AMT_ATM_DRAWINGS\"] / cc_sub[\"TOTAL_AMT_ALL_DRAWINGS\"]\n",
    "cc_sub[\"OVERALL_PERCENT_AMT_POS_DRAWINGS\"] = cc_sub[\"TOTAL_AMT_POS_DRAWINGS\"] / cc_sub[\"TOTAL_AMT_ALL_DRAWINGS\"]\n",
    "cc_sub[\"OVERALL_PERCENT_AMT_OTHER_DRAWINGS\"] = cc_sub[\"TOTAL_AMT_OTHER_DRAWINGS\"] / cc_sub[\"TOTAL_AMT_ALL_DRAWINGS\"]"
   ]
  },
  {
   "cell_type": "code",
   "execution_count": 24,
   "metadata": {},
   "outputs": [
    {
     "name": "stdout",
     "output_type": "stream",
     "text": [
      "1 months complete.\n",
      "6 months complete.\n",
      "12 months complete.\n",
      "24 months complete.\n"
     ]
    }
   ],
   "source": [
    "# add data for last N months\n",
    "cc_n_months = []\n",
    "for month in [1,6,12,24]:\n",
    "    cc_recent = cc[cc[\"MONTHS_BALANCE\"] >= -month]\n",
    "    cc_recent_gr = cc_recent.groupby(\"SK_ID_CURR\")\n",
    "    cc_recent_sub = cc_recent_gr.agg({\"SK_DPD_DEF\":lambda x: sum(x != 0),\n",
    "                                      \"AMT_PAYMENT_TOTAL_CURRENT\":np.mean,\n",
    "                                      \"AMT_BALANCE\":[np.std,np.mean],\n",
    "                                      \"CNT_DRAWINGS_CURRENT\":sum,\n",
    "                                      \"AMT_DRAWINGS_CURRENT\":sum})\n",
    "\n",
    "    cc_recent_sub.columns = [f\"NUM_LATE_CC_PAYMENTS_{month}_MONTHS\",\n",
    "                             f\"AVG_PAID_ON_CREDIT_{month}_MONTHS\",\n",
    "                             f\"AMT_BALANCE_STD_{month}_MONTHS\",\n",
    "                             f\"AVG_BALANCE_{month}_MONTHS\",\n",
    "                             f\"NUM_DRAWINGS_{month}_MONTHS\",\n",
    "                             f\"AMT_DRAWINGS_{month}_MONTHS\"]\n",
    "    \n",
    "    cc_recent_sub[f\"AVG_AMT_PER_DRAWING_{month}_MONTHS\"] = cc_recent_sub[f\"AMT_DRAWINGS_{month}_MONTHS\"] / cc_recent_sub[f\"NUM_DRAWINGS_{month}_MONTHS\"]\n",
    "\n",
    "    cc_n_months.append(cc_recent_sub)\n",
    "    print(f\"{month} months complete.\")\n",
    "\n",
    "cc_recent_data = pd.DataFrame(index = cc_sub.index).join(cc_n_months, how = \"left\")"
   ]
  },
  {
   "cell_type": "code",
   "execution_count": 25,
   "metadata": {},
   "outputs": [],
   "source": [
    "cc_data = pd.concat([cc_sub, cc_recent_data], axis = 1)"
   ]
  },
  {
   "cell_type": "markdown",
   "metadata": {},
   "source": [
    "<h4> Logistic regression predictions.  Several columns are stripped out due to multicollinearity issues (the threshold point for this is a correlation of greater than 0.75 between two variables).  A few other columns are transformed so that they have higher correlations with the TARGET variable (which seems to help the models along); since the ranking order of the points stays the same in these circumstances, the gradient boosting shouldn't be particularly affected. </h4>\n",
    "\n",
    "<h4> LAST AUC VALUE: 0.6676 </h4>"
   ]
  },
  {
   "cell_type": "markdown",
   "metadata": {},
   "source": [
    "High Correlation Pairs:\n",
    "    \n",
    "NOT CHECKED YET"
   ]
  },
  {
   "cell_type": "code",
   "execution_count": 26,
   "metadata": {},
   "outputs": [],
   "source": [
    "# Load objects needed for logistic regression\n",
    "target_df = pd.read_feather(\"target.feather\")\n",
    "\n",
    "cc_poly = {\"AVG_DRAWINGS_PER_MONTH\":0.5,\"TOTAL_AMT_ALL_DRAWINGS\":0.1,\"TOTAL_AMT_ATM_DRAWINGS\":0.1,\n",
    "           \"TOTAL_NUM_ATM_DRAWINGS\":0.1,\"AVG_MONTHLY_DRAWING_AMT\":0.3,\"NUM_DRAWINGS_12_MONTHS\":0.2,\n",
    "           \"NUM_DRAWINGS_24_MONTHS\":0.2}\n",
    "\n",
    "high_cor_columns = []"
   ]
  },
  {
   "cell_type": "code",
   "execution_count": 27,
   "metadata": {},
   "outputs": [
    {
     "name": "stdout",
     "output_type": "stream",
     "text": [
      "0.6633906960057725\n",
      "0.6645702654659691\n",
      "0.669772328068106\n",
      "0.672654807992719\n",
      "0.667683189620813\n",
      "0.671168647775882\n",
      "0.6657614754393216\n",
      "0.6659611375850988\n",
      "Avg AUC: 0.6676203184942103\n"
     ]
    }
   ],
   "source": [
    "# Make logistic regression predictions\n",
    "test_aucs = []\n",
    "for _ in range(8):\n",
    "    pred, auc = com.log_regress_other_files(com.add_polynomial_terms(cc_data.reset_index().copy(), cc_poly),\n",
    "                                            target_df,\n",
    "                                            high_cor_columns)\n",
    "    test_aucs.append(auc)\n",
    "    print(auc)\n",
    "print(\"Avg AUC: \" + str(np.mean(test_aucs)))"
   ]
  },
  {
   "cell_type": "code",
   "execution_count": 28,
   "metadata": {},
   "outputs": [],
   "source": [
    "cc_data[\"CC_LR_PREDS\"] = pred"
   ]
  },
  {
   "cell_type": "code",
   "execution_count": 29,
   "metadata": {
    "scrolled": true
   },
   "outputs": [],
   "source": [
    "cc_data.reset_index().to_feather(\"credit_card_sub.feather\")"
   ]
  }
 ],
 "metadata": {
  "kernelspec": {
   "display_name": "Python 3",
   "language": "python",
   "name": "python3"
  },
  "language_info": {
   "codemirror_mode": {
    "name": "ipython",
    "version": 3
   },
   "file_extension": ".py",
   "mimetype": "text/x-python",
   "name": "python",
   "nbconvert_exporter": "python",
   "pygments_lexer": "ipython3",
   "version": "3.6.5"
  }
 },
 "nbformat": 4,
 "nbformat_minor": 2
}
