{
 "cells": [
  {
   "cell_type": "code",
   "execution_count": 8,
   "metadata": {},
   "outputs": [],
   "source": [
    "import numpy as np\n",
    "import pandas as pd\n",
    "import feather\n",
    "#import lightgbm as lgb\n",
    "from lightgbm import LGBMClassifier\n",
    "from bayes_opt import BayesianOptimization\n",
    "from sklearn.model_selection import KFold"
   ]
  },
  {
   "cell_type": "code",
   "execution_count": 9,
   "metadata": {},
   "outputs": [],
   "source": [
    "def constrain_to_range(x,upper_lim,lower_lim):\n",
    "    return min(max(x, lower_lim),upper_lim)"
   ]
  },
  {
   "cell_type": "code",
   "execution_count": 14,
   "metadata": {},
   "outputs": [],
   "source": [
    "#def create_lgbm_function(static_parameters, optimize_vars):\n",
    "\n",
    "def lgbm_evaluate(num_leaves, colsample_by_tree, subsample, max_depth, reg_alpha, reg_lambda, min_split_gain, min_child_weight):\n",
    "    \n",
    "    train = pd.read_feather(\"./../Solution attempts/v07 train data.feather\")\n",
    "    target = pd.read_feather(\"./../Solution attempts/v07 target.feather\")\n",
    "    \n",
    "    params = {\"bagging_fraction\":0.5}\n",
    "    params[\"n_estimators\"] = 4000#int(n_estimators)\n",
    "    params[\"learning_rate\"] = 0.05\n",
    "    params[\"num_leaves\"] = int(num_leaves)\n",
    "    params[\"colsample_by_tree\"] = constrain_to_range(colsample_by_tree,0,1)\n",
    "    params[\"subsample\"] = constrain_to_range(subsample,0,1)\n",
    "    params[\"max_depth\"] = int(max_depth)\n",
    "    params[\"reg_alpha\"] = max(reg_alpha,0)\n",
    "    params[\"reg_lambda\"] = max(reg_lambda,0)\n",
    "    params[\"min_split_gain\"] = min_split_gain\n",
    "    params[\"min_child_weight\"] = min_child_weight\n",
    "    \n",
    "    folds = KFold(n_splits = 6, shuffle = True)\n",
    "    auc_scores = []\n",
    "    \n",
    "    for _, (train_ids, val_ids) in enumerate(folds.split(train)):\n",
    "        train_train = train.iloc[train_ids]\n",
    "        train_test = train.iloc[val_ids]\n",
    "        target_train = np.ravel(target.iloc[train_ids][[\"TARGET\"]])\n",
    "        target_test = np.ravel(target.iloc[val_ids][[\"TARGET\"]])\n",
    "        \n",
    "        clf = LGBMClassifier(**params)\n",
    "        clf.fit(train_train, target_train, eval_set = [(train_train, target_train), (train_test, target_test)],\n",
    "                eval_metric = \"auc\", early_stopping_rounds = 50, verbose = 0)\n",
    "        \n",
    "        auc_scores.append(clf._best_score[\"valid_1\"][\"auc\"])\n",
    "    \n",
    "    return(np.mean(auc_scores))"
   ]
  },
  {
   "cell_type": "code",
   "execution_count": 7,
   "metadata": {},
   "outputs": [],
   "source": [
    "x = 54\n",
    "func_as_string = f\"\"\"def test_func(y):\n",
    "    return y + {x}\"\"\"\n",
    "?eval"
   ]
  },
  {
   "cell_type": "code",
   "execution_count": null,
   "metadata": {},
   "outputs": [],
   "source": []
  },
  {
   "cell_type": "code",
   "execution_count": 15,
   "metadata": {},
   "outputs": [
    {
     "name": "stdout",
     "output_type": "stream",
     "text": [
      "\u001b[31mInitialization\u001b[0m\n",
      "\u001b[94m-------------------------------------------------------------------------------------------------------------------------------------------------------------------\u001b[0m\n",
      " Step |   Time |      Value |   colsample_by_tree |   max_depth |   min_child_weight |   min_split_gain |   num_leaves |   reg_alpha |   reg_lambda |   subsample | \n",
      "    1 | 01m57s | \u001b[35m   0.77235\u001b[0m | \u001b[32m             0.7469\u001b[0m | \u001b[32m     9.4141\u001b[0m | \u001b[32m            2.0000\u001b[0m | \u001b[32m          0.1000\u001b[0m | \u001b[32m     29.4355\u001b[0m | \u001b[32m     0.1703\u001b[0m | \u001b[32m      0.0542\u001b[0m | \u001b[32m     0.7742\u001b[0m | \n",
      "    2 | 02m03s | \u001b[35m   0.77349\u001b[0m | \u001b[32m             0.6054\u001b[0m | \u001b[32m     6.9346\u001b[0m | \u001b[32m            2.0000\u001b[0m | \u001b[32m          0.1000\u001b[0m | \u001b[32m     21.8605\u001b[0m | \u001b[32m     0.0696\u001b[0m | \u001b[32m      0.0646\u001b[0m | \u001b[32m     0.7361\u001b[0m | \n",
      "    3 | 01m45s |    0.77226 |              0.8019 |      9.7759 |             2.0000 |           0.1000 |      22.2292 |      0.0302 |       0.1586 |      0.7928 | \n",
      "    4 | 02m24s |    0.77327 |              0.8277 |      4.5847 |             2.0000 |           0.1000 |      27.1941 |      0.0634 |       0.0768 |      0.7819 | \n",
      "    5 | 01m51s |    0.77282 |              0.7922 |      6.1317 |             2.0000 |           0.1000 |      28.3880 |      0.0506 |       0.0979 |      0.7633 | \n"
     ]
    },
    {
     "name": "stderr",
     "output_type": "stream",
     "text": [
      "/home/greg/.local/lib/python3.6/site-packages/sklearn/gaussian_process/gpr.py:457: UserWarning: fmin_l_bfgs_b terminated abnormally with the  state: {'grad': array([1.56590481e-05]), 'task': b'ABNORMAL_TERMINATION_IN_LNSRCH', 'funcalls': 56, 'nit': 5, 'warnflag': 2}\n",
      "  \" state: %s\" % convergence_dict)\n",
      "/home/greg/.local/lib/python3.6/site-packages/sklearn/gaussian_process/gpr.py:335: UserWarning: Predicted variances smaller than 0. Setting those variances to 0.\n",
      "  warnings.warn(\"Predicted variances smaller than 0. \"\n"
     ]
    },
    {
     "name": "stdout",
     "output_type": "stream",
     "text": [
      "\u001b[31mBayesian Optimization\u001b[0m\n",
      "\u001b[94m-------------------------------------------------------------------------------------------------------------------------------------------------------------------\u001b[0m\n",
      " Step |   Time |      Value |   colsample_by_tree |   max_depth |   min_child_weight |   min_split_gain |   num_leaves |   reg_alpha |   reg_lambda |   subsample | \n",
      "    6 | 02m34s | \u001b[35m   0.77394\u001b[0m | \u001b[32m             0.6146\u001b[0m | \u001b[32m     4.0967\u001b[0m | \u001b[32m            2.0000\u001b[0m | \u001b[32m          0.1000\u001b[0m | \u001b[32m     20.5337\u001b[0m | \u001b[32m     0.1940\u001b[0m | \u001b[32m      0.1862\u001b[0m | \u001b[32m     0.9265\u001b[0m | \n"
     ]
    },
    {
     "name": "stderr",
     "output_type": "stream",
     "text": [
      "/home/greg/.local/lib/python3.6/site-packages/sklearn/gaussian_process/gpr.py:335: UserWarning: Predicted variances smaller than 0. Setting those variances to 0.\n",
      "  warnings.warn(\"Predicted variances smaller than 0. \"\n"
     ]
    },
    {
     "name": "stdout",
     "output_type": "stream",
     "text": [
      "    7 | 02m27s |    0.77332 |              0.6122 |      4.1087 |             2.0000 |           0.1000 |      20.1297 |      0.0415 |       0.0332 |      0.9439 | \n"
     ]
    },
    {
     "name": "stderr",
     "output_type": "stream",
     "text": [
      "/home/greg/.local/lib/python3.6/site-packages/sklearn/gaussian_process/gpr.py:335: UserWarning: Predicted variances smaller than 0. Setting those variances to 0.\n",
      "  warnings.warn(\"Predicted variances smaller than 0. \"\n"
     ]
    },
    {
     "name": "stdout",
     "output_type": "stream",
     "text": [
      "    8 | 02m33s |    0.77325 |              0.8821 |      4.0927 |             2.0000 |           0.1000 |      20.3400 |      0.1941 |       0.1614 |      0.7067 | \n"
     ]
    },
    {
     "name": "stderr",
     "output_type": "stream",
     "text": [
      "/home/greg/.local/lib/python3.6/site-packages/sklearn/gaussian_process/gpr.py:335: UserWarning: Predicted variances smaller than 0. Setting those variances to 0.\n",
      "  warnings.warn(\"Predicted variances smaller than 0. \"\n"
     ]
    },
    {
     "name": "stdout",
     "output_type": "stream",
     "text": [
      "    9 | 02m47s |    0.77358 |              0.6028 |      4.0783 |             2.0000 |           0.1000 |      29.7646 |      0.1745 |       0.1029 |      0.7025 | \n"
     ]
    },
    {
     "name": "stderr",
     "output_type": "stream",
     "text": [
      "/home/greg/.local/lib/python3.6/site-packages/sklearn/gaussian_process/gpr.py:335: UserWarning: Predicted variances smaller than 0. Setting those variances to 0.\n",
      "  warnings.warn(\"Predicted variances smaller than 0. \"\n"
     ]
    },
    {
     "name": "stdout",
     "output_type": "stream",
     "text": [
      "   10 | 02m28s |    0.77308 |              0.6058 |      4.2758 |             2.0000 |           0.1000 |      24.4380 |      0.1614 |       0.1845 |      0.7394 | \n"
     ]
    },
    {
     "name": "stderr",
     "output_type": "stream",
     "text": [
      "/home/greg/.local/lib/python3.6/site-packages/sklearn/gaussian_process/gpr.py:457: UserWarning: fmin_l_bfgs_b terminated abnormally with the  state: {'grad': array([-0.00022773]), 'task': b'ABNORMAL_TERMINATION_IN_LNSRCH', 'funcalls': 55, 'nit': 7, 'warnflag': 2}\n",
      "  \" state: %s\" % convergence_dict)\n",
      "/home/greg/.local/lib/python3.6/site-packages/sklearn/gaussian_process/gpr.py:335: UserWarning: Predicted variances smaller than 0. Setting those variances to 0.\n",
      "  warnings.warn(\"Predicted variances smaller than 0. \"\n"
     ]
    },
    {
     "name": "stdout",
     "output_type": "stream",
     "text": [
      "   11 | 02m15s |    0.77282 |              0.8891 |      8.8392 |             2.0000 |           0.1000 |      20.2763 |      0.1890 |       0.0187 |      0.9480 | \n"
     ]
    },
    {
     "name": "stderr",
     "output_type": "stream",
     "text": [
      "/home/greg/.local/lib/python3.6/site-packages/sklearn/gaussian_process/gpr.py:457: UserWarning: fmin_l_bfgs_b terminated abnormally with the  state: {'grad': array([-1.50146661e-05]), 'task': b'ABNORMAL_TERMINATION_IN_LNSRCH', 'funcalls': 50, 'nit': 5, 'warnflag': 2}\n",
      "  \" state: %s\" % convergence_dict)\n",
      "/home/greg/.local/lib/python3.6/site-packages/sklearn/gaussian_process/gpr.py:457: UserWarning: fmin_l_bfgs_b terminated abnormally with the  state: {'grad': array([0.00016577]), 'task': b'ABNORMAL_TERMINATION_IN_LNSRCH', 'funcalls': 55, 'nit': 5, 'warnflag': 2}\n",
      "  \" state: %s\" % convergence_dict)\n",
      "/home/greg/.local/lib/python3.6/site-packages/sklearn/gaussian_process/gpr.py:335: UserWarning: Predicted variances smaller than 0. Setting those variances to 0.\n",
      "  warnings.warn(\"Predicted variances smaller than 0. \"\n"
     ]
    },
    {
     "name": "stdout",
     "output_type": "stream",
     "text": [
      "   12 | 02m35s |    0.77320 |              0.8943 |      4.1739 |             2.0000 |           0.1000 |      29.9685 |      0.0232 |       0.1632 |      0.9121 | \n"
     ]
    },
    {
     "name": "stderr",
     "output_type": "stream",
     "text": [
      "/home/greg/.local/lib/python3.6/site-packages/sklearn/gaussian_process/gpr.py:335: UserWarning: Predicted variances smaller than 0. Setting those variances to 0.\n",
      "  warnings.warn(\"Predicted variances smaller than 0. \"\n"
     ]
    },
    {
     "name": "stdout",
     "output_type": "stream",
     "text": [
      "   13 | 02m05s |    0.77203 |              0.7623 |      8.2675 |             2.0000 |           0.1000 |      24.9696 |      0.1900 |       0.0216 |      0.9402 | \n"
     ]
    },
    {
     "name": "stderr",
     "output_type": "stream",
     "text": [
      "/home/greg/.local/lib/python3.6/site-packages/sklearn/gaussian_process/gpr.py:457: UserWarning: fmin_l_bfgs_b terminated abnormally with the  state: {'grad': array([0.00039602]), 'task': b'ABNORMAL_TERMINATION_IN_LNSRCH', 'funcalls': 61, 'nit': 7, 'warnflag': 2}\n",
      "  \" state: %s\" % convergence_dict)\n",
      "/home/greg/.local/lib/python3.6/site-packages/sklearn/gaussian_process/gpr.py:335: UserWarning: Predicted variances smaller than 0. Setting those variances to 0.\n",
      "  warnings.warn(\"Predicted variances smaller than 0. \"\n"
     ]
    },
    {
     "name": "stdout",
     "output_type": "stream",
     "text": [
      "   14 | 02m04s |    0.77263 |              0.6015 |      8.3668 |             2.0000 |           0.1000 |      20.0786 |      0.1623 |       0.1464 |      0.7182 | \n"
     ]
    },
    {
     "name": "stderr",
     "output_type": "stream",
     "text": [
      "/home/greg/.local/lib/python3.6/site-packages/sklearn/gaussian_process/gpr.py:457: UserWarning: fmin_l_bfgs_b terminated abnormally with the  state: {'grad': array([0.00047473]), 'task': b'ABNORMAL_TERMINATION_IN_LNSRCH', 'funcalls': 56, 'nit': 6, 'warnflag': 2}\n",
      "  \" state: %s\" % convergence_dict)\n"
     ]
    },
    {
     "name": "stdout",
     "output_type": "stream",
     "text": [
      "   15 | 02m40s |    0.77327 |              0.8876 |      5.9703 |             2.0000 |           0.1000 |      20.2726 |      0.0272 |       0.1922 |      0.9220 | \n"
     ]
    },
    {
     "name": "stderr",
     "output_type": "stream",
     "text": [
      "/home/greg/.local/lib/python3.6/site-packages/sklearn/gaussian_process/gpr.py:457: UserWarning: fmin_l_bfgs_b terminated abnormally with the  state: {'grad': array([-0.00020215]), 'task': b'ABNORMAL_TERMINATION_IN_LNSRCH', 'funcalls': 51, 'nit': 4, 'warnflag': 2}\n",
      "  \" state: %s\" % convergence_dict)\n",
      "/home/greg/.local/lib/python3.6/site-packages/sklearn/gaussian_process/gpr.py:457: UserWarning: fmin_l_bfgs_b terminated abnormally with the  state: {'grad': array([-4.48073079e-05]), 'task': b'ABNORMAL_TERMINATION_IN_LNSRCH', 'funcalls': 57, 'nit': 7, 'warnflag': 2}\n",
      "  \" state: %s\" % convergence_dict)\n",
      "/home/greg/.local/lib/python3.6/site-packages/sklearn/gaussian_process/gpr.py:335: UserWarning: Predicted variances smaller than 0. Setting those variances to 0.\n",
      "  warnings.warn(\"Predicted variances smaller than 0. \"\n"
     ]
    },
    {
     "name": "stdout",
     "output_type": "stream",
     "text": [
      "   16 | 02m10s |    0.77317 |              0.8922 |      5.5113 |             2.0000 |           0.1000 |      29.7861 |      0.1482 |       0.0134 |      0.7053 | \n"
     ]
    },
    {
     "name": "stderr",
     "output_type": "stream",
     "text": [
      "/home/greg/.local/lib/python3.6/site-packages/sklearn/gaussian_process/gpr.py:457: UserWarning: fmin_l_bfgs_b terminated abnormally with the  state: {'grad': array([1.92698544e-05]), 'task': b'ABNORMAL_TERMINATION_IN_LNSRCH', 'funcalls': 51, 'nit': 6, 'warnflag': 2}\n",
      "  \" state: %s\" % convergence_dict)\n",
      "/home/greg/.local/lib/python3.6/site-packages/sklearn/gaussian_process/gpr.py:335: UserWarning: Predicted variances smaller than 0. Setting those variances to 0.\n",
      "  warnings.warn(\"Predicted variances smaller than 0. \"\n"
     ]
    },
    {
     "name": "stdout",
     "output_type": "stream",
     "text": [
      "   17 | 02m48s |    0.77386 |              0.6235 |      4.1079 |             2.0000 |           0.1000 |      28.6266 |      0.1116 |       0.0199 |      0.9459 | \n"
     ]
    },
    {
     "name": "stderr",
     "output_type": "stream",
     "text": [
      "/home/greg/.local/lib/python3.6/site-packages/sklearn/gaussian_process/gpr.py:457: UserWarning: fmin_l_bfgs_b terminated abnormally with the  state: {'grad': array([9.57470911e-05]), 'task': b'ABNORMAL_TERMINATION_IN_LNSRCH', 'funcalls': 55, 'nit': 7, 'warnflag': 2}\n",
      "  \" state: %s\" % convergence_dict)\n",
      "/home/greg/.local/lib/python3.6/site-packages/sklearn/gaussian_process/gpr.py:335: UserWarning: Predicted variances smaller than 0. Setting those variances to 0.\n",
      "  warnings.warn(\"Predicted variances smaller than 0. \"\n"
     ]
    },
    {
     "name": "stdout",
     "output_type": "stream",
     "text": [
      "   18 | 02m41s |    0.77317 |              0.8565 |      4.8554 |             2.0000 |           0.1000 |      21.9608 |      0.1949 |       0.0315 |      0.9422 | \n"
     ]
    },
    {
     "name": "stderr",
     "output_type": "stream",
     "text": [
      "/home/greg/.local/lib/python3.6/site-packages/sklearn/gaussian_process/gpr.py:335: UserWarning: Predicted variances smaller than 0. Setting those variances to 0.\n",
      "  warnings.warn(\"Predicted variances smaller than 0. \"\n"
     ]
    },
    {
     "name": "stdout",
     "output_type": "stream",
     "text": [
      "   19 | 02m45s |    0.77321 |              0.6760 |      4.0455 |             2.0000 |           0.1000 |      29.2930 |      0.0230 |       0.0132 |      0.7238 | \n"
     ]
    },
    {
     "name": "stderr",
     "output_type": "stream",
     "text": [
      "/home/greg/.local/lib/python3.6/site-packages/sklearn/gaussian_process/gpr.py:457: UserWarning: fmin_l_bfgs_b terminated abnormally with the  state: {'grad': array([-2.75699422e-05]), 'task': b'ABNORMAL_TERMINATION_IN_LNSRCH', 'funcalls': 48, 'nit': 3, 'warnflag': 2}\n",
      "  \" state: %s\" % convergence_dict)\n",
      "/home/greg/.local/lib/python3.6/site-packages/sklearn/gaussian_process/gpr.py:335: UserWarning: Predicted variances smaller than 0. Setting those variances to 0.\n",
      "  warnings.warn(\"Predicted variances smaller than 0. \"\n"
     ]
    },
    {
     "name": "stdout",
     "output_type": "stream",
     "text": [
      "   20 | 02m36s |    0.77348 |              0.8685 |      4.0377 |             2.0000 |           0.1000 |      28.9407 |      0.2000 |       0.1753 |      0.7214 | \n"
     ]
    },
    {
     "name": "stderr",
     "output_type": "stream",
     "text": [
      "/home/greg/.local/lib/python3.6/site-packages/sklearn/gaussian_process/gpr.py:457: UserWarning: fmin_l_bfgs_b terminated abnormally with the  state: {'grad': array([-0.00047557]), 'task': b'ABNORMAL_TERMINATION_IN_LNSRCH', 'funcalls': 50, 'nit': 5, 'warnflag': 2}\n",
      "  \" state: %s\" % convergence_dict)\n",
      "/home/greg/.local/lib/python3.6/site-packages/sklearn/gaussian_process/gpr.py:457: UserWarning: fmin_l_bfgs_b terminated abnormally with the  state: {'grad': array([0.00105209]), 'task': b'ABNORMAL_TERMINATION_IN_LNSRCH', 'funcalls': 58, 'nit': 6, 'warnflag': 2}\n",
      "  \" state: %s\" % convergence_dict)\n",
      "/home/greg/.local/lib/python3.6/site-packages/sklearn/gaussian_process/gpr.py:335: UserWarning: Predicted variances smaller than 0. Setting those variances to 0.\n",
      "  warnings.warn(\"Predicted variances smaller than 0. \"\n"
     ]
    },
    {
     "name": "stdout",
     "output_type": "stream",
     "text": [
      "   21 | 02m30s |    0.77238 |              0.6544 |      6.6179 |             2.0000 |           0.1000 |      29.9510 |      0.1650 |       0.1792 |      0.9283 | \n"
     ]
    },
    {
     "name": "stderr",
     "output_type": "stream",
     "text": [
      "/home/greg/.local/lib/python3.6/site-packages/sklearn/gaussian_process/gpr.py:457: UserWarning: fmin_l_bfgs_b terminated abnormally with the  state: {'grad': array([-2.96192011e-05]), 'task': b'ABNORMAL_TERMINATION_IN_LNSRCH', 'funcalls': 58, 'nit': 8, 'warnflag': 2}\n",
      "  \" state: %s\" % convergence_dict)\n",
      "/home/greg/.local/lib/python3.6/site-packages/sklearn/gaussian_process/gpr.py:335: UserWarning: Predicted variances smaller than 0. Setting those variances to 0.\n",
      "  warnings.warn(\"Predicted variances smaller than 0. \"\n"
     ]
    },
    {
     "name": "stdout",
     "output_type": "stream",
     "text": [
      "   22 | 02m27s |    0.77313 |              0.6096 |      5.2747 |             2.0000 |           0.1000 |      20.1950 |      0.1844 |       0.1029 |      0.7030 | \n"
     ]
    },
    {
     "name": "stderr",
     "output_type": "stream",
     "text": [
      "/home/greg/.local/lib/python3.6/site-packages/sklearn/gaussian_process/gpr.py:457: UserWarning: fmin_l_bfgs_b terminated abnormally with the  state: {'grad': array([0.0005553]), 'task': b'ABNORMAL_TERMINATION_IN_LNSRCH', 'funcalls': 55, 'nit': 5, 'warnflag': 2}\n",
      "  \" state: %s\" % convergence_dict)\n",
      "/home/greg/.local/lib/python3.6/site-packages/sklearn/gaussian_process/gpr.py:335: UserWarning: Predicted variances smaller than 0. Setting those variances to 0.\n",
      "  warnings.warn(\"Predicted variances smaller than 0. \"\n"
     ]
    },
    {
     "name": "stdout",
     "output_type": "stream",
     "text": [
      "   23 | 03m17s |    0.77254 |              0.8854 |      8.0129 |             2.0000 |           0.1000 |      21.3246 |      0.1894 |       0.1724 |      0.7063 | \n"
     ]
    },
    {
     "name": "stderr",
     "output_type": "stream",
     "text": [
      "/home/greg/.local/lib/python3.6/site-packages/sklearn/gaussian_process/gpr.py:457: UserWarning: fmin_l_bfgs_b terminated abnormally with the  state: {'grad': array([-0.00023324]), 'task': b'ABNORMAL_TERMINATION_IN_LNSRCH', 'funcalls': 57, 'nit': 7, 'warnflag': 2}\n",
      "  \" state: %s\" % convergence_dict)\n",
      "/home/greg/.local/lib/python3.6/site-packages/sklearn/gaussian_process/gpr.py:335: UserWarning: Predicted variances smaller than 0. Setting those variances to 0.\n",
      "  warnings.warn(\"Predicted variances smaller than 0. \"\n"
     ]
    },
    {
     "name": "stdout",
     "output_type": "stream",
     "text": [
      "   24 | 05m36s |    0.77229 |              0.8046 |      9.9386 |             2.0000 |           0.1000 |      20.0514 |      0.0176 |       0.0167 |      0.7515 | \n"
     ]
    },
    {
     "name": "stderr",
     "output_type": "stream",
     "text": [
      "/home/greg/.local/lib/python3.6/site-packages/sklearn/gaussian_process/gpr.py:335: UserWarning: Predicted variances smaller than 0. Setting those variances to 0.\n",
      "  warnings.warn(\"Predicted variances smaller than 0. \"\n"
     ]
    },
    {
     "name": "stdout",
     "output_type": "stream",
     "text": [
      "   25 | 03m49s | \u001b[35m   0.77403\u001b[0m | \u001b[32m             0.8071\u001b[0m | \u001b[32m     4.0014\u001b[0m | \u001b[32m            2.0000\u001b[0m | \u001b[32m          0.1000\u001b[0m | \u001b[32m     29.9446\u001b[0m | \u001b[32m     0.1536\u001b[0m | \u001b[32m      0.0190\u001b[0m | \u001b[32m     0.9481\u001b[0m | \n"
     ]
    },
    {
     "name": "stderr",
     "output_type": "stream",
     "text": [
      "/home/greg/.local/lib/python3.6/site-packages/sklearn/gaussian_process/gpr.py:335: UserWarning: Predicted variances smaller than 0. Setting those variances to 0.\n",
      "  warnings.warn(\"Predicted variances smaller than 0. \"\n"
     ]
    }
   ],
   "source": [
    "lgbm_parameter_ranges = {\"num_leaves\":(20,30),\n",
    "                         \"colsample_by_tree\":(0.6,0.9),\n",
    "                         \"subsample\":(0.7,0.95),\n",
    "                         \"max_depth\":(4,10),\n",
    "                         \"reg_alpha\":(0.01,0.2),\n",
    "                         \"reg_lambda\":(0.01,0.2),\n",
    "                         \"min_split_gain\":(0.1,0.1),\n",
    "                         \"min_child_weight\":(2,2)}\n",
    "\n",
    "xgb_BO = BayesianOptimization(lgbm_evaluate, lgbm_parameter_ranges)\n",
    "xgb_BO.maximize(init_points = 10, n_iter = 25)"
   ]
  },
  {
   "cell_type": "code",
   "execution_count": 18,
   "metadata": {},
   "outputs": [
    {
     "data": {
      "text/plain": [
       "{'_acqkw': {'n_iter': 250, 'n_warmup': 100000},\n",
       " 'gp': GaussianProcessRegressor(alpha=1e-10, copy_X_train=True,\n",
       "              kernel=Matern(length_scale=1, nu=2.5),\n",
       "              n_restarts_optimizer=25, normalize_y=False,\n",
       "              optimizer='fmin_l_bfgs_b',\n",
       "              random_state=<mtrand.RandomState object at 0x7efd56b100d8>),\n",
       " 'i': 20,\n",
       " 'init_points': [array([29.43546615,  0.74687803,  0.77416114,  9.41414366,  0.17034076,\n",
       "          0.05420865,  0.1       ,  2.        ]),\n",
       "  array([21.86049638,  0.6054212 ,  0.73610302,  6.93456483,  0.06964915,\n",
       "          0.06458417,  0.1       ,  2.        ]),\n",
       "  array([22.2292204 ,  0.80194088,  0.79282062,  9.77594514,  0.03018998,\n",
       "          0.15859723,  0.1       ,  2.        ]),\n",
       "  array([27.19413811,  0.82771565,  0.78192196,  4.58468582,  0.06338625,\n",
       "          0.0768028 ,  0.1       ,  2.        ]),\n",
       "  array([28.38799525,  0.79220296,  0.76334472,  6.13168599,  0.05064306,\n",
       "          0.09787208,  0.1       ,  2.        ])],\n",
       " 'initialized': True,\n",
       " 'pbounds': {'colsample_by_tree': (0.6, 0.9),\n",
       "  'max_depth': (4, 10),\n",
       "  'min_child_weight': (2, 2),\n",
       "  'min_split_gain': (0.1, 0.1),\n",
       "  'num_leaves': (20, 30),\n",
       "  'reg_alpha': (0.01, 0.2),\n",
       "  'reg_lambda': (0.01, 0.2),\n",
       "  'subsample': (0.7, 0.95)},\n",
       " 'plog': <bayes_opt.helpers.PrintLog at 0x7efd56b22898>,\n",
       " 'random_state': <mtrand.RandomState at 0x7efd56b100d8>,\n",
       " 'res': {'all': {'params': [{'colsample_by_tree': 0.6145997937626797,\n",
       "     'max_depth': 4.096696893119839,\n",
       "     'min_child_weight': 2.0,\n",
       "     'min_split_gain': 0.1,\n",
       "     'num_leaves': 20.533674188476915,\n",
       "     'reg_alpha': 0.1940289632436529,\n",
       "     'reg_lambda': 0.18615703653785315,\n",
       "     'subsample': 0.9265070648700846},\n",
       "    {'colsample_by_tree': 0.612244831165342,\n",
       "     'max_depth': 4.108725972999365,\n",
       "     'min_child_weight': 2.0,\n",
       "     'min_split_gain': 0.1,\n",
       "     'num_leaves': 20.12972559285356,\n",
       "     'reg_alpha': 0.04146464308421434,\n",
       "     'reg_lambda': 0.03321183833319248,\n",
       "     'subsample': 0.9438690811467283},\n",
       "    {'colsample_by_tree': 0.8821028605249177,\n",
       "     'max_depth': 4.092736813402846,\n",
       "     'min_child_weight': 2.0,\n",
       "     'min_split_gain': 0.1,\n",
       "     'num_leaves': 20.340008959853733,\n",
       "     'reg_alpha': 0.19413344661062668,\n",
       "     'reg_lambda': 0.16137638470200302,\n",
       "     'subsample': 0.7066519849929105},\n",
       "    {'colsample_by_tree': 0.6028196762298043,\n",
       "     'max_depth': 4.078332965352429,\n",
       "     'min_child_weight': 2.0,\n",
       "     'min_split_gain': 0.1,\n",
       "     'num_leaves': 29.764630381611653,\n",
       "     'reg_alpha': 0.1745426136228561,\n",
       "     'reg_lambda': 0.10293544154222353,\n",
       "     'subsample': 0.7025318281004845},\n",
       "    {'colsample_by_tree': 0.6058399497337383,\n",
       "     'max_depth': 4.27576258603676,\n",
       "     'min_child_weight': 2.0,\n",
       "     'min_split_gain': 0.1,\n",
       "     'num_leaves': 24.43795752888592,\n",
       "     'reg_alpha': 0.1613870002137962,\n",
       "     'reg_lambda': 0.18447117233459068,\n",
       "     'subsample': 0.7393787770746038},\n",
       "    {'colsample_by_tree': 0.8890937109355745,\n",
       "     'max_depth': 8.839229914038624,\n",
       "     'min_child_weight': 2.0,\n",
       "     'min_split_gain': 0.1,\n",
       "     'num_leaves': 20.276279534553822,\n",
       "     'reg_alpha': 0.18897082404679363,\n",
       "     'reg_lambda': 0.018686551495568436,\n",
       "     'subsample': 0.9480273178325863},\n",
       "    {'colsample_by_tree': 0.894280972389695,\n",
       "     'max_depth': 4.1738845661918065,\n",
       "     'min_child_weight': 2.0,\n",
       "     'min_split_gain': 0.1,\n",
       "     'num_leaves': 29.968529818409095,\n",
       "     'reg_alpha': 0.023218120167345084,\n",
       "     'reg_lambda': 0.1632067592872577,\n",
       "     'subsample': 0.9120745604512057},\n",
       "    {'colsample_by_tree': 0.762339684372983,\n",
       "     'max_depth': 8.267493676780745,\n",
       "     'min_child_weight': 2.0,\n",
       "     'min_split_gain': 0.1,\n",
       "     'num_leaves': 24.9696476495244,\n",
       "     'reg_alpha': 0.19003218471261601,\n",
       "     'reg_lambda': 0.021577345076522154,\n",
       "     'subsample': 0.940170237143076},\n",
       "    {'colsample_by_tree': 0.6015164189281427,\n",
       "     'max_depth': 8.366833235457637,\n",
       "     'min_child_weight': 2.0,\n",
       "     'min_split_gain': 0.1,\n",
       "     'num_leaves': 20.078595955956246,\n",
       "     'reg_alpha': 0.16229847964616678,\n",
       "     'reg_lambda': 0.14641653609633468,\n",
       "     'subsample': 0.7182304243848903},\n",
       "    {'colsample_by_tree': 0.8875765030295768,\n",
       "     'max_depth': 5.970254217793036,\n",
       "     'min_child_weight': 2.0,\n",
       "     'min_split_gain': 0.1,\n",
       "     'num_leaves': 20.272575339735063,\n",
       "     'reg_alpha': 0.027183846815941777,\n",
       "     'reg_lambda': 0.1922388850343685,\n",
       "     'subsample': 0.9220454356505976},\n",
       "    {'colsample_by_tree': 0.8922002037126677,\n",
       "     'max_depth': 5.511335888209331,\n",
       "     'min_child_weight': 2.0,\n",
       "     'min_split_gain': 0.1,\n",
       "     'num_leaves': 29.78612208064461,\n",
       "     'reg_alpha': 0.1482060834058577,\n",
       "     'reg_lambda': 0.013439084639281458,\n",
       "     'subsample': 0.7052534150666204},\n",
       "    {'colsample_by_tree': 0.6235116893268574,\n",
       "     'max_depth': 4.107851016837684,\n",
       "     'min_child_weight': 2.0,\n",
       "     'min_split_gain': 0.1,\n",
       "     'num_leaves': 28.626599028146284,\n",
       "     'reg_alpha': 0.1116208239389035,\n",
       "     'reg_lambda': 0.01993567385729368,\n",
       "     'subsample': 0.9458862164674573},\n",
       "    {'colsample_by_tree': 0.8565234021698165,\n",
       "     'max_depth': 4.855378238982841,\n",
       "     'min_child_weight': 2.0,\n",
       "     'min_split_gain': 0.1,\n",
       "     'num_leaves': 21.960769938224598,\n",
       "     'reg_alpha': 0.19493563748474144,\n",
       "     'reg_lambda': 0.03146144427673491,\n",
       "     'subsample': 0.9422276963558615},\n",
       "    {'colsample_by_tree': 0.6759701129907115,\n",
       "     'max_depth': 4.045486148564293,\n",
       "     'min_child_weight': 2.0,\n",
       "     'min_split_gain': 0.1,\n",
       "     'num_leaves': 29.29304188010318,\n",
       "     'reg_alpha': 0.023031564430227483,\n",
       "     'reg_lambda': 0.013155897047553978,\n",
       "     'subsample': 0.7237673473590993},\n",
       "    {'colsample_by_tree': 0.8685271197145055,\n",
       "     'max_depth': 4.037684963618917,\n",
       "     'min_child_weight': 2.0,\n",
       "     'min_split_gain': 0.1,\n",
       "     'num_leaves': 28.940732684723404,\n",
       "     'reg_alpha': 0.19997970659621134,\n",
       "     'reg_lambda': 0.17525190374998623,\n",
       "     'subsample': 0.7214335070108511},\n",
       "    {'colsample_by_tree': 0.6544330078785816,\n",
       "     'max_depth': 6.6179291225233925,\n",
       "     'min_child_weight': 2.0,\n",
       "     'min_split_gain': 0.1,\n",
       "     'num_leaves': 29.95099165620822,\n",
       "     'reg_alpha': 0.16496631842794215,\n",
       "     'reg_lambda': 0.17923584028082867,\n",
       "     'subsample': 0.9282914660495999},\n",
       "    {'colsample_by_tree': 0.6096075391844124,\n",
       "     'max_depth': 5.274716819675544,\n",
       "     'min_child_weight': 2.0,\n",
       "     'min_split_gain': 0.1,\n",
       "     'num_leaves': 20.1950319351123,\n",
       "     'reg_alpha': 0.18437929546220355,\n",
       "     'reg_lambda': 0.1029202198501919,\n",
       "     'subsample': 0.7029906222920344},\n",
       "    {'colsample_by_tree': 0.8853800067755325,\n",
       "     'max_depth': 8.01288756095962,\n",
       "     'min_child_weight': 2.0,\n",
       "     'min_split_gain': 0.1,\n",
       "     'num_leaves': 21.324573581394848,\n",
       "     'reg_alpha': 0.18940958735149283,\n",
       "     'reg_lambda': 0.1724424476355401,\n",
       "     'subsample': 0.7063031919560502},\n",
       "    {'colsample_by_tree': 0.8045887152057419,\n",
       "     'max_depth': 9.938625304640835,\n",
       "     'min_child_weight': 2.0,\n",
       "     'min_split_gain': 0.1,\n",
       "     'num_leaves': 20.051438710053375,\n",
       "     'reg_alpha': 0.01757167081370243,\n",
       "     'reg_lambda': 0.016747075285427702,\n",
       "     'subsample': 0.7515323928981688},\n",
       "    {'colsample_by_tree': 0.807104993119153,\n",
       "     'max_depth': 4.001369281743673,\n",
       "     'min_child_weight': 2.0,\n",
       "     'min_split_gain': 0.1,\n",
       "     'num_leaves': 29.944597526445747,\n",
       "     'reg_alpha': 0.15355964492276192,\n",
       "     'reg_lambda': 0.018954604721135644,\n",
       "     'subsample': 0.9480917519936529}],\n",
       "   'values': [0.7739416268024545,\n",
       "    0.7733176485316738,\n",
       "    0.7732498888578442,\n",
       "    0.7735795613638844,\n",
       "    0.7730774343035591,\n",
       "    0.772823831101535,\n",
       "    0.7732011302901581,\n",
       "    0.772030934762209,\n",
       "    0.7726270187896122,\n",
       "    0.7732743012629534,\n",
       "    0.7731685753103491,\n",
       "    0.7738580299684097,\n",
       "    0.7731655785261986,\n",
       "    0.7732096226966853,\n",
       "    0.7734796158226379,\n",
       "    0.7723800426239725,\n",
       "    0.7731340785146678,\n",
       "    0.7725420962298536,\n",
       "    0.7722908773226544,\n",
       "    0.7740323769530684]},\n",
       "  'max': {'max_params': {'colsample_by_tree': 0.807104993119153,\n",
       "    'max_depth': 4.001369281743673,\n",
       "    'min_child_weight': 2.0,\n",
       "    'min_split_gain': 0.1,\n",
       "    'num_leaves': 29.944597526445747,\n",
       "    'reg_alpha': 0.15355964492276192,\n",
       "    'reg_lambda': 0.018954604721135644,\n",
       "    'subsample': 0.9480917519936529},\n",
       "   'max_val': 0.7740323769530684}},\n",
       " 'space': <bayes_opt.target_space.TargetSpace at 0x7efd56b22780>,\n",
       " 'util': <bayes_opt.helpers.UtilityFunction at 0x7efd56b227f0>,\n",
       " 'verbose': 1,\n",
       " 'x_init': [],\n",
       " 'y_init': []}"
      ]
     },
     "execution_count": 18,
     "metadata": {},
     "output_type": "execute_result"
    }
   ],
   "source": [
    "vars(xgb_BO)"
   ]
  }
 ],
 "metadata": {
  "kernelspec": {
   "display_name": "Python 3",
   "language": "python",
   "name": "python3"
  },
  "language_info": {
   "codemirror_mode": {
    "name": "ipython",
    "version": 3
   },
   "file_extension": ".py",
   "mimetype": "text/x-python",
   "name": "python",
   "nbconvert_exporter": "python",
   "pygments_lexer": "ipython3",
   "version": "3.6.5"
  }
 },
 "nbformat": 4,
 "nbformat_minor": 2
}
