{
 "cells": [
  {
   "cell_type": "code",
   "execution_count": 1,
   "metadata": {},
   "outputs": [],
   "source": [
    "import numpy as np\n",
    "import pandas as pd\n",
    "import feather\n",
    "from lightgbm import LGBMClassifier\n",
    "from skopt import BayesSearchCV\n",
    "from sklearn.model_selection import KFold"
   ]
  },
  {
   "cell_type": "code",
   "execution_count": 2,
   "metadata": {},
   "outputs": [],
   "source": [
    "def constrain_to_range(x,upper_lim,lower_lim):\n",
    "    return min(max(x, lower_lim),upper_lim)"
   ]
  },
  {
   "cell_type": "code",
   "execution_count": 3,
   "metadata": {},
   "outputs": [],
   "source": [
    "classifier = LGBMClassifier(verbose = 0, learning_rate = 0.02, metric = \"auc\", n_estimators = 3000, device = \"gpu\")\n",
    "lgbm_parameter_ranges = {\"num_leaves\":(20,40),\n",
    "                         \"colsample_by_tree\":(0.6,0.95),\n",
    "                         \"subsample\":(0.7,0.95),\n",
    "                         \"max_depth\":(4,10),\n",
    "                         \"reg_alpha\":(0.01,0.2),\n",
    "                         \"reg_lambda\":(0.01,0.2),\n",
    "                         \"min_split_gain\":(0.01,0.1),\n",
    "                         \"min_child_weight\":(1,10)}"
   ]
  },
  {
   "cell_type": "code",
   "execution_count": 4,
   "metadata": {},
   "outputs": [],
   "source": [
    "bayes_cv = BayesSearchCV(estimator = classifier,\n",
    "                         search_spaces = lgbm_parameter_ranges,\n",
    "                         scoring = \"roc_auc\",\n",
    "                         n_iter = 10,\n",
    "                         cv = 5,\n",
    "                         verbose = 1)"
   ]
  },
  {
   "cell_type": "code",
   "execution_count": 5,
   "metadata": {},
   "outputs": [],
   "source": [
    "train = pd.read_feather(\"./../Solution attempts/v09 train data.feather\")\n",
    "target = pd.read_feather(\"./../Solution attempts/v09 target.feather\")[\"TARGET\"]"
   ]
  },
  {
   "cell_type": "code",
   "execution_count": 6,
   "metadata": {},
   "outputs": [
    {
     "name": "stdout",
     "output_type": "stream",
     "text": [
      "Fitting 5 folds for each of 1 candidates, totalling 5 fits\n"
     ]
    },
    {
     "name": "stderr",
     "output_type": "stream",
     "text": [
      "[Parallel(n_jobs=1)]: Done   5 out of   5 | elapsed:  6.0min finished\n"
     ]
    },
    {
     "name": "stdout",
     "output_type": "stream",
     "text": [
      "Fitting 5 folds for each of 1 candidates, totalling 5 fits\n"
     ]
    },
    {
     "name": "stderr",
     "output_type": "stream",
     "text": [
      "[Parallel(n_jobs=1)]: Done   5 out of   5 | elapsed:  4.8min finished\n"
     ]
    },
    {
     "name": "stdout",
     "output_type": "stream",
     "text": [
      "Fitting 5 folds for each of 1 candidates, totalling 5 fits\n"
     ]
    },
    {
     "name": "stderr",
     "output_type": "stream",
     "text": [
      "[Parallel(n_jobs=1)]: Done   5 out of   5 | elapsed:  4.8min finished\n"
     ]
    },
    {
     "name": "stdout",
     "output_type": "stream",
     "text": [
      "Fitting 5 folds for each of 1 candidates, totalling 5 fits\n"
     ]
    },
    {
     "name": "stderr",
     "output_type": "stream",
     "text": [
      "[Parallel(n_jobs=1)]: Done   5 out of   5 | elapsed:  5.3min finished\n"
     ]
    },
    {
     "name": "stdout",
     "output_type": "stream",
     "text": [
      "Fitting 5 folds for each of 1 candidates, totalling 5 fits\n"
     ]
    },
    {
     "name": "stderr",
     "output_type": "stream",
     "text": [
      "[Parallel(n_jobs=1)]: Done   5 out of   5 | elapsed:  4.9min finished\n"
     ]
    },
    {
     "name": "stdout",
     "output_type": "stream",
     "text": [
      "Fitting 5 folds for each of 1 candidates, totalling 5 fits\n"
     ]
    },
    {
     "name": "stderr",
     "output_type": "stream",
     "text": [
      "[Parallel(n_jobs=1)]: Done   5 out of   5 | elapsed:  5.2min finished\n"
     ]
    },
    {
     "name": "stdout",
     "output_type": "stream",
     "text": [
      "Fitting 5 folds for each of 1 candidates, totalling 5 fits\n"
     ]
    },
    {
     "name": "stderr",
     "output_type": "stream",
     "text": [
      "[Parallel(n_jobs=1)]: Done   5 out of   5 | elapsed:  4.4min finished\n"
     ]
    },
    {
     "name": "stdout",
     "output_type": "stream",
     "text": [
      "Fitting 5 folds for each of 1 candidates, totalling 5 fits\n"
     ]
    },
    {
     "name": "stderr",
     "output_type": "stream",
     "text": [
      "[Parallel(n_jobs=1)]: Done   5 out of   5 | elapsed:  6.5min finished\n"
     ]
    },
    {
     "name": "stdout",
     "output_type": "stream",
     "text": [
      "Fitting 5 folds for each of 1 candidates, totalling 5 fits\n"
     ]
    },
    {
     "name": "stderr",
     "output_type": "stream",
     "text": [
      "[Parallel(n_jobs=1)]: Done   5 out of   5 | elapsed:  3.7min finished\n"
     ]
    },
    {
     "name": "stdout",
     "output_type": "stream",
     "text": [
      "Fitting 5 folds for each of 1 candidates, totalling 5 fits\n"
     ]
    },
    {
     "name": "stderr",
     "output_type": "stream",
     "text": [
      "[Parallel(n_jobs=1)]: Done   5 out of   5 | elapsed:  4.9min finished\n"
     ]
    }
   ],
   "source": [
    "result = bayes_cv.fit(train, target)"
   ]
  },
  {
   "cell_type": "code",
   "execution_count": 8,
   "metadata": {},
   "outputs": [
    {
     "data": {
      "text/plain": [
       "{'best_estimator_': LGBMClassifier(boosting_type='gbdt', class_weight=None,\n",
       "         colsample_by_tree=0.890363707448339, colsample_bytree=1.0,\n",
       "         device='gpu', importance_type='split', learning_rate=0.02,\n",
       "         max_depth=4, metric='auc', min_child_samples=20,\n",
       "         min_child_weight=9, min_split_gain=0.09271570164344667,\n",
       "         n_estimators=3000, n_jobs=-1, num_leaves=24, objective=None,\n",
       "         random_state=None, reg_alpha=0.08389077206147642,\n",
       "         reg_lambda=0.09134552272436029, silent=True,\n",
       "         subsample=0.7707792041437583, subsample_for_bin=200000,\n",
       "         subsample_freq=0, verbose=0),\n",
       " 'best_index_': 8,\n",
       " 'cv': 5,\n",
       " 'cv_results_': defaultdict(list,\n",
       "             {'mean_fit_time': [67.01760053634644,\n",
       "               53.821556901931764,\n",
       "               54.52278985977173,\n",
       "               59.80710654258728,\n",
       "               54.64923405647278,\n",
       "               58.3823842048645,\n",
       "               49.58451762199402,\n",
       "               73.2758309841156,\n",
       "               41.26159048080444,\n",
       "               53.94464111328125],\n",
       "              'mean_score_time': [4.7488549709320065,\n",
       "               4.1028741836547855,\n",
       "               3.3667211055755617,\n",
       "               3.675136852264404,\n",
       "               4.311935997009277,\n",
       "               4.051335716247559,\n",
       "               3.80581316947937,\n",
       "               4.170320844650268,\n",
       "               3.1842867851257326,\n",
       "               4.294407367706299],\n",
       "              'mean_test_score': [0.7780477333962462,\n",
       "               0.7813802892706044,\n",
       "               0.7784052469388926,\n",
       "               0.7784493937512375,\n",
       "               0.7811225143932145,\n",
       "               0.7797617685910169,\n",
       "               0.7815654011576282,\n",
       "               0.7771844297060689,\n",
       "               0.782753351517681,\n",
       "               0.7813594276267383],\n",
       "              'param_colsample_by_tree': [0.8093616635701599,\n",
       "               0.8151845213103999,\n",
       "               0.6661039756514705,\n",
       "               0.716755436138692,\n",
       "               0.8650953901448217,\n",
       "               0.9182716010281704,\n",
       "               0.6128483111863671,\n",
       "               0.8658099604489716,\n",
       "               0.890363707448339,\n",
       "               0.8110936274525828],\n",
       "              'param_max_depth': [7, 5, 7, 8, 5, 7, 5, 10, 4, 5],\n",
       "              'param_min_child_weight': [4, 5, 2, 3, 2, 6, 7, 2, 9, 7],\n",
       "              'param_min_split_gain': [0.054857016689458936,\n",
       "               0.08024279673653531,\n",
       "               0.06120857750183351,\n",
       "               0.09295684997793938,\n",
       "               0.014939192647798598,\n",
       "               0.037499479780661156,\n",
       "               0.06603581504759468,\n",
       "               0.09140076297430554,\n",
       "               0.09271570164344667,\n",
       "               0.02457966128221066],\n",
       "              'param_num_leaves': [35, 27, 24, 28, 28, 27, 21, 39, 24, 38],\n",
       "              'param_reg_alpha': [0.1808855833344931,\n",
       "               0.14198978310914975,\n",
       "               0.07141456512365327,\n",
       "               0.07290819642731444,\n",
       "               0.09830559324309647,\n",
       "               0.024215363961727063,\n",
       "               0.05907368823839104,\n",
       "               0.016908747350338788,\n",
       "               0.08389077206147642,\n",
       "               0.1866214750652247],\n",
       "              'param_reg_lambda': [0.09954501961956444,\n",
       "               0.18435185713472232,\n",
       "               0.06993860519722532,\n",
       "               0.11733387833767302,\n",
       "               0.13980085321780458,\n",
       "               0.1646329218663695,\n",
       "               0.0484555827791209,\n",
       "               0.1981709863997445,\n",
       "               0.09134552272436029,\n",
       "               0.11007448342423827],\n",
       "              'param_subsample': [0.7221650344330446,\n",
       "               0.7421348392913799,\n",
       "               0.8334320701724729,\n",
       "               0.9366272352807385,\n",
       "               0.7812737811827273,\n",
       "               0.8014612939679242,\n",
       "               0.8021455013399235,\n",
       "               0.8683950252109589,\n",
       "               0.7707792041437583,\n",
       "               0.7511218907714005],\n",
       "              'params': [{'colsample_by_tree': 0.8093616635701599,\n",
       "                'max_depth': 7,\n",
       "                'min_child_weight': 4,\n",
       "                'min_split_gain': 0.054857016689458936,\n",
       "                'num_leaves': 35,\n",
       "                'reg_alpha': 0.1808855833344931,\n",
       "                'reg_lambda': 0.09954501961956444,\n",
       "                'subsample': 0.7221650344330446},\n",
       "               {'colsample_by_tree': 0.8151845213103999,\n",
       "                'max_depth': 5,\n",
       "                'min_child_weight': 5,\n",
       "                'min_split_gain': 0.08024279673653531,\n",
       "                'num_leaves': 27,\n",
       "                'reg_alpha': 0.14198978310914975,\n",
       "                'reg_lambda': 0.18435185713472232,\n",
       "                'subsample': 0.7421348392913799},\n",
       "               {'colsample_by_tree': 0.6661039756514705,\n",
       "                'max_depth': 7,\n",
       "                'min_child_weight': 2,\n",
       "                'min_split_gain': 0.06120857750183351,\n",
       "                'num_leaves': 24,\n",
       "                'reg_alpha': 0.07141456512365327,\n",
       "                'reg_lambda': 0.06993860519722532,\n",
       "                'subsample': 0.8334320701724729},\n",
       "               {'colsample_by_tree': 0.716755436138692,\n",
       "                'max_depth': 8,\n",
       "                'min_child_weight': 3,\n",
       "                'min_split_gain': 0.09295684997793938,\n",
       "                'num_leaves': 28,\n",
       "                'reg_alpha': 0.07290819642731444,\n",
       "                'reg_lambda': 0.11733387833767302,\n",
       "                'subsample': 0.9366272352807385},\n",
       "               {'colsample_by_tree': 0.8650953901448217,\n",
       "                'max_depth': 5,\n",
       "                'min_child_weight': 2,\n",
       "                'min_split_gain': 0.014939192647798598,\n",
       "                'num_leaves': 28,\n",
       "                'reg_alpha': 0.09830559324309647,\n",
       "                'reg_lambda': 0.13980085321780458,\n",
       "                'subsample': 0.7812737811827273},\n",
       "               {'colsample_by_tree': 0.9182716010281704,\n",
       "                'max_depth': 7,\n",
       "                'min_child_weight': 6,\n",
       "                'min_split_gain': 0.037499479780661156,\n",
       "                'num_leaves': 27,\n",
       "                'reg_alpha': 0.024215363961727063,\n",
       "                'reg_lambda': 0.1646329218663695,\n",
       "                'subsample': 0.8014612939679242},\n",
       "               {'colsample_by_tree': 0.6128483111863671,\n",
       "                'max_depth': 5,\n",
       "                'min_child_weight': 7,\n",
       "                'min_split_gain': 0.06603581504759468,\n",
       "                'num_leaves': 21,\n",
       "                'reg_alpha': 0.05907368823839104,\n",
       "                'reg_lambda': 0.0484555827791209,\n",
       "                'subsample': 0.8021455013399235},\n",
       "               {'colsample_by_tree': 0.8658099604489716,\n",
       "                'max_depth': 10,\n",
       "                'min_child_weight': 2,\n",
       "                'min_split_gain': 0.09140076297430554,\n",
       "                'num_leaves': 39,\n",
       "                'reg_alpha': 0.016908747350338788,\n",
       "                'reg_lambda': 0.1981709863997445,\n",
       "                'subsample': 0.8683950252109589},\n",
       "               {'colsample_by_tree': 0.890363707448339,\n",
       "                'max_depth': 4,\n",
       "                'min_child_weight': 9,\n",
       "                'min_split_gain': 0.09271570164344667,\n",
       "                'num_leaves': 24,\n",
       "                'reg_alpha': 0.08389077206147642,\n",
       "                'reg_lambda': 0.09134552272436029,\n",
       "                'subsample': 0.7707792041437583},\n",
       "               {'colsample_by_tree': 0.8110936274525828,\n",
       "                'max_depth': 5,\n",
       "                'min_child_weight': 7,\n",
       "                'min_split_gain': 0.02457966128221066,\n",
       "                'num_leaves': 38,\n",
       "                'reg_alpha': 0.1866214750652247,\n",
       "                'reg_lambda': 0.11007448342423827,\n",
       "                'subsample': 0.7511218907714005}],\n",
       "              'rank_test_score': [1, 1, 1, 1, 1, 1, 1, 1, 1, 1],\n",
       "              'split0_test_score': [0.7711629537221479,\n",
       "               0.7792149667574682,\n",
       "               0.7712110601085093,\n",
       "               0.7721534415605906,\n",
       "               0.7797499045014846,\n",
       "               0.777657223259053,\n",
       "               0.7789120432934679,\n",
       "               0.7697993350246805,\n",
       "               0.7823836436576429,\n",
       "               0.7793636997060002],\n",
       "              'split1_test_score': [0.7792230563624342,\n",
       "               0.7825652446834939,\n",
       "               0.7789471166125451,\n",
       "               0.7803881357022371,\n",
       "               0.7814867861577909,\n",
       "               0.7806769251858896,\n",
       "               0.7827691874499176,\n",
       "               0.7787911848973911,\n",
       "               0.7839599199454818,\n",
       "               0.7819126798426134],\n",
       "              'split2_test_score': [0.7754968651298606,\n",
       "               0.7778350250576043,\n",
       "               0.7753797141748255,\n",
       "               0.7757682841389273,\n",
       "               0.7773461117469775,\n",
       "               0.7749524168872577,\n",
       "               0.7768325605769919,\n",
       "               0.7743254161410503,\n",
       "               0.7771574696754566,\n",
       "               0.7772228725759731],\n",
       "              'split3_test_score': [0.7821723036011975,\n",
       "               0.7831817041593363,\n",
       "               0.7835086011012832,\n",
       "               0.7824254472750256,\n",
       "               0.783911983705526,\n",
       "               0.7828284201982639,\n",
       "               0.7846014198368005,\n",
       "               0.7823504186521277,\n",
       "               0.7852132873229504,\n",
       "               0.7840830451182939],\n",
       "              'split4_test_score': [0.7821836001095879,\n",
       "               0.7841045409024712,\n",
       "               0.7829798596721437,\n",
       "               0.7815117624492839,\n",
       "               0.783117808172427,\n",
       "               0.7826938916437562,\n",
       "               0.7847118377735895,\n",
       "               0.7806559138940302,\n",
       "               0.7850524429981874,\n",
       "               0.7842148733406161],\n",
       "              'std_fit_time': [0.6500994424480925,\n",
       "               0.4238111631852309,\n",
       "               0.47617775252015765,\n",
       "               0.49737302280440543,\n",
       "               0.3362218534925712,\n",
       "               0.6054581680042889,\n",
       "               0.4060785807764426,\n",
       "               0.8492057056403385,\n",
       "               0.3126093753410978,\n",
       "               0.2761381135077294],\n",
       "              'std_score_time': [0.08282427288261202,\n",
       "               0.051709256529561466,\n",
       "               0.04579001383554783,\n",
       "               0.06815504214355611,\n",
       "               0.04689804646303906,\n",
       "               0.06117109575782071,\n",
       "               0.026916076659198235,\n",
       "               0.0888367226115668,\n",
       "               0.025421335980508532,\n",
       "               0.03941293452958068],\n",
       "              'std_test_score': [0.004228627601498612,\n",
       "               0.0024219109262477697,\n",
       "               0.004651356587618748,\n",
       "               0.0038929059805036478,\n",
       "               0.002368131944753477,\n",
       "               0.0030462470440527855,\n",
       "               0.003162486806551188,\n",
       "               0.004561456719138674,\n",
       "               0.0029746713772435046,\n",
       "               0.002719254038624799]}),\n",
       " 'error_score': 'raise',\n",
       " 'estimator': LGBMClassifier(boosting_type='gbdt', class_weight=None, colsample_bytree=1.0,\n",
       "         device='gpu', importance_type='split', learning_rate=0.02,\n",
       "         max_depth=-1, metric='auc', min_child_samples=20,\n",
       "         min_child_weight=0.001, min_split_gain=0.0, n_estimators=3000,\n",
       "         n_jobs=-1, num_leaves=31, objective=None, random_state=None,\n",
       "         reg_alpha=0.0, reg_lambda=0.0, silent=True, subsample=1.0,\n",
       "         subsample_for_bin=200000, subsample_freq=0, verbose=0),\n",
       " 'fit_params': None,\n",
       " 'iid': True,\n",
       " 'multimetric_': False,\n",
       " 'n_iter': 10,\n",
       " 'n_jobs': 1,\n",
       " 'n_points': 1,\n",
       " 'n_splits_': 5,\n",
       " 'optimizer_kwargs': None,\n",
       " 'optimizer_kwargs_': {'random_state': <mtrand.RandomState at 0x7fc59c0feaf8>},\n",
       " 'optimizers_': [<skopt.optimizer.optimizer.Optimizer at 0x7fc57565a6d8>],\n",
       " 'pre_dispatch': '2*n_jobs',\n",
       " 'random_state': None,\n",
       " 'refit': True,\n",
       " 'return_train_score': False,\n",
       " 'scorer_': make_scorer(roc_auc_score, needs_threshold=True),\n",
       " 'scoring': 'roc_auc',\n",
       " 'search_spaces': {'colsample_by_tree': (0.6, 0.95),\n",
       "  'max_depth': (4, 10),\n",
       "  'min_child_weight': (1, 10),\n",
       "  'min_split_gain': (0.01, 0.1),\n",
       "  'num_leaves': (20, 40),\n",
       "  'reg_alpha': (0.01, 0.2),\n",
       "  'reg_lambda': (0.01, 0.2),\n",
       "  'subsample': (0.7, 0.95)},\n",
       " 'verbose': 1}"
      ]
     },
     "execution_count": 8,
     "metadata": {},
     "output_type": "execute_result"
    }
   ],
   "source": [
    "vars(result)"
   ]
  }
 ],
 "metadata": {
  "kernelspec": {
   "display_name": "Python 3",
   "language": "python",
   "name": "python3"
  },
  "language_info": {
   "codemirror_mode": {
    "name": "ipython",
    "version": 3
   },
   "file_extension": ".py",
   "mimetype": "text/x-python",
   "name": "python",
   "nbconvert_exporter": "python",
   "pygments_lexer": "ipython3",
   "version": "3.6.5"
  }
 },
 "nbformat": 4,
 "nbformat_minor": 2
}
